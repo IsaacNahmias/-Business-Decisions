{
 "cells": [
  {
   "cell_type": "markdown",
   "metadata": {},
   "source": [
    "# Making Business Decisions Based on Data - Course project\n",
    "\n",
    "    by Isaac Nahmias\n",
    "    Jan 2022\n",
    "\n",
    "### Abstract\n",
    "\n",
    "I am an analyst at a big online store. Together with the marketing department, I've compiled a list of hypotheses that may help boost revenue.\\\n",
    "In this paper I will prioritize these hypotheses, launch an A/B test, and analyze the results.\n",
    "\n",
    "### Description of the data\n",
    "\n",
    "#### Data used in the first part of the project\n",
    "\n",
    "**`df1`** table from `hypotheses_us.csv`:\n",
    "\n",
    "* `Hypotheses` — brief descriptions of the hypotheses\n",
    "* `Reach` — user reach, on a scale of one to ten\n",
    "* `Impact` — impact on users, on a scale of one to ten\n",
    "* `Confidence` — confidence in the hypothesis, on a scale of one to ten\n",
    "* `Effort` — the resources required to test a hypothesis, on a scale of one to ten. The higher the Effort value, the more resource-intensive the test.\n",
    "    \n",
    "\n",
    "#### Data used in the second part of the project\n",
    "\n",
    "**`orders`** table from `orders_us.csv`:\n",
    "\n",
    "* `transactionId` — order identifier\n",
    "* `visitorId` — identifier of the user who placed the order\n",
    "* `date` — of the order\n",
    "* `revenue` — from the order\n",
    "* `group` — the A/B test group that the user belongs to\n",
    "\n",
    "**`visitors`** table from `visits_us.csv`:\n",
    "\n",
    "* `date` — date\n",
    "* `group` — A/B test group\n",
    "* `visits` — the number of visits on the date specified in the A/B test group specified\n",
    "\n",
    "### Importing libaries"
   ]
  },
  {
   "cell_type": "code",
   "execution_count": 1,
   "metadata": {},
   "outputs": [],
   "source": [
    "import pandas as pd\n",
    "import scipy.stats as stats\n",
    "import datetime as dt\n",
    "import numpy as np"
   ]
  },
  {
   "cell_type": "code",
   "execution_count": 2,
   "metadata": {},
   "outputs": [],
   "source": [
    "import matplotlib.pyplot as plt\n",
    "import seaborn as sns\n",
    "import plotly.express as px\n",
    "import plotly.graph_objects as go"
   ]
  },
  {
   "cell_type": "code",
   "execution_count": 37,
   "metadata": {},
   "outputs": [],
   "source": [
    "sns.set(style='darkgrid',palette='Dark2')"
   ]
  },
  {
   "cell_type": "markdown",
   "metadata": {},
   "source": [
    "## Part I - Prioritizing Hypotheses"
   ]
  },
  {
   "cell_type": "code",
   "execution_count": 10,
   "metadata": {},
   "outputs": [
    {
     "data": {
      "text/html": [
       "<div>\n",
       "<style scoped>\n",
       "    .dataframe tbody tr th:only-of-type {\n",
       "        vertical-align: middle;\n",
       "    }\n",
       "\n",
       "    .dataframe tbody tr th {\n",
       "        vertical-align: top;\n",
       "    }\n",
       "\n",
       "    .dataframe thead th {\n",
       "        text-align: right;\n",
       "    }\n",
       "</style>\n",
       "<table border=\"1\" class=\"dataframe\">\n",
       "  <thead>\n",
       "    <tr style=\"text-align: right;\">\n",
       "      <th></th>\n",
       "      <th>hypothesis</th>\n",
       "      <th>reach</th>\n",
       "      <th>impact</th>\n",
       "      <th>confidence</th>\n",
       "      <th>effort</th>\n",
       "    </tr>\n",
       "  </thead>\n",
       "  <tbody>\n",
       "    <tr>\n",
       "      <th>0</th>\n",
       "      <td>Add two new channels for attracting traffic. This will bring 30% more users</td>\n",
       "      <td>3</td>\n",
       "      <td>10</td>\n",
       "      <td>8</td>\n",
       "      <td>6</td>\n",
       "    </tr>\n",
       "    <tr>\n",
       "      <th>1</th>\n",
       "      <td>Launch your own delivery service. This will shorten delivery time</td>\n",
       "      <td>2</td>\n",
       "      <td>5</td>\n",
       "      <td>4</td>\n",
       "      <td>10</td>\n",
       "    </tr>\n",
       "    <tr>\n",
       "      <th>2</th>\n",
       "      <td>Add product recommendation blocks to the store's site. This will increase conversion and average purchase size</td>\n",
       "      <td>8</td>\n",
       "      <td>3</td>\n",
       "      <td>7</td>\n",
       "      <td>3</td>\n",
       "    </tr>\n",
       "    <tr>\n",
       "      <th>3</th>\n",
       "      <td>Change the category structure. This will increase conversion since users will find the products they want more quickly</td>\n",
       "      <td>8</td>\n",
       "      <td>3</td>\n",
       "      <td>3</td>\n",
       "      <td>8</td>\n",
       "    </tr>\n",
       "    <tr>\n",
       "      <th>4</th>\n",
       "      <td>Change the background color on the main page. This will increase user engagement</td>\n",
       "      <td>3</td>\n",
       "      <td>1</td>\n",
       "      <td>1</td>\n",
       "      <td>1</td>\n",
       "    </tr>\n",
       "    <tr>\n",
       "      <th>5</th>\n",
       "      <td>Add a customer review page. This will increase the number of orders</td>\n",
       "      <td>3</td>\n",
       "      <td>2</td>\n",
       "      <td>2</td>\n",
       "      <td>3</td>\n",
       "    </tr>\n",
       "    <tr>\n",
       "      <th>6</th>\n",
       "      <td>Show banners with current offers and sales on the main page. This will boost conversion</td>\n",
       "      <td>5</td>\n",
       "      <td>3</td>\n",
       "      <td>8</td>\n",
       "      <td>3</td>\n",
       "    </tr>\n",
       "    <tr>\n",
       "      <th>7</th>\n",
       "      <td>Add a subscription form to all the main pages. This will help you compile a mailing list</td>\n",
       "      <td>10</td>\n",
       "      <td>7</td>\n",
       "      <td>8</td>\n",
       "      <td>5</td>\n",
       "    </tr>\n",
       "    <tr>\n",
       "      <th>8</th>\n",
       "      <td>Launch a promotion that gives users discounts on their birthdays</td>\n",
       "      <td>1</td>\n",
       "      <td>9</td>\n",
       "      <td>9</td>\n",
       "      <td>5</td>\n",
       "    </tr>\n",
       "  </tbody>\n",
       "</table>\n",
       "</div>"
      ],
      "text/plain": [
       "                                                                                                               hypothesis  \\\n",
       "0                                             Add two new channels for attracting traffic. This will bring 30% more users   \n",
       "1                                                       Launch your own delivery service. This will shorten delivery time   \n",
       "2          Add product recommendation blocks to the store's site. This will increase conversion and average purchase size   \n",
       "3  Change the category structure. This will increase conversion since users will find the products they want more quickly   \n",
       "4                                        Change the background color on the main page. This will increase user engagement   \n",
       "5                                                     Add a customer review page. This will increase the number of orders   \n",
       "6                                 Show banners with current offers and sales on the main page. This will boost conversion   \n",
       "7                                Add a subscription form to all the main pages. This will help you compile a mailing list   \n",
       "8                                                        Launch a promotion that gives users discounts on their birthdays   \n",
       "\n",
       "   reach  impact  confidence  effort  \n",
       "0      3      10           8       6  \n",
       "1      2       5           4      10  \n",
       "2      8       3           7       3  \n",
       "3      8       3           3       8  \n",
       "4      3       1           1       1  \n",
       "5      3       2           2       3  \n",
       "6      5       3           8       3  \n",
       "7     10       7           8       5  \n",
       "8      1       9           9       5  "
      ]
     },
     "execution_count": 10,
     "metadata": {},
     "output_type": "execute_result"
    }
   ],
   "source": [
    "df1 = pd.read_csv('hypotheses_us.csv', sep=';')\n",
    "df1.columns = df1.columns.str.lower().str.replace(' ', '_')\n",
    "df1.head(10)"
   ]
  },
  {
   "cell_type": "markdown",
   "metadata": {},
   "source": [
    "### ICE framework to prioritize hypotheses\n",
    "\n",
    "> $ICE = \\frac{impact \\times confidence}{effort} $"
   ]
  },
  {
   "cell_type": "code",
   "execution_count": 11,
   "metadata": {},
   "outputs": [],
   "source": [
    "df1['ICE'] = (df21.impact * df21.confidence) / df21.effort"
   ]
  },
  {
   "cell_type": "code",
   "execution_count": 12,
   "metadata": {},
   "outputs": [
    {
     "data": {
      "text/html": [
       "<div>\n",
       "<style scoped>\n",
       "    .dataframe tbody tr th:only-of-type {\n",
       "        vertical-align: middle;\n",
       "    }\n",
       "\n",
       "    .dataframe tbody tr th {\n",
       "        vertical-align: top;\n",
       "    }\n",
       "\n",
       "    .dataframe thead th {\n",
       "        text-align: right;\n",
       "    }\n",
       "</style>\n",
       "<table border=\"1\" class=\"dataframe\">\n",
       "  <thead>\n",
       "    <tr style=\"text-align: right;\">\n",
       "      <th></th>\n",
       "      <th>hypothesis</th>\n",
       "      <th>ICE</th>\n",
       "    </tr>\n",
       "  </thead>\n",
       "  <tbody>\n",
       "    <tr>\n",
       "      <th>8</th>\n",
       "      <td>Launch a promotion that gives users discounts on their birthdays</td>\n",
       "      <td>16.200000</td>\n",
       "    </tr>\n",
       "    <tr>\n",
       "      <th>0</th>\n",
       "      <td>Add two new channels for attracting traffic. This will bring 30% more users</td>\n",
       "      <td>13.333333</td>\n",
       "    </tr>\n",
       "    <tr>\n",
       "      <th>7</th>\n",
       "      <td>Add a subscription form to all the main pages. This will help you compile a mailing list</td>\n",
       "      <td>11.200000</td>\n",
       "    </tr>\n",
       "    <tr>\n",
       "      <th>6</th>\n",
       "      <td>Show banners with current offers and sales on the main page. This will boost conversion</td>\n",
       "      <td>8.000000</td>\n",
       "    </tr>\n",
       "    <tr>\n",
       "      <th>2</th>\n",
       "      <td>Add product recommendation blocks to the store's site. This will increase conversion and average purchase size</td>\n",
       "      <td>7.000000</td>\n",
       "    </tr>\n",
       "  </tbody>\n",
       "</table>\n",
       "</div>"
      ],
      "text/plain": [
       "                                                                                                       hypothesis  \\\n",
       "8                                                Launch a promotion that gives users discounts on their birthdays   \n",
       "0                                     Add two new channels for attracting traffic. This will bring 30% more users   \n",
       "7                        Add a subscription form to all the main pages. This will help you compile a mailing list   \n",
       "6                         Show banners with current offers and sales on the main page. This will boost conversion   \n",
       "2  Add product recommendation blocks to the store's site. This will increase conversion and average purchase size   \n",
       "\n",
       "         ICE  \n",
       "8  16.200000  \n",
       "0  13.333333  \n",
       "7  11.200000  \n",
       "6   8.000000  \n",
       "2   7.000000  "
      ]
     },
     "execution_count": 12,
     "metadata": {},
     "output_type": "execute_result"
    }
   ],
   "source": [
    "pd.options.display.max_colwidth = 150\n",
    "df1[['hypothesis','ICE']].sort_values(by='ICE', ascending=False).head()"
   ]
  },
  {
   "cell_type": "markdown",
   "metadata": {},
   "source": [
    "### RICE framework to prioritize hypotheses\n",
    "\n",
    "> $RICE = reach \\times \\frac{impact \\times confidence}{effort} $"
   ]
  },
  {
   "cell_type": "code",
   "execution_count": 14,
   "metadata": {},
   "outputs": [],
   "source": [
    "df1['RICE'] = df21.reach * df21.ICE"
   ]
  },
  {
   "cell_type": "code",
   "execution_count": 15,
   "metadata": {},
   "outputs": [
    {
     "data": {
      "text/html": [
       "<div>\n",
       "<style scoped>\n",
       "    .dataframe tbody tr th:only-of-type {\n",
       "        vertical-align: middle;\n",
       "    }\n",
       "\n",
       "    .dataframe tbody tr th {\n",
       "        vertical-align: top;\n",
       "    }\n",
       "\n",
       "    .dataframe thead th {\n",
       "        text-align: right;\n",
       "    }\n",
       "</style>\n",
       "<table border=\"1\" class=\"dataframe\">\n",
       "  <thead>\n",
       "    <tr style=\"text-align: right;\">\n",
       "      <th></th>\n",
       "      <th>hypothesis</th>\n",
       "      <th>RICE</th>\n",
       "    </tr>\n",
       "  </thead>\n",
       "  <tbody>\n",
       "    <tr>\n",
       "      <th>7</th>\n",
       "      <td>Add a subscription form to all the main pages. This will help you compile a mailing list</td>\n",
       "      <td>112.0</td>\n",
       "    </tr>\n",
       "    <tr>\n",
       "      <th>2</th>\n",
       "      <td>Add product recommendation blocks to the store's site. This will increase conversion and average purchase size</td>\n",
       "      <td>56.0</td>\n",
       "    </tr>\n",
       "    <tr>\n",
       "      <th>0</th>\n",
       "      <td>Add two new channels for attracting traffic. This will bring 30% more users</td>\n",
       "      <td>40.0</td>\n",
       "    </tr>\n",
       "    <tr>\n",
       "      <th>6</th>\n",
       "      <td>Show banners with current offers and sales on the main page. This will boost conversion</td>\n",
       "      <td>40.0</td>\n",
       "    </tr>\n",
       "    <tr>\n",
       "      <th>8</th>\n",
       "      <td>Launch a promotion that gives users discounts on their birthdays</td>\n",
       "      <td>16.2</td>\n",
       "    </tr>\n",
       "  </tbody>\n",
       "</table>\n",
       "</div>"
      ],
      "text/plain": [
       "                                                                                                       hypothesis  \\\n",
       "7                        Add a subscription form to all the main pages. This will help you compile a mailing list   \n",
       "2  Add product recommendation blocks to the store's site. This will increase conversion and average purchase size   \n",
       "0                                     Add two new channels for attracting traffic. This will bring 30% more users   \n",
       "6                         Show banners with current offers and sales on the main page. This will boost conversion   \n",
       "8                                                Launch a promotion that gives users discounts on their birthdays   \n",
       "\n",
       "    RICE  \n",
       "7  112.0  \n",
       "2   56.0  \n",
       "0   40.0  \n",
       "6   40.0  \n",
       "8   16.2  "
      ]
     },
     "execution_count": 15,
     "metadata": {},
     "output_type": "execute_result"
    }
   ],
   "source": [
    "df1[['hypothesis','RICE']].sort_values(by='RICE', ascending=False).head()"
   ]
  },
  {
   "cell_type": "code",
   "execution_count": 46,
   "metadata": {},
   "outputs": [
    {
     "data": {
      "image/png": "[encoded data removed]",
      "text/plain": [
       "<Figure size 1080x360 with 1 Axes>"
      ]
     },
     "metadata": {},
     "output_type": "display_data"
    }
   ],
   "source": [
    "n = df1.index\n",
    "plt.figure(figsize=(15,5))\n",
    "ax = sns.scatterplot(x=df1['ICE'],y=df1['RICE'])\n",
    "for i, txt in enumerate(n):\n",
    "    ax.annotate(txt, (df1['ICE'][i], df1['RICE'][i]))\n",
    "plt.title('RICE / ICE',fontdict={'fontsize':14})\n",
    "plt.show()"
   ]
  },
  {
   "cell_type": "markdown",
   "metadata": {},
   "source": [
    "### Section summery\n",
    "Applying the ICE methood generates a score for every hypotheses in our list. The score is the ratio between the impact on the users and the costs of this testing. According to the ICE methood our number one priority is to test hypothesis #8: \"Launch a promotion that gives users discounts on their birthdays\".\\\n",
    "The RICE methood for prioritizing tasks is almost exactly like the ICE methood, but this time we are taking into account the number of users that will be affected by the update.\\\n",
    "For example, hypothesis #8 has dropped down from first place to 5th place because in terms of the number of users it is supposed to reach, its rating is only 1 in 10, and now our number one priority is to test hypothsis #7: \"Add a subscription form to all the main pages. This will help you compile a mailing list\", which was at third place before. hypothesis number 7 is the one with the highest cost-effectiveness ratio when considering the amount of users who are likely to be affected by the update.\n",
    "\n",
    "I would recommand to start first with hypothesis number 7: *Add a subscription form to all the main pages. This will help you compile a mailing list*."
   ]
  },
  {
   "cell_type": "markdown",
   "metadata": {},
   "source": [
    "## Part II - A/B Test Analysis\n",
    "\n",
    "**Uploading the data and preprocessing:**"
   ]
  },
  {
   "cell_type": "code",
   "execution_count": 47,
   "metadata": {},
   "outputs": [
    {
     "name": "stdout",
     "output_type": "stream",
     "text": [
      "0 duplicates.\n",
      "0 NaN.\n"
     ]
    },
    {
     "data": {
      "text/html": [
       "<div>\n",
       "<style scoped>\n",
       "    .dataframe tbody tr th:only-of-type {\n",
       "        vertical-align: middle;\n",
       "    }\n",
       "\n",
       "    .dataframe tbody tr th {\n",
       "        vertical-align: top;\n",
       "    }\n",
       "\n",
       "    .dataframe thead th {\n",
       "        text-align: right;\n",
       "    }\n",
       "</style>\n",
       "<table border=\"1\" class=\"dataframe\">\n",
       "  <thead>\n",
       "    <tr style=\"text-align: right;\">\n",
       "      <th></th>\n",
       "      <th>date</th>\n",
       "      <th>group</th>\n",
       "      <th>visits</th>\n",
       "    </tr>\n",
       "  </thead>\n",
       "  <tbody>\n",
       "    <tr>\n",
       "      <th>0</th>\n",
       "      <td>2019-08-01</td>\n",
       "      <td>A</td>\n",
       "      <td>719</td>\n",
       "    </tr>\n",
       "    <tr>\n",
       "      <th>1</th>\n",
       "      <td>2019-08-02</td>\n",
       "      <td>A</td>\n",
       "      <td>619</td>\n",
       "    </tr>\n",
       "    <tr>\n",
       "      <th>2</th>\n",
       "      <td>2019-08-03</td>\n",
       "      <td>A</td>\n",
       "      <td>507</td>\n",
       "    </tr>\n",
       "    <tr>\n",
       "      <th>3</th>\n",
       "      <td>2019-08-04</td>\n",
       "      <td>A</td>\n",
       "      <td>717</td>\n",
       "    </tr>\n",
       "    <tr>\n",
       "      <th>4</th>\n",
       "      <td>2019-08-05</td>\n",
       "      <td>A</td>\n",
       "      <td>756</td>\n",
       "    </tr>\n",
       "  </tbody>\n",
       "</table>\n",
       "</div>"
      ],
      "text/plain": [
       "        date group  visits\n",
       "0 2019-08-01     A     719\n",
       "1 2019-08-02     A     619\n",
       "2 2019-08-03     A     507\n",
       "3 2019-08-04     A     717\n",
       "4 2019-08-05     A     756"
      ]
     },
     "execution_count": 47,
     "metadata": {},
     "output_type": "execute_result"
    }
   ],
   "source": [
    "visits = pd.read_csv('visits_us.csv')\n",
    "visits['date'] = visits['date'].map(\n",
    "    lambda x: dt.datetime.strptime(x, '%Y-%m-%d')\n",
    ")\n",
    "print(visits.duplicated().sum(), 'duplicates.')\n",
    "print(visits.isnull().sum().sum(), 'NaN.')\n",
    "visits.head()"
   ]
  },
  {
   "cell_type": "code",
   "execution_count": 48,
   "metadata": {},
   "outputs": [
    {
     "name": "stderr",
     "output_type": "stream",
     "text": [
      "C:\\Users\\EB1B~1\\AppData\\Local\\Temp/ipykernel_6292/2099587807.py:1: FutureWarning: Treating datetime data as categorical rather than numeric in `.describe` is deprecated and will be removed in a future version of pandas. Specify `datetime_is_numeric=True` to silence this warning and adopt the future behavior now.\n",
      "  visits.describe(include='all').T\n"
     ]
    },
    {
     "data": {
      "text/html": [
       "<div>\n",
       "<style scoped>\n",
       "    .dataframe tbody tr th:only-of-type {\n",
       "        vertical-align: middle;\n",
       "    }\n",
       "\n",
       "    .dataframe tbody tr th {\n",
       "        vertical-align: top;\n",
       "    }\n",
       "\n",
       "    .dataframe thead th {\n",
       "        text-align: right;\n",
       "    }\n",
       "</style>\n",
       "<table border=\"1\" class=\"dataframe\">\n",
       "  <thead>\n",
       "    <tr style=\"text-align: right;\">\n",
       "      <th></th>\n",
       "      <th>count</th>\n",
       "      <th>unique</th>\n",
       "      <th>top</th>\n",
       "      <th>freq</th>\n",
       "      <th>first</th>\n",
       "      <th>last</th>\n",
       "      <th>mean</th>\n",
       "      <th>std</th>\n",
       "      <th>min</th>\n",
       "      <th>25%</th>\n",
       "      <th>50%</th>\n",
       "      <th>75%</th>\n",
       "      <th>max</th>\n",
       "    </tr>\n",
       "  </thead>\n",
       "  <tbody>\n",
       "    <tr>\n",
       "      <th>date</th>\n",
       "      <td>62</td>\n",
       "      <td>31</td>\n",
       "      <td>2019-08-01 00:00:00</td>\n",
       "      <td>2</td>\n",
       "      <td>2019-08-01</td>\n",
       "      <td>2019-08-31</td>\n",
       "      <td>NaN</td>\n",
       "      <td>NaN</td>\n",
       "      <td>NaN</td>\n",
       "      <td>NaN</td>\n",
       "      <td>NaN</td>\n",
       "      <td>NaN</td>\n",
       "      <td>NaN</td>\n",
       "    </tr>\n",
       "    <tr>\n",
       "      <th>group</th>\n",
       "      <td>62</td>\n",
       "      <td>2</td>\n",
       "      <td>A</td>\n",
       "      <td>31</td>\n",
       "      <td>NaT</td>\n",
       "      <td>NaT</td>\n",
       "      <td>NaN</td>\n",
       "      <td>NaN</td>\n",
       "      <td>NaN</td>\n",
       "      <td>NaN</td>\n",
       "      <td>NaN</td>\n",
       "      <td>NaN</td>\n",
       "      <td>NaN</td>\n",
       "    </tr>\n",
       "    <tr>\n",
       "      <th>visits</th>\n",
       "      <td>62.0</td>\n",
       "      <td>NaN</td>\n",
       "      <td>NaN</td>\n",
       "      <td>NaN</td>\n",
       "      <td>NaT</td>\n",
       "      <td>NaT</td>\n",
       "      <td>607.290323</td>\n",
       "      <td>114.40056</td>\n",
       "      <td>361.0</td>\n",
       "      <td>534.0</td>\n",
       "      <td>624.5</td>\n",
       "      <td>710.5</td>\n",
       "      <td>770.0</td>\n",
       "    </tr>\n",
       "  </tbody>\n",
       "</table>\n",
       "</div>"
      ],
      "text/plain": [
       "       count unique                  top freq      first       last  \\\n",
       "date      62     31  2019-08-01 00:00:00    2 2019-08-01 2019-08-31   \n",
       "group     62      2                    A   31        NaT        NaT   \n",
       "visits  62.0    NaN                  NaN  NaN        NaT        NaT   \n",
       "\n",
       "              mean        std    min    25%    50%    75%    max  \n",
       "date           NaN        NaN    NaN    NaN    NaN    NaN    NaN  \n",
       "group          NaN        NaN    NaN    NaN    NaN    NaN    NaN  \n",
       "visits  607.290323  114.40056  361.0  534.0  624.5  710.5  770.0  "
      ]
     },
     "execution_count": 48,
     "metadata": {},
     "output_type": "execute_result"
    }
   ],
   "source": [
    "visits.describe(include='all').T"
   ]
  },
  {
   "cell_type": "code",
   "execution_count": 49,
   "metadata": {},
   "outputs": [
    {
     "name": "stdout",
     "output_type": "stream",
     "text": [
      "0 duplicates.\n",
      "0 NaN.\n"
     ]
    },
    {
     "data": {
      "text/html": [
       "<div>\n",
       "<style scoped>\n",
       "    .dataframe tbody tr th:only-of-type {\n",
       "        vertical-align: middle;\n",
       "    }\n",
       "\n",
       "    .dataframe tbody tr th {\n",
       "        vertical-align: top;\n",
       "    }\n",
       "\n",
       "    .dataframe thead th {\n",
       "        text-align: right;\n",
       "    }\n",
       "</style>\n",
       "<table border=\"1\" class=\"dataframe\">\n",
       "  <thead>\n",
       "    <tr style=\"text-align: right;\">\n",
       "      <th></th>\n",
       "      <th>transactionId</th>\n",
       "      <th>visitorId</th>\n",
       "      <th>date</th>\n",
       "      <th>revenue</th>\n",
       "      <th>group</th>\n",
       "    </tr>\n",
       "  </thead>\n",
       "  <tbody>\n",
       "    <tr>\n",
       "      <th>0</th>\n",
       "      <td>3667963787</td>\n",
       "      <td>3312258926</td>\n",
       "      <td>2019-08-15</td>\n",
       "      <td>30.4</td>\n",
       "      <td>B</td>\n",
       "    </tr>\n",
       "    <tr>\n",
       "      <th>1</th>\n",
       "      <td>2804400009</td>\n",
       "      <td>3642806036</td>\n",
       "      <td>2019-08-15</td>\n",
       "      <td>15.2</td>\n",
       "      <td>B</td>\n",
       "    </tr>\n",
       "    <tr>\n",
       "      <th>2</th>\n",
       "      <td>2961555356</td>\n",
       "      <td>4069496402</td>\n",
       "      <td>2019-08-15</td>\n",
       "      <td>10.2</td>\n",
       "      <td>A</td>\n",
       "    </tr>\n",
       "    <tr>\n",
       "      <th>3</th>\n",
       "      <td>3797467345</td>\n",
       "      <td>1196621759</td>\n",
       "      <td>2019-08-15</td>\n",
       "      <td>155.1</td>\n",
       "      <td>B</td>\n",
       "    </tr>\n",
       "    <tr>\n",
       "      <th>4</th>\n",
       "      <td>2282983706</td>\n",
       "      <td>2322279887</td>\n",
       "      <td>2019-08-15</td>\n",
       "      <td>40.5</td>\n",
       "      <td>B</td>\n",
       "    </tr>\n",
       "  </tbody>\n",
       "</table>\n",
       "</div>"
      ],
      "text/plain": [
       "   transactionId   visitorId       date  revenue group\n",
       "0     3667963787  3312258926 2019-08-15     30.4     B\n",
       "1     2804400009  3642806036 2019-08-15     15.2     B\n",
       "2     2961555356  4069496402 2019-08-15     10.2     A\n",
       "3     3797467345  1196621759 2019-08-15    155.1     B\n",
       "4     2282983706  2322279887 2019-08-15     40.5     B"
      ]
     },
     "execution_count": 49,
     "metadata": {},
     "output_type": "execute_result"
    }
   ],
   "source": [
    "orders = pd.read_csv('orders_us.csv')\n",
    "orders['date'] = orders['date'].map(\n",
    "    lambda x: dt.datetime.strptime(x, '%Y-%m-%d')\n",
    ")\n",
    "print(orders.duplicated().sum(), 'duplicates.')\n",
    "print(orders.isnull().sum().sum(), 'NaN.')\n",
    "orders.head()"
   ]
  },
  {
   "cell_type": "code",
   "execution_count": 50,
   "metadata": {},
   "outputs": [
    {
     "name": "stderr",
     "output_type": "stream",
     "text": [
      "C:\\Users\\EB1B~1\\AppData\\Local\\Temp/ipykernel_6292/2956559796.py:1: FutureWarning: Treating datetime data as categorical rather than numeric in `.describe` is deprecated and will be removed in a future version of pandas. Specify `datetime_is_numeric=True` to silence this warning and adopt the future behavior now.\n",
      "  orders.describe(include='all').T\n"
     ]
    },
    {
     "data": {
      "text/html": [
       "<div>\n",
       "<style scoped>\n",
       "    .dataframe tbody tr th:only-of-type {\n",
       "        vertical-align: middle;\n",
       "    }\n",
       "\n",
       "    .dataframe tbody tr th {\n",
       "        vertical-align: top;\n",
       "    }\n",
       "\n",
       "    .dataframe thead th {\n",
       "        text-align: right;\n",
       "    }\n",
       "</style>\n",
       "<table border=\"1\" class=\"dataframe\">\n",
       "  <thead>\n",
       "    <tr style=\"text-align: right;\">\n",
       "      <th></th>\n",
       "      <th>count</th>\n",
       "      <th>unique</th>\n",
       "      <th>top</th>\n",
       "      <th>freq</th>\n",
       "      <th>first</th>\n",
       "      <th>last</th>\n",
       "      <th>mean</th>\n",
       "      <th>std</th>\n",
       "      <th>min</th>\n",
       "      <th>25%</th>\n",
       "      <th>50%</th>\n",
       "      <th>75%</th>\n",
       "      <th>max</th>\n",
       "    </tr>\n",
       "  </thead>\n",
       "  <tbody>\n",
       "    <tr>\n",
       "      <th>transactionId</th>\n",
       "      <td>1197.0</td>\n",
       "      <td>NaN</td>\n",
       "      <td>NaN</td>\n",
       "      <td>NaN</td>\n",
       "      <td>NaT</td>\n",
       "      <td>NaT</td>\n",
       "      <td>2155621385.529657</td>\n",
       "      <td>1229084904.760058</td>\n",
       "      <td>1062393.0</td>\n",
       "      <td>1166775572.0</td>\n",
       "      <td>2145193898.0</td>\n",
       "      <td>3237740112.0</td>\n",
       "      <td>4293855558.0</td>\n",
       "    </tr>\n",
       "    <tr>\n",
       "      <th>visitorId</th>\n",
       "      <td>1197.0</td>\n",
       "      <td>NaN</td>\n",
       "      <td>NaN</td>\n",
       "      <td>NaN</td>\n",
       "      <td>NaT</td>\n",
       "      <td>NaT</td>\n",
       "      <td>2165960143.099415</td>\n",
       "      <td>1236014192.14687</td>\n",
       "      <td>5114589.0</td>\n",
       "      <td>1111826046.0</td>\n",
       "      <td>2217984702.0</td>\n",
       "      <td>3177606451.0</td>\n",
       "      <td>4283872382.0</td>\n",
       "    </tr>\n",
       "    <tr>\n",
       "      <th>date</th>\n",
       "      <td>1197</td>\n",
       "      <td>31</td>\n",
       "      <td>2019-08-05 00:00:00</td>\n",
       "      <td>48</td>\n",
       "      <td>2019-08-01</td>\n",
       "      <td>2019-08-31</td>\n",
       "      <td>NaN</td>\n",
       "      <td>NaN</td>\n",
       "      <td>NaN</td>\n",
       "      <td>NaN</td>\n",
       "      <td>NaN</td>\n",
       "      <td>NaN</td>\n",
       "      <td>NaN</td>\n",
       "    </tr>\n",
       "    <tr>\n",
       "      <th>revenue</th>\n",
       "      <td>1197.0</td>\n",
       "      <td>NaN</td>\n",
       "      <td>NaN</td>\n",
       "      <td>NaN</td>\n",
       "      <td>NaT</td>\n",
       "      <td>NaT</td>\n",
       "      <td>131.491646</td>\n",
       "      <td>603.004729</td>\n",
       "      <td>5.0</td>\n",
       "      <td>20.8</td>\n",
       "      <td>50.2</td>\n",
       "      <td>130.4</td>\n",
       "      <td>19920.4</td>\n",
       "    </tr>\n",
       "    <tr>\n",
       "      <th>group</th>\n",
       "      <td>1197</td>\n",
       "      <td>2</td>\n",
       "      <td>B</td>\n",
       "      <td>640</td>\n",
       "      <td>NaT</td>\n",
       "      <td>NaT</td>\n",
       "      <td>NaN</td>\n",
       "      <td>NaN</td>\n",
       "      <td>NaN</td>\n",
       "      <td>NaN</td>\n",
       "      <td>NaN</td>\n",
       "      <td>NaN</td>\n",
       "      <td>NaN</td>\n",
       "    </tr>\n",
       "  </tbody>\n",
       "</table>\n",
       "</div>"
      ],
      "text/plain": [
       "                count unique                  top freq      first       last  \\\n",
       "transactionId  1197.0    NaN                  NaN  NaN        NaT        NaT   \n",
       "visitorId      1197.0    NaN                  NaN  NaN        NaT        NaT   \n",
       "date             1197     31  2019-08-05 00:00:00   48 2019-08-01 2019-08-31   \n",
       "revenue        1197.0    NaN                  NaN  NaN        NaT        NaT   \n",
       "group            1197      2                    B  640        NaT        NaT   \n",
       "\n",
       "                            mean                std        min           25%  \\\n",
       "transactionId  2155621385.529657  1229084904.760058  1062393.0  1166775572.0   \n",
       "visitorId      2165960143.099415   1236014192.14687  5114589.0  1111826046.0   \n",
       "date                         NaN                NaN        NaN           NaN   \n",
       "revenue               131.491646         603.004729        5.0          20.8   \n",
       "group                        NaN                NaN        NaN           NaN   \n",
       "\n",
       "                        50%           75%           max  \n",
       "transactionId  2145193898.0  3237740112.0  4293855558.0  \n",
       "visitorId      2217984702.0  3177606451.0  4283872382.0  \n",
       "date                    NaN           NaN           NaN  \n",
       "revenue                50.2         130.4       19920.4  \n",
       "group                   NaN           NaN           NaN  "
      ]
     },
     "execution_count": 50,
     "metadata": {},
     "output_type": "execute_result"
    }
   ],
   "source": [
    "orders.describe(include='all').T"
   ]
  },
  {
   "cell_type": "code",
   "execution_count": 51,
   "metadata": {},
   "outputs": [
    {
     "name": "stdout",
     "output_type": "stream",
     "text": [
      "Number of users registered on both groups: 58\n"
     ]
    }
   ],
   "source": [
    "groups_per_user = orders.groupby('visitorId')['group'].nunique().reset_index()\n",
    "print('Number of users registered on both groups:',\n",
    "      groups_per_user[groups_per_user['group']==2]['visitorId'].count())"
   ]
  },
  {
   "cell_type": "code",
   "execution_count": 52,
   "metadata": {},
   "outputs": [],
   "source": [
    "orders = orders[~orders['visitorId'].isin(groups_per_user[groups_per_user['group']==2]['visitorId'])]"
   ]
  },
  {
   "cell_type": "code",
   "execution_count": 53,
   "metadata": {},
   "outputs": [
    {
     "name": "stdout",
     "output_type": "stream",
     "text": [
      "Number of users registered on both groups: 0\n"
     ]
    }
   ],
   "source": [
    "groups_per_user = orders.groupby('visitorId')['group'].nunique().reset_index()\n",
    "print('Number of users registered on both groups:',\n",
    "      groups_per_user[groups_per_user['group']==2]['visitorId'].count())"
   ]
  },
  {
   "cell_type": "code",
   "execution_count": 54,
   "metadata": {
    "scrolled": true
   },
   "outputs": [
    {
     "data": {
      "text/plain": [
       "group\n",
       "A    445\n",
       "B    528\n",
       "Name: visitorId, dtype: int64"
      ]
     },
     "execution_count": 54,
     "metadata": {},
     "output_type": "execute_result"
    }
   ],
   "source": [
    "orders.groupby('group')['visitorId'].nunique()"
   ]
  },
  {
   "cell_type": "code",
   "execution_count": 55,
   "metadata": {},
   "outputs": [
    {
     "data": {
      "text/plain": [
       "425     19920.4\n",
       "1196     3120.1\n",
       "1136     1425.8\n",
       "744      1335.6\n",
       "743      1050.0\n",
       "Name: revenue, dtype: float64"
      ]
     },
     "execution_count": 55,
     "metadata": {},
     "output_type": "execute_result"
    }
   ],
   "source": [
    "orders['revenue'].sort_values(ascending=False).head()"
   ]
  },
  {
   "cell_type": "code",
   "execution_count": 56,
   "metadata": {},
   "outputs": [
    {
     "data": {
      "text/plain": [
       "1196    3120.1\n",
       "1136    1425.8\n",
       "744     1335.6\n",
       "743     1050.0\n",
       "1103    1025.8\n",
       "Name: revenue, dtype: float64"
      ]
     },
     "execution_count": 56,
     "metadata": {},
     "output_type": "execute_result"
    }
   ],
   "source": [
    "orders = orders[orders['revenue'] < orders['revenue'].max()]\n",
    "orders['revenue'].sort_values(ascending=False).head()"
   ]
  },
  {
   "cell_type": "code",
   "execution_count": 57,
   "metadata": {},
   "outputs": [
    {
     "data": {
      "text/html": [
       "<div>\n",
       "<style scoped>\n",
       "    .dataframe tbody tr th:only-of-type {\n",
       "        vertical-align: middle;\n",
       "    }\n",
       "\n",
       "    .dataframe tbody tr th {\n",
       "        vertical-align: top;\n",
       "    }\n",
       "\n",
       "    .dataframe thead th {\n",
       "        text-align: right;\n",
       "    }\n",
       "</style>\n",
       "<table border=\"1\" class=\"dataframe\">\n",
       "  <thead>\n",
       "    <tr style=\"text-align: right;\">\n",
       "      <th></th>\n",
       "      <th>date</th>\n",
       "      <th>group</th>\n",
       "      <th>visits</th>\n",
       "      <th>orders</th>\n",
       "      <th>buyers</th>\n",
       "      <th>revenue</th>\n",
       "    </tr>\n",
       "  </thead>\n",
       "  <tbody>\n",
       "    <tr>\n",
       "      <th>0</th>\n",
       "      <td>2019-08-01</td>\n",
       "      <td>A</td>\n",
       "      <td>719</td>\n",
       "      <td>23</td>\n",
       "      <td>19</td>\n",
       "      <td>2266.6</td>\n",
       "    </tr>\n",
       "    <tr>\n",
       "      <th>1</th>\n",
       "      <td>2019-08-02</td>\n",
       "      <td>A</td>\n",
       "      <td>619</td>\n",
       "      <td>19</td>\n",
       "      <td>18</td>\n",
       "      <td>1468.3</td>\n",
       "    </tr>\n",
       "    <tr>\n",
       "      <th>2</th>\n",
       "      <td>2019-08-03</td>\n",
       "      <td>A</td>\n",
       "      <td>507</td>\n",
       "      <td>24</td>\n",
       "      <td>24</td>\n",
       "      <td>1815.2</td>\n",
       "    </tr>\n",
       "    <tr>\n",
       "      <th>3</th>\n",
       "      <td>2019-08-04</td>\n",
       "      <td>A</td>\n",
       "      <td>717</td>\n",
       "      <td>11</td>\n",
       "      <td>11</td>\n",
       "      <td>675.5</td>\n",
       "    </tr>\n",
       "    <tr>\n",
       "      <th>4</th>\n",
       "      <td>2019-08-05</td>\n",
       "      <td>A</td>\n",
       "      <td>756</td>\n",
       "      <td>22</td>\n",
       "      <td>22</td>\n",
       "      <td>1398.0</td>\n",
       "    </tr>\n",
       "  </tbody>\n",
       "</table>\n",
       "</div>"
      ],
      "text/plain": [
       "        date group  visits  orders  buyers  revenue\n",
       "0 2019-08-01     A     719      23      19   2266.6\n",
       "1 2019-08-02     A     619      19      18   1468.3\n",
       "2 2019-08-03     A     507      24      24   1815.2\n",
       "3 2019-08-04     A     717      11      11    675.5\n",
       "4 2019-08-05     A     756      22      22   1398.0"
      ]
     },
     "execution_count": 57,
     "metadata": {},
     "output_type": "execute_result"
    }
   ],
   "source": [
    "df2 = visits.merge(orders.groupby(['date','group']).agg(\n",
    "    {'transactionId':'count','visitorId':'nunique','revenue':'sum'}).reset_index(),on=['date','group'])\n",
    "df2.columns = ['date','group','visits','orders','buyers','revenue']\n",
    "df2.head()"
   ]
  },
  {
   "cell_type": "code",
   "execution_count": 58,
   "metadata": {
    "scrolled": true
   },
   "outputs": [
    {
     "name": "stdout",
     "output_type": "stream",
     "text": [
      "<class 'pandas.core.frame.DataFrame'>\n",
      "Int64Index: 62 entries, 0 to 61\n",
      "Data columns (total 6 columns):\n",
      " #   Column   Non-Null Count  Dtype         \n",
      "---  ------   --------------  -----         \n",
      " 0   date     62 non-null     datetime64[ns]\n",
      " 1   group    62 non-null     category      \n",
      " 2   visits   62 non-null     int16         \n",
      " 3   orders   62 non-null     int8          \n",
      " 4   buyers   62 non-null     int8          \n",
      " 5   revenue  62 non-null     float32       \n",
      "dtypes: category(1), datetime64[ns](1), float32(1), int16(1), int8(2)\n",
      "memory usage: 1.6 KB\n"
     ]
    }
   ],
   "source": [
    "df2['group'] = df2['group'].astype('category')\n",
    "df2['visits'] = pd.to_numeric(df2['visits'],downcast='integer')\n",
    "df2['orders'] = pd.to_numeric(df2['orders'],downcast='integer')\n",
    "df2['buyers'] = pd.to_numeric(df2['buyers'],downcast='integer')\n",
    "df2['revenue'] = pd.to_numeric(df2['revenue'],downcast='float')\n",
    "df2.info()"
   ]
  },
  {
   "cell_type": "markdown",
   "metadata": {},
   "source": [
    "**Summary:**\n",
    "\n",
    "* The tables includes data on orders and visits made on August 2019.\n",
    "* Both groups have the same amount of visits, but seems like users from group B made a bit more purchases than those in group A.\n",
    "* 58 users have gotten into both group A and group B. For each of them I have replaced their group category according to the most common value, so if a user made 3 orders, 2 times as user from group A and one more time as from group B, from now on all his records are classified as group A only.\n",
    "* We can already see from the description an outlier in the `revenue` column. I have removed one order with a revenue greater than 19K USD.\n",
    "* There were 0 duplicates in the data and 0 nulls in both of the `visits` and `orders` tables.\n",
    "\n",
    "I have joined the two tables into a new table called `df2`, and minimized its memory useage.\n",
    "\n",
    "### The Cumulative revenue by group"
   ]
  },
  {
   "cell_type": "code",
   "execution_count": 59,
   "metadata": {},
   "outputs": [],
   "source": [
    "groupA = df2[df2['group']=='A']\n",
    "groupB = df2[df2['group']=='B']"
   ]
  },
  {
   "cell_type": "code",
   "execution_count": 60,
   "metadata": {},
   "outputs": [
    {
     "name": "stderr",
     "output_type": "stream",
     "text": [
      "C:\\Users\\EB1B~1\\AppData\\Local\\Temp/ipykernel_6292/2824230288.py:1: SettingWithCopyWarning: \n",
      "A value is trying to be set on a copy of a slice from a DataFrame.\n",
      "Try using .loc[row_indexer,col_indexer] = value instead\n",
      "\n",
      "See the caveats in the documentation: https://pandas.pydata.org/pandas-docs/stable/user_guide/indexing.html#returning-a-view-versus-a-copy\n",
      "  groupA['cumul_rev'] = groupA['revenue'].cumsum()\n"
     ]
    },
    {
     "data": {
      "text/html": [
       "<div>\n",
       "<style scoped>\n",
       "    .dataframe tbody tr th:only-of-type {\n",
       "        vertical-align: middle;\n",
       "    }\n",
       "\n",
       "    .dataframe tbody tr th {\n",
       "        vertical-align: top;\n",
       "    }\n",
       "\n",
       "    .dataframe thead th {\n",
       "        text-align: right;\n",
       "    }\n",
       "</style>\n",
       "<table border=\"1\" class=\"dataframe\">\n",
       "  <thead>\n",
       "    <tr style=\"text-align: right;\">\n",
       "      <th></th>\n",
       "      <th>date</th>\n",
       "      <th>group</th>\n",
       "      <th>visits</th>\n",
       "      <th>orders</th>\n",
       "      <th>buyers</th>\n",
       "      <th>revenue</th>\n",
       "      <th>cumul_rev</th>\n",
       "    </tr>\n",
       "  </thead>\n",
       "  <tbody>\n",
       "    <tr>\n",
       "      <th>0</th>\n",
       "      <td>2019-08-01</td>\n",
       "      <td>A</td>\n",
       "      <td>719</td>\n",
       "      <td>23</td>\n",
       "      <td>19</td>\n",
       "      <td>2266.600098</td>\n",
       "      <td>2266.600098</td>\n",
       "    </tr>\n",
       "    <tr>\n",
       "      <th>1</th>\n",
       "      <td>2019-08-02</td>\n",
       "      <td>A</td>\n",
       "      <td>619</td>\n",
       "      <td>19</td>\n",
       "      <td>18</td>\n",
       "      <td>1468.300049</td>\n",
       "      <td>3734.900146</td>\n",
       "    </tr>\n",
       "    <tr>\n",
       "      <th>2</th>\n",
       "      <td>2019-08-03</td>\n",
       "      <td>A</td>\n",
       "      <td>507</td>\n",
       "      <td>24</td>\n",
       "      <td>24</td>\n",
       "      <td>1815.199951</td>\n",
       "      <td>5550.100098</td>\n",
       "    </tr>\n",
       "    <tr>\n",
       "      <th>3</th>\n",
       "      <td>2019-08-04</td>\n",
       "      <td>A</td>\n",
       "      <td>717</td>\n",
       "      <td>11</td>\n",
       "      <td>11</td>\n",
       "      <td>675.500000</td>\n",
       "      <td>6225.600098</td>\n",
       "    </tr>\n",
       "    <tr>\n",
       "      <th>4</th>\n",
       "      <td>2019-08-05</td>\n",
       "      <td>A</td>\n",
       "      <td>756</td>\n",
       "      <td>22</td>\n",
       "      <td>22</td>\n",
       "      <td>1398.000000</td>\n",
       "      <td>7623.600098</td>\n",
       "    </tr>\n",
       "  </tbody>\n",
       "</table>\n",
       "</div>"
      ],
      "text/plain": [
       "        date group  visits  orders  buyers      revenue    cumul_rev\n",
       "0 2019-08-01     A     719      23      19  2266.600098  2266.600098\n",
       "1 2019-08-02     A     619      19      18  1468.300049  3734.900146\n",
       "2 2019-08-03     A     507      24      24  1815.199951  5550.100098\n",
       "3 2019-08-04     A     717      11      11   675.500000  6225.600098\n",
       "4 2019-08-05     A     756      22      22  1398.000000  7623.600098"
      ]
     },
     "execution_count": 60,
     "metadata": {},
     "output_type": "execute_result"
    }
   ],
   "source": [
    "groupA['cumul_rev'] = groupA['revenue'].cumsum()\n",
    "groupA.head()"
   ]
  },
  {
   "cell_type": "code",
   "execution_count": 61,
   "metadata": {},
   "outputs": [
    {
     "name": "stderr",
     "output_type": "stream",
     "text": [
      "C:\\Users\\EB1B~1\\AppData\\Local\\Temp/ipykernel_6292/1013079916.py:1: SettingWithCopyWarning: \n",
      "A value is trying to be set on a copy of a slice from a DataFrame.\n",
      "Try using .loc[row_indexer,col_indexer] = value instead\n",
      "\n",
      "See the caveats in the documentation: https://pandas.pydata.org/pandas-docs/stable/user_guide/indexing.html#returning-a-view-versus-a-copy\n",
      "  groupB['cumul_rev'] = groupB['revenue'].cumsum()\n"
     ]
    },
    {
     "data": {
      "text/html": [
       "<div>\n",
       "<style scoped>\n",
       "    .dataframe tbody tr th:only-of-type {\n",
       "        vertical-align: middle;\n",
       "    }\n",
       "\n",
       "    .dataframe tbody tr th {\n",
       "        vertical-align: top;\n",
       "    }\n",
       "\n",
       "    .dataframe thead th {\n",
       "        text-align: right;\n",
       "    }\n",
       "</style>\n",
       "<table border=\"1\" class=\"dataframe\">\n",
       "  <thead>\n",
       "    <tr style=\"text-align: right;\">\n",
       "      <th></th>\n",
       "      <th>date</th>\n",
       "      <th>group</th>\n",
       "      <th>visits</th>\n",
       "      <th>orders</th>\n",
       "      <th>buyers</th>\n",
       "      <th>revenue</th>\n",
       "      <th>cumul_rev</th>\n",
       "    </tr>\n",
       "  </thead>\n",
       "  <tbody>\n",
       "    <tr>\n",
       "      <th>31</th>\n",
       "      <td>2019-08-01</td>\n",
       "      <td>B</td>\n",
       "      <td>713</td>\n",
       "      <td>17</td>\n",
       "      <td>17</td>\n",
       "      <td>967.200012</td>\n",
       "      <td>967.200012</td>\n",
       "    </tr>\n",
       "    <tr>\n",
       "      <th>32</th>\n",
       "      <td>2019-08-02</td>\n",
       "      <td>B</td>\n",
       "      <td>581</td>\n",
       "      <td>23</td>\n",
       "      <td>22</td>\n",
       "      <td>2568.100098</td>\n",
       "      <td>3535.300049</td>\n",
       "    </tr>\n",
       "    <tr>\n",
       "      <th>33</th>\n",
       "      <td>2019-08-03</td>\n",
       "      <td>B</td>\n",
       "      <td>509</td>\n",
       "      <td>14</td>\n",
       "      <td>14</td>\n",
       "      <td>1071.599976</td>\n",
       "      <td>4606.899902</td>\n",
       "    </tr>\n",
       "    <tr>\n",
       "      <th>34</th>\n",
       "      <td>2019-08-04</td>\n",
       "      <td>B</td>\n",
       "      <td>770</td>\n",
       "      <td>14</td>\n",
       "      <td>13</td>\n",
       "      <td>1531.599976</td>\n",
       "      <td>6138.500000</td>\n",
       "    </tr>\n",
       "    <tr>\n",
       "      <th>35</th>\n",
       "      <td>2019-08-05</td>\n",
       "      <td>B</td>\n",
       "      <td>707</td>\n",
       "      <td>21</td>\n",
       "      <td>21</td>\n",
       "      <td>1449.300049</td>\n",
       "      <td>7587.799805</td>\n",
       "    </tr>\n",
       "  </tbody>\n",
       "</table>\n",
       "</div>"
      ],
      "text/plain": [
       "         date group  visits  orders  buyers      revenue    cumul_rev\n",
       "31 2019-08-01     B     713      17      17   967.200012   967.200012\n",
       "32 2019-08-02     B     581      23      22  2568.100098  3535.300049\n",
       "33 2019-08-03     B     509      14      14  1071.599976  4606.899902\n",
       "34 2019-08-04     B     770      14      13  1531.599976  6138.500000\n",
       "35 2019-08-05     B     707      21      21  1449.300049  7587.799805"
      ]
     },
     "execution_count": 61,
     "metadata": {},
     "output_type": "execute_result"
    }
   ],
   "source": [
    "groupB['cumul_rev'] = groupB['revenue'].cumsum()\n",
    "groupB.head()"
   ]
  },
  {
   "cell_type": "code",
   "execution_count": 92,
   "metadata": {},
   "outputs": [
    {
     "data": {
      "text/html": [
       "<div>\n",
       "<style scoped>\n",
       "    .dataframe tbody tr th:only-of-type {\n",
       "        vertical-align: middle;\n",
       "    }\n",
       "\n",
       "    .dataframe tbody tr th {\n",
       "        vertical-align: top;\n",
       "    }\n",
       "\n",
       "    .dataframe thead th {\n",
       "        text-align: right;\n",
       "    }\n",
       "</style>\n",
       "<table border=\"1\" class=\"dataframe\">\n",
       "  <thead>\n",
       "    <tr style=\"text-align: right;\">\n",
       "      <th></th>\n",
       "      <th>date</th>\n",
       "      <th>group</th>\n",
       "      <th>visits</th>\n",
       "      <th>orders</th>\n",
       "      <th>buyers</th>\n",
       "      <th>revenue</th>\n",
       "      <th>cumul_rev</th>\n",
       "      <th>cumul_ord</th>\n",
       "      <th>cumul_avch</th>\n",
       "      <th>conversion</th>\n",
       "    </tr>\n",
       "  </thead>\n",
       "  <tbody>\n",
       "    <tr>\n",
       "      <th>0</th>\n",
       "      <td>2019-08-01</td>\n",
       "      <td>A</td>\n",
       "      <td>719</td>\n",
       "      <td>23</td>\n",
       "      <td>19</td>\n",
       "      <td>2266.600098</td>\n",
       "      <td>2266.600098</td>\n",
       "      <td>23</td>\n",
       "      <td>98.547830</td>\n",
       "      <td>0.031989</td>\n",
       "    </tr>\n",
       "    <tr>\n",
       "      <th>1</th>\n",
       "      <td>2019-08-02</td>\n",
       "      <td>A</td>\n",
       "      <td>619</td>\n",
       "      <td>19</td>\n",
       "      <td>18</td>\n",
       "      <td>1468.300049</td>\n",
       "      <td>3734.900146</td>\n",
       "      <td>42</td>\n",
       "      <td>88.926194</td>\n",
       "      <td>0.031390</td>\n",
       "    </tr>\n",
       "    <tr>\n",
       "      <th>2</th>\n",
       "      <td>2019-08-03</td>\n",
       "      <td>A</td>\n",
       "      <td>507</td>\n",
       "      <td>24</td>\n",
       "      <td>24</td>\n",
       "      <td>1815.199951</td>\n",
       "      <td>5550.100098</td>\n",
       "      <td>66</td>\n",
       "      <td>84.092426</td>\n",
       "      <td>0.035772</td>\n",
       "    </tr>\n",
       "    <tr>\n",
       "      <th>3</th>\n",
       "      <td>2019-08-04</td>\n",
       "      <td>A</td>\n",
       "      <td>717</td>\n",
       "      <td>11</td>\n",
       "      <td>11</td>\n",
       "      <td>675.500000</td>\n",
       "      <td>6225.600098</td>\n",
       "      <td>77</td>\n",
       "      <td>80.851949</td>\n",
       "      <td>0.030055</td>\n",
       "    </tr>\n",
       "    <tr>\n",
       "      <th>4</th>\n",
       "      <td>2019-08-05</td>\n",
       "      <td>A</td>\n",
       "      <td>756</td>\n",
       "      <td>22</td>\n",
       "      <td>22</td>\n",
       "      <td>1398.000000</td>\n",
       "      <td>7623.600098</td>\n",
       "      <td>99</td>\n",
       "      <td>77.006062</td>\n",
       "      <td>0.029837</td>\n",
       "    </tr>\n",
       "    <tr>\n",
       "      <th>...</th>\n",
       "      <td>...</td>\n",
       "      <td>...</td>\n",
       "      <td>...</td>\n",
       "      <td>...</td>\n",
       "      <td>...</td>\n",
       "      <td>...</td>\n",
       "      <td>...</td>\n",
       "      <td>...</td>\n",
       "      <td>...</td>\n",
       "      <td>...</td>\n",
       "    </tr>\n",
       "    <tr>\n",
       "      <th>57</th>\n",
       "      <td>2019-08-27</td>\n",
       "      <td>B</td>\n",
       "      <td>720</td>\n",
       "      <td>11</td>\n",
       "      <td>11</td>\n",
       "      <td>1746.900024</td>\n",
       "      <td>51964.601562</td>\n",
       "      <td>472</td>\n",
       "      <td>110.094495</td>\n",
       "      <td>0.028566</td>\n",
       "    </tr>\n",
       "    <tr>\n",
       "      <th>58</th>\n",
       "      <td>2019-08-28</td>\n",
       "      <td>B</td>\n",
       "      <td>654</td>\n",
       "      <td>22</td>\n",
       "      <td>22</td>\n",
       "      <td>1010.500000</td>\n",
       "      <td>52975.101562</td>\n",
       "      <td>494</td>\n",
       "      <td>107.237048</td>\n",
       "      <td>0.028759</td>\n",
       "    </tr>\n",
       "    <tr>\n",
       "      <th>59</th>\n",
       "      <td>2019-08-29</td>\n",
       "      <td>B</td>\n",
       "      <td>531</td>\n",
       "      <td>15</td>\n",
       "      <td>15</td>\n",
       "      <td>1681.199951</td>\n",
       "      <td>54656.300781</td>\n",
       "      <td>509</td>\n",
       "      <td>107.379766</td>\n",
       "      <td>0.028744</td>\n",
       "    </tr>\n",
       "    <tr>\n",
       "      <th>60</th>\n",
       "      <td>2019-08-30</td>\n",
       "      <td>B</td>\n",
       "      <td>490</td>\n",
       "      <td>21</td>\n",
       "      <td>21</td>\n",
       "      <td>3286.800049</td>\n",
       "      <td>57943.101562</td>\n",
       "      <td>530</td>\n",
       "      <td>109.326607</td>\n",
       "      <td>0.029124</td>\n",
       "    </tr>\n",
       "    <tr>\n",
       "      <th>61</th>\n",
       "      <td>2019-08-31</td>\n",
       "      <td>B</td>\n",
       "      <td>718</td>\n",
       "      <td>17</td>\n",
       "      <td>17</td>\n",
       "      <td>1787.699951</td>\n",
       "      <td>59730.800781</td>\n",
       "      <td>547</td>\n",
       "      <td>109.197076</td>\n",
       "      <td>0.028917</td>\n",
       "    </tr>\n",
       "  </tbody>\n",
       "</table>\n",
       "<p>62 rows × 10 columns</p>\n",
       "</div>"
      ],
      "text/plain": [
       "         date group  visits  orders  buyers      revenue     cumul_rev  \\\n",
       "0  2019-08-01     A     719      23      19  2266.600098   2266.600098   \n",
       "1  2019-08-02     A     619      19      18  1468.300049   3734.900146   \n",
       "2  2019-08-03     A     507      24      24  1815.199951   5550.100098   \n",
       "3  2019-08-04     A     717      11      11   675.500000   6225.600098   \n",
       "4  2019-08-05     A     756      22      22  1398.000000   7623.600098   \n",
       "..        ...   ...     ...     ...     ...          ...           ...   \n",
       "57 2019-08-27     B     720      11      11  1746.900024  51964.601562   \n",
       "58 2019-08-28     B     654      22      22  1010.500000  52975.101562   \n",
       "59 2019-08-29     B     531      15      15  1681.199951  54656.300781   \n",
       "60 2019-08-30     B     490      21      21  3286.800049  57943.101562   \n",
       "61 2019-08-31     B     718      17      17  1787.699951  59730.800781   \n",
       "\n",
       "    cumul_ord  cumul_avch  conversion  \n",
       "0          23   98.547830    0.031989  \n",
       "1          42   88.926194    0.031390  \n",
       "2          66   84.092426    0.035772  \n",
       "3          77   80.851949    0.030055  \n",
       "4          99   77.006062    0.029837  \n",
       "..        ...         ...         ...  \n",
       "57        472  110.094495    0.028566  \n",
       "58        494  107.237048    0.028759  \n",
       "59        509  107.379766    0.028744  \n",
       "60        530  109.326607    0.029124  \n",
       "61        547  109.197076    0.028917  \n",
       "\n",
       "[62 rows x 10 columns]"
      ]
     },
     "execution_count": 92,
     "metadata": {},
     "output_type": "execute_result"
    }
   ],
   "source": [
    "groupA.merge(groupB,how='outer')"
   ]
  },
  {
   "cell_type": "code",
   "execution_count": 98,
   "metadata": {
    "scrolled": true
   },
   "outputs": [
    {
     "data": {
      "image/png": "[encoded data removed]",
      "text/plain": [
       "<Figure size 1080x360 with 1 Axes>"
      ]
     },
     "metadata": {},
     "output_type": "display_data"
    }
   ],
   "source": [
    "tdf = groupA.merge(groupB,how='outer')\n",
    "plt.figure(figsize=(15,5))\n",
    "sns.lineplot(x=tdf[\"date\"], y=tdf[\"cumul_rev\"], hue=tdf['group'])\n",
    "plt.title('Daily cumulative revenue by groups',fontdict={'fontsize':14})\n",
    "plt.ylabel('Cumulative Revenue')\n",
    "plt.xlabel('Date')\n",
    "plt.show()"
   ]
  },
  {
   "cell_type": "markdown",
   "metadata": {},
   "source": [
    "**Conclusion:**\n",
    "\n",
    "* The profits of both groups rise by a similar slope, indicating that their growth factor is almost the same, when group B's is a little bit higher.\n",
    "\n",
    "### The cumulative average order size by group"
   ]
  },
  {
   "cell_type": "code",
   "execution_count": 63,
   "metadata": {},
   "outputs": [
    {
     "name": "stderr",
     "output_type": "stream",
     "text": [
      "C:\\Users\\EB1B~1\\AppData\\Local\\Temp/ipykernel_6292/434253065.py:1: SettingWithCopyWarning:\n",
      "\n",
      "\n",
      "A value is trying to be set on a copy of a slice from a DataFrame.\n",
      "Try using .loc[row_indexer,col_indexer] = value instead\n",
      "\n",
      "See the caveats in the documentation: https://pandas.pydata.org/pandas-docs/stable/user_guide/indexing.html#returning-a-view-versus-a-copy\n",
      "\n",
      "C:\\Users\\EB1B~1\\AppData\\Local\\Temp/ipykernel_6292/434253065.py:2: SettingWithCopyWarning:\n",
      "\n",
      "\n",
      "A value is trying to be set on a copy of a slice from a DataFrame.\n",
      "Try using .loc[row_indexer,col_indexer] = value instead\n",
      "\n",
      "See the caveats in the documentation: https://pandas.pydata.org/pandas-docs/stable/user_guide/indexing.html#returning-a-view-versus-a-copy\n",
      "\n"
     ]
    },
    {
     "data": {
      "text/html": [
       "<div>\n",
       "<style scoped>\n",
       "    .dataframe tbody tr th:only-of-type {\n",
       "        vertical-align: middle;\n",
       "    }\n",
       "\n",
       "    .dataframe tbody tr th {\n",
       "        vertical-align: top;\n",
       "    }\n",
       "\n",
       "    .dataframe thead th {\n",
       "        text-align: right;\n",
       "    }\n",
       "</style>\n",
       "<table border=\"1\" class=\"dataframe\">\n",
       "  <thead>\n",
       "    <tr style=\"text-align: right;\">\n",
       "      <th></th>\n",
       "      <th>date</th>\n",
       "      <th>group</th>\n",
       "      <th>visits</th>\n",
       "      <th>orders</th>\n",
       "      <th>buyers</th>\n",
       "      <th>revenue</th>\n",
       "      <th>cumul_rev</th>\n",
       "      <th>cumul_ord</th>\n",
       "      <th>cumul_avch</th>\n",
       "    </tr>\n",
       "  </thead>\n",
       "  <tbody>\n",
       "    <tr>\n",
       "      <th>0</th>\n",
       "      <td>2019-08-01</td>\n",
       "      <td>A</td>\n",
       "      <td>719</td>\n",
       "      <td>23</td>\n",
       "      <td>19</td>\n",
       "      <td>2266.600098</td>\n",
       "      <td>2266.600098</td>\n",
       "      <td>23</td>\n",
       "      <td>98.547830</td>\n",
       "    </tr>\n",
       "    <tr>\n",
       "      <th>1</th>\n",
       "      <td>2019-08-02</td>\n",
       "      <td>A</td>\n",
       "      <td>619</td>\n",
       "      <td>19</td>\n",
       "      <td>18</td>\n",
       "      <td>1468.300049</td>\n",
       "      <td>3734.900146</td>\n",
       "      <td>42</td>\n",
       "      <td>88.926194</td>\n",
       "    </tr>\n",
       "    <tr>\n",
       "      <th>2</th>\n",
       "      <td>2019-08-03</td>\n",
       "      <td>A</td>\n",
       "      <td>507</td>\n",
       "      <td>24</td>\n",
       "      <td>24</td>\n",
       "      <td>1815.199951</td>\n",
       "      <td>5550.100098</td>\n",
       "      <td>66</td>\n",
       "      <td>84.092426</td>\n",
       "    </tr>\n",
       "    <tr>\n",
       "      <th>3</th>\n",
       "      <td>2019-08-04</td>\n",
       "      <td>A</td>\n",
       "      <td>717</td>\n",
       "      <td>11</td>\n",
       "      <td>11</td>\n",
       "      <td>675.500000</td>\n",
       "      <td>6225.600098</td>\n",
       "      <td>77</td>\n",
       "      <td>80.851949</td>\n",
       "    </tr>\n",
       "    <tr>\n",
       "      <th>4</th>\n",
       "      <td>2019-08-05</td>\n",
       "      <td>A</td>\n",
       "      <td>756</td>\n",
       "      <td>22</td>\n",
       "      <td>22</td>\n",
       "      <td>1398.000000</td>\n",
       "      <td>7623.600098</td>\n",
       "      <td>99</td>\n",
       "      <td>77.006062</td>\n",
       "    </tr>\n",
       "  </tbody>\n",
       "</table>\n",
       "</div>"
      ],
      "text/plain": [
       "        date group  visits  orders  buyers      revenue    cumul_rev  \\\n",
       "0 2019-08-01     A     719      23      19  2266.600098  2266.600098   \n",
       "1 2019-08-02     A     619      19      18  1468.300049  3734.900146   \n",
       "2 2019-08-03     A     507      24      24  1815.199951  5550.100098   \n",
       "3 2019-08-04     A     717      11      11   675.500000  6225.600098   \n",
       "4 2019-08-05     A     756      22      22  1398.000000  7623.600098   \n",
       "\n",
       "   cumul_ord  cumul_avch  \n",
       "0         23   98.547830  \n",
       "1         42   88.926194  \n",
       "2         66   84.092426  \n",
       "3         77   80.851949  \n",
       "4         99   77.006062  "
      ]
     },
     "execution_count": 63,
     "metadata": {},
     "output_type": "execute_result"
    }
   ],
   "source": [
    "groupA['cumul_ord'] =  groupA['orders'].cumsum()\n",
    "groupA['cumul_avch'] = groupA['cumul_rev'] / groupA['cumul_ord']\n",
    "groupA.head()"
   ]
  },
  {
   "cell_type": "code",
   "execution_count": 64,
   "metadata": {
    "scrolled": true
   },
   "outputs": [
    {
     "name": "stderr",
     "output_type": "stream",
     "text": [
      "C:\\Users\\EB1B~1\\AppData\\Local\\Temp/ipykernel_6292/1662415525.py:1: SettingWithCopyWarning:\n",
      "\n",
      "\n",
      "A value is trying to be set on a copy of a slice from a DataFrame.\n",
      "Try using .loc[row_indexer,col_indexer] = value instead\n",
      "\n",
      "See the caveats in the documentation: https://pandas.pydata.org/pandas-docs/stable/user_guide/indexing.html#returning-a-view-versus-a-copy\n",
      "\n",
      "C:\\Users\\EB1B~1\\AppData\\Local\\Temp/ipykernel_6292/1662415525.py:2: SettingWithCopyWarning:\n",
      "\n",
      "\n",
      "A value is trying to be set on a copy of a slice from a DataFrame.\n",
      "Try using .loc[row_indexer,col_indexer] = value instead\n",
      "\n",
      "See the caveats in the documentation: https://pandas.pydata.org/pandas-docs/stable/user_guide/indexing.html#returning-a-view-versus-a-copy\n",
      "\n"
     ]
    },
    {
     "data": {
      "text/html": [
       "<div>\n",
       "<style scoped>\n",
       "    .dataframe tbody tr th:only-of-type {\n",
       "        vertical-align: middle;\n",
       "    }\n",
       "\n",
       "    .dataframe tbody tr th {\n",
       "        vertical-align: top;\n",
       "    }\n",
       "\n",
       "    .dataframe thead th {\n",
       "        text-align: right;\n",
       "    }\n",
       "</style>\n",
       "<table border=\"1\" class=\"dataframe\">\n",
       "  <thead>\n",
       "    <tr style=\"text-align: right;\">\n",
       "      <th></th>\n",
       "      <th>date</th>\n",
       "      <th>group</th>\n",
       "      <th>visits</th>\n",
       "      <th>orders</th>\n",
       "      <th>buyers</th>\n",
       "      <th>revenue</th>\n",
       "      <th>cumul_rev</th>\n",
       "      <th>cumul_ord</th>\n",
       "      <th>cumul_avch</th>\n",
       "    </tr>\n",
       "  </thead>\n",
       "  <tbody>\n",
       "    <tr>\n",
       "      <th>31</th>\n",
       "      <td>2019-08-01</td>\n",
       "      <td>B</td>\n",
       "      <td>713</td>\n",
       "      <td>17</td>\n",
       "      <td>17</td>\n",
       "      <td>967.200012</td>\n",
       "      <td>967.200012</td>\n",
       "      <td>17</td>\n",
       "      <td>56.894118</td>\n",
       "    </tr>\n",
       "    <tr>\n",
       "      <th>32</th>\n",
       "      <td>2019-08-02</td>\n",
       "      <td>B</td>\n",
       "      <td>581</td>\n",
       "      <td>23</td>\n",
       "      <td>22</td>\n",
       "      <td>2568.100098</td>\n",
       "      <td>3535.300049</td>\n",
       "      <td>40</td>\n",
       "      <td>88.382501</td>\n",
       "    </tr>\n",
       "    <tr>\n",
       "      <th>33</th>\n",
       "      <td>2019-08-03</td>\n",
       "      <td>B</td>\n",
       "      <td>509</td>\n",
       "      <td>14</td>\n",
       "      <td>14</td>\n",
       "      <td>1071.599976</td>\n",
       "      <td>4606.899902</td>\n",
       "      <td>54</td>\n",
       "      <td>85.312961</td>\n",
       "    </tr>\n",
       "    <tr>\n",
       "      <th>34</th>\n",
       "      <td>2019-08-04</td>\n",
       "      <td>B</td>\n",
       "      <td>770</td>\n",
       "      <td>14</td>\n",
       "      <td>13</td>\n",
       "      <td>1531.599976</td>\n",
       "      <td>6138.500000</td>\n",
       "      <td>68</td>\n",
       "      <td>90.272059</td>\n",
       "    </tr>\n",
       "    <tr>\n",
       "      <th>35</th>\n",
       "      <td>2019-08-05</td>\n",
       "      <td>B</td>\n",
       "      <td>707</td>\n",
       "      <td>21</td>\n",
       "      <td>21</td>\n",
       "      <td>1449.300049</td>\n",
       "      <td>7587.799805</td>\n",
       "      <td>89</td>\n",
       "      <td>85.256178</td>\n",
       "    </tr>\n",
       "  </tbody>\n",
       "</table>\n",
       "</div>"
      ],
      "text/plain": [
       "         date group  visits  orders  buyers      revenue    cumul_rev  \\\n",
       "31 2019-08-01     B     713      17      17   967.200012   967.200012   \n",
       "32 2019-08-02     B     581      23      22  2568.100098  3535.300049   \n",
       "33 2019-08-03     B     509      14      14  1071.599976  4606.899902   \n",
       "34 2019-08-04     B     770      14      13  1531.599976  6138.500000   \n",
       "35 2019-08-05     B     707      21      21  1449.300049  7587.799805   \n",
       "\n",
       "    cumul_ord  cumul_avch  \n",
       "31         17   56.894118  \n",
       "32         40   88.382501  \n",
       "33         54   85.312961  \n",
       "34         68   90.272059  \n",
       "35         89   85.256178  "
      ]
     },
     "execution_count": 64,
     "metadata": {},
     "output_type": "execute_result"
    }
   ],
   "source": [
    "groupB['cumul_ord'] =  groupB['orders'].cumsum()\n",
    "groupB['cumul_avch'] = groupB['cumul_rev'] / groupB['cumul_ord']\n",
    "groupB.head()"
   ]
  },
  {
   "cell_type": "code",
   "execution_count": 99,
   "metadata": {
    "scrolled": true
   },
   "outputs": [
    {
     "data": {
      "image/png": "[encoded data removed]",
      "text/plain": [
       "<Figure size 1080x360 with 1 Axes>"
      ]
     },
     "metadata": {},
     "output_type": "display_data"
    }
   ],
   "source": [
    "tdf = groupA.merge(groupB,how='outer')\n",
    "plt.figure(figsize=(15,5))\n",
    "sns.lineplot(x=tdf[\"date\"], y=tdf[\"cumul_avch\"], hue=tdf['group'])\n",
    "plt.title('Daily cumulative average order size by groups',fontdict={'fontsize':14})\n",
    "plt.ylabel('Cumulative Average Order Size')\n",
    "plt.xlabel('Date')\n",
    "plt.show()"
   ]
  },
  {
   "cell_type": "markdown",
   "metadata": {},
   "source": [
    "**Conclusion:**\n",
    "\n",
    "* At the beggining of the month we can see a big difference between the cumulative average order size of the two groups, but in second half we can see it stabilized.\n",
    "* The most interesting thing about it is that both of the groups reached by the end of the month almost the same average: 110 USD per order. \n",
    "\n",
    "### The relative difference in cumulative average order size for group B compared with group A"
   ]
  },
  {
   "cell_type": "code",
   "execution_count": 66,
   "metadata": {},
   "outputs": [],
   "source": [
    "rdca = groupA.merge(groupB,how='inner',on='date')\n",
    "rdca['rel_diff'] = rdca['cumul_avch_y'] - rdca['cumul_avch_x']"
   ]
  },
  {
   "cell_type": "code",
   "execution_count": 101,
   "metadata": {
    "scrolled": true
   },
   "outputs": [
    {
     "data": {
      "image/png": "[encoded data removed]",
      "text/plain": [
       "<Figure size 1080x360 with 1 Axes>"
      ]
     },
     "metadata": {},
     "output_type": "display_data"
    }
   ],
   "source": [
    "tdf = rdca\n",
    "plt.figure(figsize=(15,5))\n",
    "sns.lineplot(x=tdf[\"date\"], y=tdf[\"rel_diff\"])\n",
    "plt.title('Daily relative difference in cumulative average order size',fontdict={'fontsize':14})\n",
    "plt.ylabel('Relative Difference')\n",
    "plt.xlabel('Date')\n",
    "plt.show()"
   ]
  },
  {
   "cell_type": "markdown",
   "metadata": {},
   "source": [
    "**Conclusion:**\n",
    "\n",
    "* Again we can see a big difference between the cumulative average order size of the two groupsat the beggining of the month. \n",
    "* At several points the difference between the segments spikes. This means there must be some big orders and outliers.\n",
    "* At the second half we can see the line revoloves around the 0 axis. The reason for that is logic, as we get closer to the end of the month, the more orders we add to the calculation, and the more orders we have the more closer we are to the real values.\n",
    "\n",
    "### Each group's conversion rate as the ratio of orders to the number of visits for each day"
   ]
  },
  {
   "cell_type": "code",
   "execution_count": 68,
   "metadata": {
    "scrolled": true
   },
   "outputs": [
    {
     "name": "stderr",
     "output_type": "stream",
     "text": [
      "C:\\Users\\EB1B~1\\AppData\\Local\\Temp/ipykernel_6292/4188473220.py:1: SettingWithCopyWarning:\n",
      "\n",
      "\n",
      "A value is trying to be set on a copy of a slice from a DataFrame.\n",
      "Try using .loc[row_indexer,col_indexer] = value instead\n",
      "\n",
      "See the caveats in the documentation: https://pandas.pydata.org/pandas-docs/stable/user_guide/indexing.html#returning-a-view-versus-a-copy\n",
      "\n",
      "C:\\Users\\EB1B~1\\AppData\\Local\\Temp/ipykernel_6292/4188473220.py:2: SettingWithCopyWarning:\n",
      "\n",
      "\n",
      "A value is trying to be set on a copy of a slice from a DataFrame.\n",
      "Try using .loc[row_indexer,col_indexer] = value instead\n",
      "\n",
      "See the caveats in the documentation: https://pandas.pydata.org/pandas-docs/stable/user_guide/indexing.html#returning-a-view-versus-a-copy\n",
      "\n"
     ]
    }
   ],
   "source": [
    "groupA['conversion'] = groupA['orders'].cumsum() / groupA['visits'].cumsum()\n",
    "groupB['conversion'] = groupB['orders'].cumsum() / groupB['visits'].cumsum()"
   ]
  },
  {
   "cell_type": "code",
   "execution_count": 102,
   "metadata": {
    "scrolled": true
   },
   "outputs": [
    {
     "data": {
      "image/png": "[encoded data removed]",
      "text/plain": [
       "<Figure size 1080x360 with 1 Axes>"
      ]
     },
     "metadata": {},
     "output_type": "display_data"
    }
   ],
   "source": [
    "tdf = groupA.merge(groupB,how='outer')\n",
    "plt.figure(figsize=(15,5))\n",
    "sns.lineplot(x=tdf[\"date\"], y=tdf[\"conversion\"], hue=tdf['group'])\n",
    "plt.title('Daily daily conversion rates',fontdict={'fontsize':14})\n",
    "plt.ylabel('Orders per Visit')\n",
    "plt.xlabel('Date')\n",
    "plt.show()"
   ]
  },
  {
   "cell_type": "code",
   "execution_count": 70,
   "metadata": {},
   "outputs": [
    {
     "name": "stdout",
     "output_type": "stream",
     "text": [
      "Overall conversion, for group A:\n",
      "0.02497865072587532\n"
     ]
    }
   ],
   "source": [
    "print('Overall conversion, for group A:')\n",
    "print(groupA['orders'].sum() / groupA['visits'].sum())"
   ]
  },
  {
   "cell_type": "code",
   "execution_count": 71,
   "metadata": {},
   "outputs": [
    {
     "name": "stdout",
     "output_type": "stream",
     "text": [
      "Overall conversion, for group B:\n",
      "0.028917318672023684\n"
     ]
    }
   ],
   "source": [
    "print('Overall conversion, for group B:')\n",
    "print(groupB['orders'].sum() / groupB['visits'].sum())"
   ]
  },
  {
   "cell_type": "markdown",
   "metadata": {},
   "source": [
    "**Conclusion:**\n",
    "\n",
    "* Both of the daily and the overall conversion rate is very simmilar for the two groups, but group B's is higher.\n",
    "* The overall convertion rate (orders per visits) is about 2.5% for both of the groups.\n",
    "\n",
    "### The number of orders per user"
   ]
  },
  {
   "cell_type": "code",
   "execution_count": 72,
   "metadata": {},
   "outputs": [],
   "source": [
    "visitors_orders = orders.groupby(['group','visitorId'])['transactionId'].count().reset_index()"
   ]
  },
  {
   "cell_type": "code",
   "execution_count": 105,
   "metadata": {
    "scrolled": true
   },
   "outputs": [
    {
     "data": {
      "image/png": "[encoded data removed]",
      "text/plain": [
       "<Figure size 1080x360 with 1 Axes>"
      ]
     },
     "metadata": {},
     "output_type": "display_data"
    }
   ],
   "source": [
    "tdf = visitors_orders\n",
    "plt.figure(figsize=(15,5))\n",
    "sns.histplot(x=tdf[\"transactionId\"])\n",
    "plt.title('Number of orders per user',fontdict={'fontsize':14})\n",
    "plt.ylabel('Count')\n",
    "plt.xlabel('Orders')\n",
    "plt.show()"
   ]
  },
  {
   "cell_type": "code",
   "execution_count": 75,
   "metadata": {},
   "outputs": [
    {
     "name": "stdout",
     "output_type": "stream",
     "text": [
      "Overall orders per user, for group A:\n",
      "1.0240700218818382\n",
      "----\n",
      "Overall orders per user, for group B:\n",
      "1.007366482504604\n",
      "----\n"
     ]
    }
   ],
   "source": [
    "for g in ['A','B']:\n",
    "    print('Overall orders per user, for group',g,end=':\\n')\n",
    "    print(df2[df2['group']==g].orders.sum() / df2[df2['group']==g].buyers.sum())\n",
    "    print('----')"
   ]
  },
  {
   "cell_type": "code",
   "execution_count": 76,
   "metadata": {},
   "outputs": [
    {
     "data": {
      "text/plain": [
       "1    0.962963\n",
       "2    0.029835\n",
       "3    0.007202\n",
       "Name: transactionId, dtype: float64"
      ]
     },
     "execution_count": 76,
     "metadata": {},
     "output_type": "execute_result"
    }
   ],
   "source": [
    "visitors_orders['transactionId'].value_counts() / visitors_orders['transactionId'].value_counts().sum()"
   ]
  },
  {
   "cell_type": "code",
   "execution_count": 77,
   "metadata": {
    "scrolled": true
   },
   "outputs": [
    {
     "name": "stdout",
     "output_type": "stream",
     "text": [
      "Not more than 5% of users placed more than 1.0 orders.\n",
      "Not more than 1% of users placed more than 2.0 orders.\n"
     ]
    }
   ],
   "source": [
    "percentile = np.percentile(visitors_orders['transactionId'], [95,99])\n",
    "print('Not more than 5% of users placed more than {:.1f} orders.'.format(percentile[0]))\n",
    "print('Not more than 1% of users placed more than {:.1f} orders.'.format(percentile[1]))"
   ]
  },
  {
   "cell_type": "markdown",
   "metadata": {},
   "source": [
    "**Conclusion:**\n",
    "\n",
    "* Over 96% of the users placed only 1 order, and only 0.7% of them placed the maximum number of 3 orders.\n",
    "* Generally, the most extreme 1-5% of observed values are filtered out. Because of the low number of options in the number of orders I will declair 2 or more orders as an annomaly.\n",
    "\n",
    "### Order prices"
   ]
  },
  {
   "cell_type": "code",
   "execution_count": 106,
   "metadata": {
    "scrolled": true
   },
   "outputs": [
    {
     "data": {
      "image/png": "[encoded data removed]",
      "text/plain": [
       "<Figure size 1080x360 with 1 Axes>"
      ]
     },
     "metadata": {},
     "output_type": "display_data"
    }
   ],
   "source": [
    "tdf = orders\n",
    "plt.figure(figsize=(15,5))\n",
    "sns.histplot(x=tdf[\"revenue\"])\n",
    "plt.title('Order prices',fontdict={'fontsize':14})\n",
    "plt.ylabel('Count')\n",
    "plt.xlabel('Revenue')\n",
    "plt.show()"
   ]
  },
  {
   "cell_type": "code",
   "execution_count": 80,
   "metadata": {},
   "outputs": [
    {
     "name": "stdout",
     "output_type": "stream",
     "text": [
      "Not more than 5% of order prices are over 410.50 USD\n",
      "Not more than 1% of order prices are over 828.27 USD\n"
     ]
    }
   ],
   "source": [
    "percentile = np.percentile(orders['revenue'], [95,99])\n",
    "print('Not more than 5% of order prices are over {:.2f} USD'.format(percentile[0]))\n",
    "print('Not more than 1% of order prices are over {:.2f} USD'.format(percentile[1]))"
   ]
  },
  {
   "cell_type": "markdown",
   "metadata": {},
   "source": [
    "**Conclusion:**\n",
    "\n",
    "* The majority of customers place orders up to 500 USD.\n",
    "* No more than 5% of orders cost more than 410 USD, and no more than 1% cost more than 828 USD.\n",
    "* In this case I will declair any order greater than 410 USD as an anomaly.\n",
    "\n",
    "### The statistical significance of the difference in conversion between the groups, raw data\n",
    "\n",
    "* **Null hypothesis**: There's no significant difference in conversion between the groups.\n",
    "* **Hypothesis alternative**: There is a significant difference in conversion between the groups.\n",
    "\n",
    "To test hypotheses, we use the Mann-Whitney method."
   ]
  },
  {
   "cell_type": "code",
   "execution_count": 81,
   "metadata": {},
   "outputs": [],
   "source": [
    "ordersByUsers_A = ( \n",
    "    orders[orders['group'] == 'A'].\n",
    "    groupby('visitorId').\n",
    "    agg({'transactionId':'nunique'})\n",
    ")\n",
    "\n",
    "ordersByUsers_B = ( \n",
    "    orders[orders['group'] == 'B'].\n",
    "    groupby('visitorId').\n",
    "    agg({'transactionId':'nunique'})\n",
    ")\n",
    "\n",
    "ordersByUsers_A = ordersByUsers_A.rename(columns = {'transactionId':'orders'})\n",
    "ordersByUsers_B = ordersByUsers_B.rename(columns = {'transactionId':'orders'})"
   ]
  },
  {
   "cell_type": "code",
   "execution_count": 82,
   "metadata": {},
   "outputs": [],
   "source": [
    "ordersByUsers_A.reset_index(inplace=True)\n",
    "ordersByUsers_B.reset_index(inplace=True)"
   ]
  },
  {
   "cell_type": "code",
   "execution_count": 83,
   "metadata": {},
   "outputs": [],
   "source": [
    "sampleA = (\n",
    "    pd.concat([ordersByUsers_A['orders'],\n",
    "               pd.Series(0, \n",
    "                         index = np.arange(visits[visits['group'] == 'A']\n",
    "                                           ['visits']\n",
    "                                           .sum() \n",
    "                                           -\n",
    "                                           len(ordersByUsers_A['orders'])),\n",
    "                         name = 'orders')],\n",
    "              axis=0)\n",
    ")\n",
    "sampleB = (\n",
    "    pd.concat([ordersByUsers_B['orders'],\n",
    "               pd.Series(0, \n",
    "                         index = np.arange(visits[visits['group'] == 'B']\n",
    "                                           ['visits']\n",
    "                                           .sum() \n",
    "                                           -\n",
    "                                           len(ordersByUsers_B['orders'])),\n",
    "                         name = 'orders')],\n",
    "              axis=0)\n",
    ")"
   ]
  },
  {
   "cell_type": "code",
   "execution_count": 84,
   "metadata": {},
   "outputs": [
    {
     "data": {
      "text/plain": [
       "0    1\n",
       "1    1\n",
       "2    1\n",
       "3    1\n",
       "4    1\n",
       "Name: orders, dtype: int64"
      ]
     },
     "execution_count": 84,
     "metadata": {},
     "output_type": "execute_result"
    }
   ],
   "source": [
    "sampleA.head()"
   ]
  },
  {
   "cell_type": "code",
   "execution_count": 85,
   "metadata": {
    "scrolled": true
   },
   "outputs": [
    {
     "name": "stdout",
     "output_type": "stream",
     "text": [
      "p-value: 0.012\n",
      "15.8%\n"
     ]
    }
   ],
   "source": [
    "print(\"p-value: {0:.3f}\".format(stats.mannwhitneyu(sampleA, sampleB)[1]))\n",
    "\n",
    "print(\"{0:.1%}\".format(sampleB.mean()/sampleA.mean()-1))"
   ]
  },
  {
   "cell_type": "markdown",
   "metadata": {},
   "source": [
    "Based on the raw data, there is a difference between groups A and B. The first row of the output gives us the p-value, 0.006, which is lower than 0.05. So we reject the null hypothesis that there's not a statistically significant difference in conversion between the groups. The relative gain of group B is 15.8%\n",
    "\n",
    "### The statistical significance of the difference in average order size between the groups, raw data\n",
    "\n",
    "* **Null hypothesis:** The average order size is the same in both groups.\n",
    "* **Hypothesis alternative:** The average order size is different in both groups."
   ]
  },
  {
   "cell_type": "code",
   "execution_count": 86,
   "metadata": {},
   "outputs": [
    {
     "name": "stdout",
     "output_type": "stream",
     "text": [
      "p-value: 0.823\n",
      "-4.0%\n"
     ]
    }
   ],
   "source": [
    "print('p-value: {0:.3f}'.format(stats.mannwhitneyu(orders[orders['group']=='A']['revenue'],\n",
    "                                          orders[orders['group']=='B']['revenue'])[1]))\n",
    "print('{0:.1%}'.format(orders[orders['group']=='B']['revenue'].mean()/orders[orders['group']=='A']['revenue'].mean()-1))"
   ]
  },
  {
   "cell_type": "markdown",
   "metadata": {},
   "source": [
    "The p-value is considerably higher than 0.05, so there's no reason to reject the null hypothesis and conclude that average order size differs between the groups. Nonetheless, the average order size for group B is much smaller than it is for group A.\n",
    "\n",
    "### The statistical significance of the difference in conversion between the groups, filtered data"
   ]
  },
  {
   "cell_type": "code",
   "execution_count": 87,
   "metadata": {},
   "outputs": [
    {
     "name": "stdout",
     "output_type": "stream",
     "text": [
      "We have 85 anomalous users in total.\n"
     ]
    }
   ],
   "source": [
    "orders_low_limit = np.percentile(visitors_orders['transactionId'], 95)\n",
    "revenue_low_limit = np.percentile(orders['revenue'], 95)\n",
    "\n",
    "usersWithManyOrders = pd.concat(\n",
    "    [ordersByUsers_A[ordersByUsers_A['orders'] > orders_low_limit]['visitorId'],\n",
    "     ordersByUsers_B[ordersByUsers_B['orders'] > orders_low_limit]['visitorId']], axis = 0)\n",
    "\n",
    "usersWithExpensiveOrders = orders[orders['revenue'] > revenue_low_limit]['visitorId']\n",
    "\n",
    "abnormalUsers = pd.concat([usersWithManyOrders, usersWithExpensiveOrders], axis = 0).drop_duplicates().sort_values()\n",
    "\n",
    "print('We have {:} anomalous users in total.'.format(len(abnormalUsers)))"
   ]
  },
  {
   "cell_type": "code",
   "execution_count": 88,
   "metadata": {},
   "outputs": [],
   "source": [
    "sampleAFiltered = pd.concat(\n",
    "    [ordersByUsers_A[np.logical_not(ordersByUsers_A['visitorId'].isin(abnormalUsers))]['orders'],\n",
    "     pd.Series(0, index=np.arange(visits[visits['group']=='A']['visits'].sum() - len(ordersByUsers_A['orders'])),\n",
    "               name='orders')],axis=0)\n",
    "\n",
    "sampleBFiltered = pd.concat(\n",
    "    [ordersByUsers_B[np.logical_not(ordersByUsers_B['visitorId'].isin(abnormalUsers))]['orders'],\n",
    "     pd.Series(0, index=np.arange(visits[visits['group']=='B']['visits'].sum() - len(ordersByUsers_B['orders'])),\n",
    "               name='orders')],axis=0)"
   ]
  },
  {
   "cell_type": "code",
   "execution_count": 89,
   "metadata": {},
   "outputs": [
    {
     "name": "stdout",
     "output_type": "stream",
     "text": [
      "p-value: 0.016\n",
      "17.4%\n"
     ]
    }
   ],
   "source": [
    "print(\"p-value: {0:.3f}\".format(stats.mannwhitneyu(sampleAFiltered, sampleBFiltered)[1]))\n",
    "\n",
    "print(\"{0:.1%}\".format(sampleBFiltered.mean()/sampleAFiltered.mean()-1))"
   ]
  },
  {
   "cell_type": "markdown",
   "metadata": {},
   "source": [
    "According to the filtered data, the conversion by groups also differed statistically significantly. The ratio of the mean values practically did not change. It turns out that \"anomalous\" users had weak effect on the value of this metric.\n",
    "\n",
    "### The statistical significance of the difference in conversion between the groups, filtered data"
   ]
  },
  {
   "cell_type": "code",
   "execution_count": 90,
   "metadata": {},
   "outputs": [
    {
     "name": "stdout",
     "output_type": "stream",
     "text": [
      "p-value: 0.771\n",
      "-3.3%\n"
     ]
    }
   ],
   "source": [
    "print('p-value: {0:.3f}'.format(stats.mannwhitneyu(\n",
    "    orders[np.logical_and(\n",
    "        orders['group']=='A',\n",
    "        np.logical_not(orders['visitorId'].isin(abnormalUsers)))]['revenue'],\n",
    "    orders[np.logical_and(\n",
    "        orders['group']=='B',\n",
    "        np.logical_not(orders['visitorId'].isin(abnormalUsers)))]['revenue'])[1]))\n",
    "\n",
    "print('{0:.1%}'.format(\n",
    "    orders[np.logical_and(orders['group']=='B',np.logical_not(orders['visitorId'].isin(abnormalUsers)))]['revenue'].mean()/\n",
    "    orders[np.logical_and(\n",
    "        orders['group']=='A',\n",
    "        np.logical_not(orders['visitorId'].isin(abnormalUsers)))]['revenue'].mean() - 1))"
   ]
  },
  {
   "cell_type": "markdown",
   "metadata": {},
   "source": [
    "Again, there's no reason to reject the null hypothesis and conclude that average order size differs between the groups.\n",
    "On the filtered data, the average order size for group B is the same as for group A. We can conclude that the anomalous values greatly influenced the result obtained earlier. Without abnormal values, the average order value does not change.\n",
    "\n",
    "**Conclusions on A / B testing:**\n",
    "* there are statistically significant differences in conversion between groups A and B (both in raw data and in purified data)\n",
    "* there are no statistically significant differences in the average check between groups A and B (both for raw data and for purified data)."
   ]
  },
  {
   "cell_type": "markdown",
   "metadata": {},
   "source": [
    "### Make a decision based on the test results\n",
    "\n",
    ">As a result of the data obtained, I can advise to stop testing. The test result can be considered positive. We determined that the data in the groups are statistically different, and the result in group B is about 16% better. As for the average check, it has not changed between groups A and B. This tells us that our change will improve conversions and keep the average order value at the same level."
   ]
  },
  {
   "cell_type": "markdown",
   "metadata": {},
   "source": [
    "## Conclusions\n",
    "\n",
    "I analyzed the behavior of the visitors in the online store in August 2019. The visitors were divided into two groups, A and B, and I found that:\n",
    "1. The visitors from group B brought more profits (almost 20K USD) to the store than from group A. Maybe because they make more orders and maybe because the orders they place are more expensive.\n",
    "1. At the cumulative average level the visitors from Group B are leading, they tend to pay a little more for each order (A = 113.8 USD per order, B = 115.8 USD per order).\n",
    "1. When I checked the conversion rates, I found that again Group B leads. The average conversion rate for group B is 3.58% when for group A is 2.76%.\n",
    "1. When I checked the total orders in relation to the total number of users, I found that the average is almost the same for both groups (1.04).\n",
    "\n",
    "My next task was to test whether my findings were statistically significant. I found that the average profit per order is not significant and nothing significant can be deduced from it, but what did turn out to be significantly different is the conversion rate of the visitors.\n",
    "\n",
    "The test result can be considered positive. Based on the test results, it was found that the conversion rate will increase when changes are made, and the average price will remain the same."
   ]
  }
 ],
 "metadata": {
  "ExecuteTimeLog": [
   {
    "duration": 624,
    "start_time": "2022-01-16T12:57:35.873Z"
   },
   {
    "duration": 2,
    "start_time": "2022-01-16T12:57:38.459Z"
   },
   {
    "duration": 30,
    "start_time": "2022-01-16T12:57:46.589Z"
   },
   {
    "duration": 6,
    "start_time": "2022-01-16T12:57:58.696Z"
   },
   {
    "duration": 12,
    "start_time": "2022-01-16T12:58:05.384Z"
   },
   {
    "duration": 5,
    "start_time": "2022-01-16T12:58:15.487Z"
   },
   {
    "duration": 4,
    "start_time": "2022-01-16T12:58:21.948Z"
   },
   {
    "duration": 10,
    "start_time": "2022-01-16T12:58:27.378Z"
   },
   {
    "duration": 4,
    "start_time": "2022-01-16T12:58:38.588Z"
   },
   {
    "duration": 454,
    "start_time": "2022-01-17T19:33:16.572Z"
   },
   {
    "duration": 799,
    "start_time": "2022-01-17T19:33:24.873Z"
   },
   {
    "duration": 40,
    "start_time": "2022-01-17T19:33:25.675Z"
   },
   {
    "duration": 9,
    "start_time": "2022-01-17T19:33:25.718Z"
   },
   {
    "duration": 13,
    "start_time": "2022-01-17T19:33:25.730Z"
   },
   {
    "duration": 5,
    "start_time": "2022-01-17T19:33:25.760Z"
   },
   {
    "duration": 6,
    "start_time": "2022-01-17T19:33:25.767Z"
   },
   {
    "duration": 15,
    "start_time": "2022-01-17T19:33:25.776Z"
   },
   {
    "duration": 6,
    "start_time": "2022-01-17T19:33:25.793Z"
   },
   {
    "duration": 18,
    "start_time": "2022-01-17T19:33:36.895Z"
   },
   {
    "duration": 14,
    "start_time": "2022-01-17T19:35:23.234Z"
   },
   {
    "duration": 5,
    "start_time": "2022-01-17T19:39:02.334Z"
   },
   {
    "duration": 14,
    "start_time": "2022-01-17T19:39:05.152Z"
   },
   {
    "duration": 11,
    "start_time": "2022-01-17T19:39:35.354Z"
   },
   {
    "duration": 17,
    "start_time": "2022-01-17T19:39:37.564Z"
   },
   {
    "duration": 870,
    "start_time": "2022-01-18T10:03:15.452Z"
   },
   {
    "duration": 38,
    "start_time": "2022-01-18T10:03:16.326Z"
   },
   {
    "duration": 11,
    "start_time": "2022-01-18T10:03:16.367Z"
   },
   {
    "duration": 14,
    "start_time": "2022-01-18T10:03:16.380Z"
   },
   {
    "duration": 7,
    "start_time": "2022-01-18T10:03:16.396Z"
   },
   {
    "duration": 7,
    "start_time": "2022-01-18T10:03:16.405Z"
   },
   {
    "duration": 52,
    "start_time": "2022-01-18T10:03:16.414Z"
   },
   {
    "duration": 6,
    "start_time": "2022-01-18T10:03:16.469Z"
   },
   {
    "duration": 30,
    "start_time": "2022-01-18T10:16:57.632Z"
   },
   {
    "duration": 550,
    "start_time": "2022-01-18T10:39:20.100Z"
   },
   {
    "duration": 497,
    "start_time": "2022-01-18T10:39:35.569Z"
   },
   {
    "duration": 920,
    "start_time": "2022-01-18T10:39:46.450Z"
   },
   {
    "duration": 41,
    "start_time": "2022-01-18T10:39:47.373Z"
   },
   {
    "duration": 8,
    "start_time": "2022-01-18T10:39:47.416Z"
   },
   {
    "duration": 13,
    "start_time": "2022-01-18T10:39:47.427Z"
   },
   {
    "duration": 19,
    "start_time": "2022-01-18T10:39:47.442Z"
   },
   {
    "duration": 15,
    "start_time": "2022-01-18T10:39:47.464Z"
   },
   {
    "duration": 13,
    "start_time": "2022-01-18T10:39:53.517Z"
   },
   {
    "duration": 43,
    "start_time": "2022-01-18T11:01:41.276Z"
   },
   {
    "duration": 46,
    "start_time": "2022-01-18T11:01:48.067Z"
   },
   {
    "duration": 28,
    "start_time": "2022-01-18T11:01:58.516Z"
   },
   {
    "duration": 127,
    "start_time": "2022-01-18T11:02:28.856Z"
   },
   {
    "duration": 515,
    "start_time": "2022-01-18T11:02:31.867Z"
   },
   {
    "duration": 376,
    "start_time": "2022-01-18T11:02:37.817Z"
   },
   {
    "duration": 388,
    "start_time": "2022-01-18T11:02:50.478Z"
   },
   {
    "duration": 28,
    "start_time": "2022-01-18T11:03:07.497Z"
   },
   {
    "duration": 420,
    "start_time": "2022-01-18T11:04:21.346Z"
   },
   {
    "duration": 11,
    "start_time": "2022-01-18T11:05:21.776Z"
   },
   {
    "duration": 6,
    "start_time": "2022-01-18T11:06:06.638Z"
   },
   {
    "duration": 396,
    "start_time": "2022-01-18T11:06:16.888Z"
   },
   {
    "duration": 28,
    "start_time": "2022-01-18T11:07:19.936Z"
   },
   {
    "duration": 64,
    "start_time": "2022-01-18T11:07:36.701Z"
   },
   {
    "duration": 29,
    "start_time": "2022-01-18T11:07:41.378Z"
   },
   {
    "duration": 342,
    "start_time": "2022-01-18T11:07:43.847Z"
   },
   {
    "duration": 5,
    "start_time": "2022-01-18T11:08:00.448Z"
   },
   {
    "duration": 6,
    "start_time": "2022-01-18T11:08:06.386Z"
   },
   {
    "duration": 5,
    "start_time": "2022-01-18T11:08:13.296Z"
   },
   {
    "duration": 376,
    "start_time": "2022-01-18T11:08:19.668Z"
   },
   {
    "duration": 6,
    "start_time": "2022-01-18T11:08:23.447Z"
   },
   {
    "duration": 6,
    "start_time": "2022-01-18T11:08:28.833Z"
   },
   {
    "duration": 5,
    "start_time": "2022-01-18T11:08:36.628Z"
   },
   {
    "duration": 5,
    "start_time": "2022-01-18T11:08:50.556Z"
   },
   {
    "duration": 6,
    "start_time": "2022-01-18T11:08:53.496Z"
   },
   {
    "duration": 6,
    "start_time": "2022-01-18T11:09:02.198Z"
   },
   {
    "duration": 366,
    "start_time": "2022-01-18T11:27:58.876Z"
   },
   {
    "duration": 361,
    "start_time": "2022-01-18T11:28:06.526Z"
   },
   {
    "duration": 9,
    "start_time": "2022-01-18T11:28:11.236Z"
   },
   {
    "duration": 425,
    "start_time": "2022-01-18T11:28:21.276Z"
   },
   {
    "duration": 10,
    "start_time": "2022-01-18T11:28:28.819Z"
   },
   {
    "duration": 9,
    "start_time": "2022-01-18T11:28:38.238Z"
   },
   {
    "duration": 8,
    "start_time": "2022-01-18T11:28:47.119Z"
   },
   {
    "duration": 23,
    "start_time": "2022-01-18T11:29:01.807Z"
   },
   {
    "duration": 426,
    "start_time": "2022-01-18T11:29:09.836Z"
   },
   {
    "duration": 23,
    "start_time": "2022-01-18T11:29:22.757Z"
   },
   {
    "duration": 8,
    "start_time": "2022-01-18T11:29:27.847Z"
   },
   {
    "duration": 731,
    "start_time": "2022-01-18T12:27:17.176Z"
   },
   {
    "duration": 32,
    "start_time": "2022-01-18T12:27:30.837Z"
   },
   {
    "duration": 425,
    "start_time": "2022-01-18T12:27:49.998Z"
   },
   {
    "duration": 985,
    "start_time": "2022-01-18T12:28:23.797Z"
   },
   {
    "duration": 1295,
    "start_time": "2022-01-18T12:28:29.587Z"
   },
   {
    "duration": 118,
    "start_time": "2022-01-18T12:29:37.297Z"
   },
   {
    "duration": 396,
    "start_time": "2022-01-18T12:29:41.068Z"
   },
   {
    "duration": 592,
    "start_time": "2022-01-18T12:30:54.087Z"
   },
   {
    "duration": 399,
    "start_time": "2022-01-18T12:32:18.928Z"
   },
   {
    "duration": 391,
    "start_time": "2022-01-18T12:32:40.448Z"
   },
   {
    "duration": 90,
    "start_time": "2022-01-18T12:36:33.597Z"
   },
   {
    "duration": 31,
    "start_time": "2022-01-18T12:36:48.145Z"
   },
   {
    "duration": 304,
    "start_time": "2022-01-18T12:40:14.797Z"
   },
   {
    "duration": 10,
    "start_time": "2022-01-18T12:40:23.946Z"
   },
   {
    "duration": 688,
    "start_time": "2022-01-18T12:40:53.357Z"
   },
   {
    "duration": 370,
    "start_time": "2022-01-18T12:40:57.598Z"
   },
   {
    "duration": 16,
    "start_time": "2022-01-18T12:41:06.048Z"
   },
   {
    "duration": 11,
    "start_time": "2022-01-18T12:41:31.477Z"
   },
   {
    "duration": 366,
    "start_time": "2022-01-18T12:42:57.479Z"
   },
   {
    "duration": 19,
    "start_time": "2022-01-18T12:44:40.328Z"
   },
   {
    "duration": 17,
    "start_time": "2022-01-18T12:44:58.276Z"
   },
   {
    "duration": 16,
    "start_time": "2022-01-18T12:46:29.107Z"
   },
   {
    "duration": 12,
    "start_time": "2022-01-18T12:53:43.478Z"
   },
   {
    "duration": 12,
    "start_time": "2022-01-18T12:54:12.527Z"
   },
   {
    "duration": 15,
    "start_time": "2022-01-18T12:54:17.808Z"
   },
   {
    "duration": 10,
    "start_time": "2022-01-18T12:54:37.749Z"
   },
   {
    "duration": 10,
    "start_time": "2022-01-18T12:54:44.468Z"
   },
   {
    "duration": 163,
    "start_time": "2022-01-18T12:56:46.387Z"
   },
   {
    "duration": 168,
    "start_time": "2022-01-18T12:56:54.037Z"
   },
   {
    "duration": 128,
    "start_time": "2022-01-18T12:57:14.887Z"
   },
   {
    "duration": 9,
    "start_time": "2022-01-18T12:57:32.837Z"
   },
   {
    "duration": 11,
    "start_time": "2022-01-18T12:57:46.038Z"
   },
   {
    "duration": 12,
    "start_time": "2022-01-18T12:57:54.167Z"
   },
   {
    "duration": 8,
    "start_time": "2022-01-18T12:58:26.337Z"
   },
   {
    "duration": 6,
    "start_time": "2022-01-18T12:58:59.823Z"
   },
   {
    "duration": 7,
    "start_time": "2022-01-18T12:59:12.756Z"
   },
   {
    "duration": 623,
    "start_time": "2022-01-18T13:01:19.658Z"
   },
   {
    "duration": 11,
    "start_time": "2022-01-18T13:01:27.077Z"
   },
   {
    "duration": 9,
    "start_time": "2022-01-18T13:01:35.687Z"
   },
   {
    "duration": 13,
    "start_time": "2022-01-18T13:12:44.118Z"
   },
   {
    "duration": 8,
    "start_time": "2022-01-18T13:13:02.637Z"
   },
   {
    "duration": 7,
    "start_time": "2022-01-18T13:13:09.166Z"
   },
   {
    "duration": 6,
    "start_time": "2022-01-18T13:13:14.728Z"
   },
   {
    "duration": 8,
    "start_time": "2022-01-18T13:13:19.874Z"
   },
   {
    "duration": 6,
    "start_time": "2022-01-18T13:13:28.147Z"
   },
   {
    "duration": 7,
    "start_time": "2022-01-18T13:13:39.928Z"
   },
   {
    "duration": 596,
    "start_time": "2022-01-18T13:20:49.730Z"
   },
   {
    "duration": 605,
    "start_time": "2022-01-18T13:21:22.139Z"
   },
   {
    "duration": 763,
    "start_time": "2022-01-18T13:24:44.358Z"
   },
   {
    "duration": 769,
    "start_time": "2022-01-18T13:28:00.267Z"
   },
   {
    "duration": 781,
    "start_time": "2022-01-18T13:28:28.187Z"
   },
   {
    "duration": 1172,
    "start_time": "2022-01-18T13:28:53.777Z"
   },
   {
    "duration": 400,
    "start_time": "2022-01-18T13:32:24.827Z"
   },
   {
    "duration": 1370,
    "start_time": "2022-01-18T16:00:12.047Z"
   },
   {
    "duration": 844,
    "start_time": "2022-01-18T16:00:13.420Z"
   },
   {
    "duration": 35,
    "start_time": "2022-01-18T16:00:14.267Z"
   },
   {
    "duration": 9,
    "start_time": "2022-01-18T16:00:14.304Z"
   },
   {
    "duration": 17,
    "start_time": "2022-01-18T16:00:14.315Z"
   },
   {
    "duration": 30,
    "start_time": "2022-01-18T16:00:14.335Z"
   },
   {
    "duration": 25,
    "start_time": "2022-01-18T16:00:14.368Z"
   },
   {
    "duration": 42,
    "start_time": "2022-01-18T16:00:14.395Z"
   },
   {
    "duration": 85,
    "start_time": "2022-01-18T16:00:14.443Z"
   },
   {
    "duration": 28,
    "start_time": "2022-01-18T16:00:14.531Z"
   },
   {
    "duration": 1084,
    "start_time": "2022-01-18T16:00:14.561Z"
   },
   {
    "duration": 524,
    "start_time": "2022-01-18T16:00:15.660Z"
   },
   {
    "duration": 246,
    "start_time": "2022-01-18T16:00:16.187Z"
   },
   {
    "duration": 6,
    "start_time": "2022-01-18T16:00:16.436Z"
   },
   {
    "duration": 6,
    "start_time": "2022-01-18T16:00:16.461Z"
   },
   {
    "duration": 17,
    "start_time": "2022-01-18T16:00:16.469Z"
   },
   {
    "duration": 13,
    "start_time": "2022-01-18T16:00:16.489Z"
   },
   {
    "duration": 15,
    "start_time": "2022-01-18T16:00:16.505Z"
   },
   {
    "duration": 13,
    "start_time": "2022-01-18T16:04:08.719Z"
   },
   {
    "duration": 6,
    "start_time": "2022-01-18T16:07:32.606Z"
   },
   {
    "duration": 15,
    "start_time": "2022-01-18T16:07:42.036Z"
   },
   {
    "duration": 10,
    "start_time": "2022-01-18T16:08:02.742Z"
   },
   {
    "duration": 572,
    "start_time": "2022-01-18T16:09:40.762Z"
   },
   {
    "duration": 17,
    "start_time": "2022-01-18T16:11:45.437Z"
   },
   {
    "duration": 8,
    "start_time": "2022-01-18T16:12:44.256Z"
   },
   {
    "duration": 5,
    "start_time": "2022-01-18T16:13:56.006Z"
   },
   {
    "duration": 16,
    "start_time": "2022-01-18T16:14:02.027Z"
   },
   {
    "duration": 201,
    "start_time": "2022-01-18T16:14:55.479Z"
   },
   {
    "duration": 916,
    "start_time": "2022-01-18T16:16:08.079Z"
   },
   {
    "duration": 793,
    "start_time": "2022-01-18T16:16:21.039Z"
   },
   {
    "duration": 375,
    "start_time": "2022-01-18T16:16:50.236Z"
   },
   {
    "duration": 385,
    "start_time": "2022-01-18T16:17:42.297Z"
   },
   {
    "duration": 544,
    "start_time": "2022-01-18T16:19:06.992Z"
   },
   {
    "duration": 7,
    "start_time": "2022-01-18T16:21:51.216Z"
   },
   {
    "duration": 8,
    "start_time": "2022-01-18T16:25:40.971Z"
   },
   {
    "duration": 7,
    "start_time": "2022-01-18T16:25:51.370Z"
   },
   {
    "duration": 8,
    "start_time": "2022-01-18T16:26:26.043Z"
   },
   {
    "duration": 448,
    "start_time": "2022-01-18T16:28:31.854Z"
   },
   {
    "duration": 7,
    "start_time": "2022-01-18T16:29:22.047Z"
   },
   {
    "duration": 435,
    "start_time": "2022-01-18T16:30:49.401Z"
   },
   {
    "duration": 739,
    "start_time": "2022-01-18T16:31:12.355Z"
   },
   {
    "duration": 434,
    "start_time": "2022-01-18T16:31:27.147Z"
   },
   {
    "duration": 1556,
    "start_time": "2022-01-19T10:15:12.024Z"
   },
   {
    "duration": 771,
    "start_time": "2022-01-19T10:15:13.584Z"
   },
   {
    "duration": 39,
    "start_time": "2022-01-19T10:15:14.358Z"
   },
   {
    "duration": 7,
    "start_time": "2022-01-19T10:15:14.399Z"
   },
   {
    "duration": 13,
    "start_time": "2022-01-19T10:15:14.408Z"
   },
   {
    "duration": 7,
    "start_time": "2022-01-19T10:15:14.424Z"
   },
   {
    "duration": 38,
    "start_time": "2022-01-19T10:15:14.434Z"
   },
   {
    "duration": 33,
    "start_time": "2022-01-19T10:15:14.477Z"
   },
   {
    "duration": 75,
    "start_time": "2022-01-19T10:15:14.516Z"
   },
   {
    "duration": 31,
    "start_time": "2022-01-19T10:15:14.595Z"
   },
   {
    "duration": 1135,
    "start_time": "2022-01-19T10:15:14.628Z"
   },
   {
    "duration": 602,
    "start_time": "2022-01-19T10:15:15.766Z"
   },
   {
    "duration": 17,
    "start_time": "2022-01-19T10:15:16.372Z"
   },
   {
    "duration": 8,
    "start_time": "2022-01-19T10:15:16.392Z"
   },
   {
    "duration": 612,
    "start_time": "2022-01-19T10:15:16.403Z"
   },
   {
    "duration": 6,
    "start_time": "2022-01-19T10:15:17.017Z"
   },
   {
    "duration": 423,
    "start_time": "2022-01-19T10:15:17.025Z"
   },
   {
    "duration": 17,
    "start_time": "2022-01-19T10:15:17.450Z"
   },
   {
    "duration": 662,
    "start_time": "2022-01-19T10:15:17.470Z"
   },
   {
    "duration": 7,
    "start_time": "2022-01-19T10:15:18.134Z"
   },
   {
    "duration": 262,
    "start_time": "2022-01-19T10:15:18.143Z"
   },
   {
    "duration": 5,
    "start_time": "2022-01-19T10:15:18.407Z"
   },
   {
    "duration": 7,
    "start_time": "2022-01-19T10:15:18.414Z"
   },
   {
    "duration": 36,
    "start_time": "2022-01-19T10:15:18.423Z"
   },
   {
    "duration": 14,
    "start_time": "2022-01-19T10:15:18.465Z"
   },
   {
    "duration": 14,
    "start_time": "2022-01-19T10:15:18.482Z"
   },
   {
    "duration": 8,
    "start_time": "2022-01-19T10:57:49.425Z"
   },
   {
    "duration": 7,
    "start_time": "2022-01-19T10:58:24.075Z"
   },
   {
    "duration": 8,
    "start_time": "2022-01-19T10:59:03.646Z"
   },
   {
    "duration": 18,
    "start_time": "2022-01-19T10:59:16.004Z"
   },
   {
    "duration": 9,
    "start_time": "2022-01-19T10:59:41.245Z"
   },
   {
    "duration": 9,
    "start_time": "2022-01-19T11:00:19.593Z"
   },
   {
    "duration": 9,
    "start_time": "2022-01-19T11:00:24.214Z"
   },
   {
    "duration": 9,
    "start_time": "2022-01-19T11:00:39.764Z"
   },
   {
    "duration": 8,
    "start_time": "2022-01-19T11:00:45.236Z"
   },
   {
    "duration": 8,
    "start_time": "2022-01-19T11:00:52.195Z"
   },
   {
    "duration": 361,
    "start_time": "2022-01-19T11:03:54.305Z"
   },
   {
    "duration": 536,
    "start_time": "2022-01-19T11:04:16.107Z"
   },
   {
    "duration": 115,
    "start_time": "2022-01-19T11:05:18.415Z"
   },
   {
    "duration": 574,
    "start_time": "2022-01-19T11:05:53.435Z"
   },
   {
    "duration": 409,
    "start_time": "2022-01-19T11:07:13.094Z"
   },
   {
    "duration": 542,
    "start_time": "2022-01-19T11:07:27.535Z"
   },
   {
    "duration": 19,
    "start_time": "2022-01-19T11:18:19.045Z"
   },
   {
    "duration": 1244,
    "start_time": "2022-01-19T11:18:33.525Z"
   },
   {
    "duration": 733,
    "start_time": "2022-01-19T11:18:34.771Z"
   },
   {
    "duration": 45,
    "start_time": "2022-01-19T11:18:35.508Z"
   },
   {
    "duration": 8,
    "start_time": "2022-01-19T11:18:35.556Z"
   },
   {
    "duration": 14,
    "start_time": "2022-01-19T11:18:35.567Z"
   },
   {
    "duration": 6,
    "start_time": "2022-01-19T11:18:35.584Z"
   },
   {
    "duration": 14,
    "start_time": "2022-01-19T11:18:35.593Z"
   },
   {
    "duration": 79,
    "start_time": "2022-01-19T11:18:35.609Z"
   },
   {
    "duration": 69,
    "start_time": "2022-01-19T11:18:35.693Z"
   },
   {
    "duration": 30,
    "start_time": "2022-01-19T11:18:35.765Z"
   },
   {
    "duration": 7,
    "start_time": "2022-01-19T11:18:35.797Z"
   },
   {
    "duration": 19,
    "start_time": "2022-01-19T11:18:35.807Z"
   },
   {
    "duration": 17,
    "start_time": "2022-01-19T11:18:35.859Z"
   },
   {
    "duration": 1074,
    "start_time": "2022-01-19T11:18:35.879Z"
   },
   {
    "duration": 511,
    "start_time": "2022-01-19T11:18:36.960Z"
   },
   {
    "duration": 12,
    "start_time": "2022-01-19T11:18:37.473Z"
   },
   {
    "duration": 7,
    "start_time": "2022-01-19T11:18:37.487Z"
   },
   {
    "duration": 552,
    "start_time": "2022-01-19T11:18:37.496Z"
   },
   {
    "duration": 11,
    "start_time": "2022-01-19T11:18:38.050Z"
   },
   {
    "duration": 386,
    "start_time": "2022-01-19T11:18:38.065Z"
   },
   {
    "duration": 8,
    "start_time": "2022-01-19T11:18:38.458Z"
   },
   {
    "duration": 612,
    "start_time": "2022-01-19T11:18:38.468Z"
   },
   {
    "duration": 6,
    "start_time": "2022-01-19T11:18:39.082Z"
   },
   {
    "duration": 228,
    "start_time": "2022-01-19T11:18:39.090Z"
   },
   {
    "duration": 6,
    "start_time": "2022-01-19T11:18:39.321Z"
   },
   {
    "duration": 29,
    "start_time": "2022-01-19T11:18:39.330Z"
   },
   {
    "duration": 10,
    "start_time": "2022-01-19T11:18:39.364Z"
   },
   {
    "duration": 12,
    "start_time": "2022-01-19T11:18:39.377Z"
   },
   {
    "duration": 15,
    "start_time": "2022-01-19T11:18:39.391Z"
   },
   {
    "duration": 1745,
    "start_time": "2022-01-19T11:22:10.613Z"
   },
   {
    "duration": 9971,
    "start_time": "2022-01-19T11:24:09.293Z"
   },
   {
    "duration": 10230,
    "start_time": "2022-01-19T11:24:39.643Z"
   },
   {
    "duration": 30,
    "start_time": "2022-01-19T11:25:09.074Z"
   },
   {
    "duration": 51,
    "start_time": "2022-01-19T11:26:04.544Z"
   },
   {
    "duration": 36,
    "start_time": "2022-01-19T11:26:48.541Z"
   },
   {
    "duration": 14,
    "start_time": "2022-01-19T11:29:25.514Z"
   },
   {
    "duration": 413,
    "start_time": "2022-01-19T11:30:59.532Z"
   },
   {
    "duration": 24,
    "start_time": "2022-01-19T11:31:07.852Z"
   },
   {
    "duration": 20,
    "start_time": "2022-01-19T11:32:13.193Z"
   },
   {
    "duration": 21,
    "start_time": "2022-01-19T11:33:27.114Z"
   },
   {
    "duration": 19,
    "start_time": "2022-01-19T11:34:51.283Z"
   },
   {
    "duration": 20,
    "start_time": "2022-01-19T11:35:08.724Z"
   },
   {
    "duration": 419,
    "start_time": "2022-01-19T11:37:05.524Z"
   },
   {
    "duration": 12,
    "start_time": "2022-01-19T11:52:31.513Z"
   },
   {
    "duration": 23,
    "start_time": "2022-01-19T11:52:33.194Z"
   },
   {
    "duration": 13,
    "start_time": "2022-01-19T11:53:06.693Z"
   },
   {
    "duration": 25,
    "start_time": "2022-01-19T11:53:09.034Z"
   },
   {
    "duration": 380,
    "start_time": "2022-01-19T11:54:54.572Z"
   },
   {
    "duration": 545,
    "start_time": "2022-01-19T11:55:10.494Z"
   },
   {
    "duration": 820,
    "start_time": "2022-01-19T11:57:06.174Z"
   },
   {
    "duration": 902,
    "start_time": "2022-01-19T11:58:17.096Z"
   },
   {
    "duration": 923,
    "start_time": "2022-01-19T11:58:33.884Z"
   },
   {
    "duration": 751,
    "start_time": "2022-01-19T12:04:28.544Z"
   },
   {
    "duration": 886,
    "start_time": "2022-01-19T12:06:39.304Z"
   },
   {
    "duration": 719,
    "start_time": "2022-01-19T12:07:04.576Z"
   },
   {
    "duration": 1161,
    "start_time": "2022-01-19T12:07:17.133Z"
   },
   {
    "duration": 1012,
    "start_time": "2022-01-19T12:07:44.852Z"
   },
   {
    "duration": 883,
    "start_time": "2022-01-19T12:09:13.398Z"
   },
   {
    "duration": 1315,
    "start_time": "2022-01-19T12:10:33.273Z"
   },
   {
    "duration": 573,
    "start_time": "2022-01-19T12:12:54.691Z"
   },
   {
    "duration": 1162,
    "start_time": "2022-01-19T12:16:03.433Z"
   },
   {
    "duration": 449,
    "start_time": "2022-01-19T12:18:45.974Z"
   },
   {
    "duration": 517,
    "start_time": "2022-01-19T12:19:42.941Z"
   },
   {
    "duration": 2265,
    "start_time": "2022-01-19T12:20:11.916Z"
   },
   {
    "duration": 774,
    "start_time": "2022-01-19T12:23:50.504Z"
   },
   {
    "duration": 878,
    "start_time": "2022-01-19T12:23:59.214Z"
   },
   {
    "duration": 827,
    "start_time": "2022-01-19T12:24:23.434Z"
   },
   {
    "duration": 1010,
    "start_time": "2022-01-19T12:24:36.443Z"
   },
   {
    "duration": 1055,
    "start_time": "2022-01-19T12:26:23.033Z"
   },
   {
    "duration": 880,
    "start_time": "2022-01-19T12:29:33.983Z"
   },
   {
    "duration": 370,
    "start_time": "2022-01-19T12:31:06.965Z"
   },
   {
    "duration": 14,
    "start_time": "2022-01-19T13:13:04.437Z"
   },
   {
    "duration": 415,
    "start_time": "2022-01-19T13:14:18.303Z"
   },
   {
    "duration": 7,
    "start_time": "2022-01-19T13:14:24.974Z"
   },
   {
    "duration": 408,
    "start_time": "2022-01-19T13:17:48.313Z"
   },
   {
    "duration": 10276,
    "start_time": "2022-01-19T13:18:00.514Z"
   },
   {
    "duration": 2813,
    "start_time": "2022-01-19T13:18:19.985Z"
   },
   {
    "duration": 21,
    "start_time": "2022-01-19T13:18:32.833Z"
   },
   {
    "duration": 6,
    "start_time": "2022-01-19T13:18:40.023Z"
   },
   {
    "duration": 10,
    "start_time": "2022-01-19T13:18:44.084Z"
   },
   {
    "duration": 8,
    "start_time": "2022-01-19T13:18:47.455Z"
   },
   {
    "duration": 24,
    "start_time": "2022-01-19T13:19:10.174Z"
   },
   {
    "duration": 10,
    "start_time": "2022-01-19T13:20:02.934Z"
   },
   {
    "duration": 11,
    "start_time": "2022-01-19T13:20:17.283Z"
   },
   {
    "duration": 141,
    "start_time": "2022-01-19T13:21:44.964Z"
   },
   {
    "duration": 6,
    "start_time": "2022-01-19T13:21:50.713Z"
   },
   {
    "duration": 126,
    "start_time": "2022-01-19T13:22:47.025Z"
   },
   {
    "duration": 137,
    "start_time": "2022-01-19T13:25:14.996Z"
   },
   {
    "duration": 398,
    "start_time": "2022-01-19T13:26:38.904Z"
   },
   {
    "duration": 128,
    "start_time": "2022-01-19T13:26:46.394Z"
   },
   {
    "duration": 15,
    "start_time": "2022-01-19T13:26:51.147Z"
   },
   {
    "duration": 400,
    "start_time": "2022-01-19T13:27:19.023Z"
   },
   {
    "duration": 16,
    "start_time": "2022-01-19T13:27:29.615Z"
   },
   {
    "duration": 13,
    "start_time": "2022-01-19T13:27:36.914Z"
   },
   {
    "duration": 14,
    "start_time": "2022-01-19T13:28:12.744Z"
   },
   {
    "duration": 13,
    "start_time": "2022-01-19T13:29:15.153Z"
   },
   {
    "duration": 13,
    "start_time": "2022-01-19T13:29:34.154Z"
   },
   {
    "duration": 128,
    "start_time": "2022-01-19T13:29:38.004Z"
   },
   {
    "duration": 14,
    "start_time": "2022-01-19T13:29:41.133Z"
   },
   {
    "duration": 14,
    "start_time": "2022-01-19T13:30:01.107Z"
   },
   {
    "duration": 20,
    "start_time": "2022-01-19T13:30:39.265Z"
   },
   {
    "duration": 13,
    "start_time": "2022-01-19T13:30:47.216Z"
   },
   {
    "duration": 17,
    "start_time": "2022-01-19T13:31:02.098Z"
   },
   {
    "duration": 660,
    "start_time": "2022-01-19T13:50:14.976Z"
   },
   {
    "duration": 7,
    "start_time": "2022-01-19T13:52:35.242Z"
   },
   {
    "duration": 6,
    "start_time": "2022-01-19T13:52:52.335Z"
   },
   {
    "duration": 6,
    "start_time": "2022-01-19T13:52:53.584Z"
   },
   {
    "duration": 11712,
    "start_time": "2022-01-19T13:59:41.673Z"
   },
   {
    "duration": 494,
    "start_time": "2022-01-19T14:00:00.114Z"
   },
   {
    "duration": 6,
    "start_time": "2022-01-19T14:00:09.417Z"
   },
   {
    "duration": 416,
    "start_time": "2022-01-19T14:00:11.194Z"
   },
   {
    "duration": 6,
    "start_time": "2022-01-19T14:00:14.835Z"
   },
   {
    "duration": 7,
    "start_time": "2022-01-19T14:00:20.084Z"
   },
   {
    "duration": 7,
    "start_time": "2022-01-19T14:10:23.903Z"
   },
   {
    "duration": 6,
    "start_time": "2022-01-19T14:10:31.645Z"
   },
   {
    "duration": 34,
    "start_time": "2022-01-19T14:55:01.783Z"
   },
   {
    "duration": 119,
    "start_time": "2022-01-19T14:55:13.096Z"
   },
   {
    "duration": 10,
    "start_time": "2022-01-19T14:55:44.893Z"
   },
   {
    "duration": 11,
    "start_time": "2022-01-19T14:56:43.975Z"
   },
   {
    "duration": 17,
    "start_time": "2022-01-19T15:01:15.075Z"
   },
   {
    "duration": 1293,
    "start_time": "2022-01-19T15:05:03.377Z"
   },
   {
    "duration": 774,
    "start_time": "2022-01-19T15:05:04.673Z"
   },
   {
    "duration": 33,
    "start_time": "2022-01-19T15:05:05.450Z"
   },
   {
    "duration": 13,
    "start_time": "2022-01-19T15:05:05.486Z"
   },
   {
    "duration": 15,
    "start_time": "2022-01-19T15:05:05.501Z"
   },
   {
    "duration": 6,
    "start_time": "2022-01-19T15:05:05.518Z"
   },
   {
    "duration": 37,
    "start_time": "2022-01-19T15:05:05.526Z"
   },
   {
    "duration": 34,
    "start_time": "2022-01-19T15:05:05.565Z"
   },
   {
    "duration": 90,
    "start_time": "2022-01-19T15:05:05.603Z"
   },
   {
    "duration": 28,
    "start_time": "2022-01-19T15:05:05.696Z"
   },
   {
    "duration": 47,
    "start_time": "2022-01-19T15:05:05.727Z"
   },
   {
    "duration": 26,
    "start_time": "2022-01-19T15:05:05.777Z"
   },
   {
    "duration": 23,
    "start_time": "2022-01-19T15:05:05.805Z"
   },
   {
    "duration": 35,
    "start_time": "2022-01-19T15:05:05.831Z"
   },
   {
    "duration": 1223,
    "start_time": "2022-01-19T15:05:05.869Z"
   },
   {
    "duration": 64,
    "start_time": "2022-01-19T15:05:07.095Z"
   },
   {
    "duration": 25,
    "start_time": "2022-01-19T15:05:07.161Z"
   },
   {
    "duration": 522,
    "start_time": "2022-01-19T15:05:07.189Z"
   },
   {
    "duration": 25,
    "start_time": "2022-01-19T15:05:07.713Z"
   },
   {
    "duration": 524,
    "start_time": "2022-01-19T15:05:07.740Z"
   },
   {
    "duration": 15,
    "start_time": "2022-01-19T15:05:08.266Z"
   },
   {
    "duration": 9,
    "start_time": "2022-01-19T15:05:08.283Z"
   },
   {
    "duration": 407,
    "start_time": "2022-01-19T15:05:08.295Z"
   },
   {
    "duration": 14,
    "start_time": "2022-01-19T15:05:08.704Z"
   },
   {
    "duration": 7,
    "start_time": "2022-01-19T15:05:08.720Z"
   },
   {
    "duration": 573,
    "start_time": "2022-01-19T15:05:08.729Z"
   },
   {
    "duration": 5,
    "start_time": "2022-01-19T15:05:09.307Z"
   },
   {
    "duration": 7,
    "start_time": "2022-01-19T15:05:09.315Z"
   },
   {
    "duration": 466,
    "start_time": "2022-01-19T15:05:09.324Z"
   },
   {
    "duration": 6,
    "start_time": "2022-01-19T15:05:09.793Z"
   },
   {
    "duration": 8,
    "start_time": "2022-01-19T15:05:09.802Z"
   },
   {
    "duration": 46,
    "start_time": "2022-01-19T15:05:09.813Z"
   },
   {
    "duration": 241,
    "start_time": "2022-01-19T15:05:09.861Z"
   },
   {
    "duration": 6,
    "start_time": "2022-01-19T15:05:10.104Z"
   },
   {
    "duration": 6,
    "start_time": "2022-01-19T15:05:10.112Z"
   },
   {
    "duration": 11,
    "start_time": "2022-01-19T15:05:10.121Z"
   },
   {
    "duration": 12,
    "start_time": "2022-01-19T15:05:10.159Z"
   },
   {
    "duration": 15,
    "start_time": "2022-01-19T15:05:10.173Z"
   },
   {
    "duration": 129,
    "start_time": "2022-01-19T15:18:17.534Z"
   },
   {
    "duration": 35,
    "start_time": "2022-01-19T18:50:55.908Z"
   },
   {
    "duration": 643,
    "start_time": "2022-01-19T18:51:45.758Z"
   },
   {
    "duration": 42,
    "start_time": "2022-01-19T18:51:51.549Z"
   },
   {
    "duration": 466,
    "start_time": "2022-01-19T19:01:32.950Z"
   },
   {
    "duration": 10927,
    "start_time": "2022-01-19T19:01:39.347Z"
   },
   {
    "duration": 9446,
    "start_time": "2022-01-19T19:02:20.450Z"
   },
   {
    "duration": -117,
    "start_time": "2022-01-19T19:02:46.128Z"
   },
   {
    "duration": 9532,
    "start_time": "2022-01-19T19:02:49.798Z"
   },
   {
    "duration": 1177,
    "start_time": "2022-01-19T19:03:42.391Z"
   },
   {
    "duration": 724,
    "start_time": "2022-01-19T19:03:43.570Z"
   },
   {
    "duration": 42,
    "start_time": "2022-01-19T19:03:44.296Z"
   },
   {
    "duration": 7,
    "start_time": "2022-01-19T19:03:44.341Z"
   },
   {
    "duration": 13,
    "start_time": "2022-01-19T19:03:44.350Z"
   },
   {
    "duration": 5,
    "start_time": "2022-01-19T19:03:44.365Z"
   },
   {
    "duration": 13,
    "start_time": "2022-01-19T19:03:44.372Z"
   },
   {
    "duration": 34,
    "start_time": "2022-01-19T19:03:44.389Z"
   },
   {
    "duration": 37,
    "start_time": "2022-01-19T19:03:44.458Z"
   },
   {
    "duration": 70,
    "start_time": "2022-01-19T19:03:44.497Z"
   },
   {
    "duration": 38,
    "start_time": "2022-01-19T19:03:44.570Z"
   },
   {
    "duration": 57,
    "start_time": "2022-01-19T19:03:44.610Z"
   },
   {
    "duration": 20,
    "start_time": "2022-01-19T19:03:44.669Z"
   },
   {
    "duration": 10821,
    "start_time": "2022-01-19T19:03:44.691Z"
   },
   {
    "duration": -2,
    "start_time": "2022-01-19T19:03:55.520Z"
   },
   {
    "duration": -12,
    "start_time": "2022-01-19T19:03:55.532Z"
   },
   {
    "duration": -26,
    "start_time": "2022-01-19T19:03:55.548Z"
   },
   {
    "duration": -36,
    "start_time": "2022-01-19T19:03:55.560Z"
   },
   {
    "duration": -46,
    "start_time": "2022-01-19T19:03:55.572Z"
   },
   {
    "duration": -54,
    "start_time": "2022-01-19T19:03:55.582Z"
   },
   {
    "duration": -65,
    "start_time": "2022-01-19T19:03:55.594Z"
   },
   {
    "duration": -74,
    "start_time": "2022-01-19T19:03:55.605Z"
   },
   {
    "duration": -85,
    "start_time": "2022-01-19T19:03:55.617Z"
   },
   {
    "duration": -421,
    "start_time": "2022-01-19T19:03:55.955Z"
   },
   {
    "duration": -431,
    "start_time": "2022-01-19T19:03:55.966Z"
   },
   {
    "duration": -439,
    "start_time": "2022-01-19T19:03:55.976Z"
   },
   {
    "duration": -450,
    "start_time": "2022-01-19T19:03:55.988Z"
   },
   {
    "duration": -458,
    "start_time": "2022-01-19T19:03:55.998Z"
   },
   {
    "duration": -467,
    "start_time": "2022-01-19T19:03:56.009Z"
   },
   {
    "duration": -489,
    "start_time": "2022-01-19T19:03:56.033Z"
   },
   {
    "duration": -499,
    "start_time": "2022-01-19T19:03:56.044Z"
   },
   {
    "duration": -507,
    "start_time": "2022-01-19T19:03:56.054Z"
   },
   {
    "duration": -517,
    "start_time": "2022-01-19T19:03:56.065Z"
   },
   {
    "duration": -526,
    "start_time": "2022-01-19T19:03:56.075Z"
   },
   {
    "duration": -536,
    "start_time": "2022-01-19T19:03:56.086Z"
   },
   {
    "duration": -605,
    "start_time": "2022-01-19T19:03:56.157Z"
   },
   {
    "duration": -616,
    "start_time": "2022-01-19T19:03:56.169Z"
   },
   {
    "duration": -629,
    "start_time": "2022-01-19T19:03:56.184Z"
   },
   {
    "duration": -639,
    "start_time": "2022-01-19T19:03:56.195Z"
   },
   {
    "duration": -649,
    "start_time": "2022-01-19T19:03:56.206Z"
   },
   {
    "duration": -659,
    "start_time": "2022-01-19T19:03:56.217Z"
   },
   {
    "duration": 20,
    "start_time": "2022-01-19T19:04:11.689Z"
   },
   {
    "duration": 10,
    "start_time": "2022-01-19T19:04:18.311Z"
   },
   {
    "duration": 8,
    "start_time": "2022-01-19T19:04:23.028Z"
   },
   {
    "duration": 9,
    "start_time": "2022-01-19T19:04:34.762Z"
   },
   {
    "duration": 8,
    "start_time": "2022-01-19T19:06:19.501Z"
   },
   {
    "duration": 19,
    "start_time": "2022-01-19T19:06:21.539Z"
   },
   {
    "duration": 18,
    "start_time": "2022-01-19T19:06:25.170Z"
   },
   {
    "duration": 1172,
    "start_time": "2022-01-19T19:06:28.900Z"
   },
   {
    "duration": 21,
    "start_time": "2022-01-19T20:02:26.021Z"
   },
   {
    "duration": 22,
    "start_time": "2022-01-19T20:02:29.188Z"
   },
   {
    "duration": 418,
    "start_time": "2022-01-19T20:02:32.861Z"
   },
   {
    "duration": 1078,
    "start_time": "2022-01-20T14:12:05.876Z"
   },
   {
    "duration": 506,
    "start_time": "2022-01-20T14:12:06.956Z"
   },
   {
    "duration": 26,
    "start_time": "2022-01-20T14:12:07.464Z"
   },
   {
    "duration": 10,
    "start_time": "2022-01-20T14:12:07.492Z"
   },
   {
    "duration": 14,
    "start_time": "2022-01-20T14:12:07.504Z"
   },
   {
    "duration": 8,
    "start_time": "2022-01-20T14:12:07.520Z"
   },
   {
    "duration": 13,
    "start_time": "2022-01-20T14:12:07.530Z"
   },
   {
    "duration": 33,
    "start_time": "2022-01-20T14:12:07.545Z"
   },
   {
    "duration": 28,
    "start_time": "2022-01-20T14:12:07.581Z"
   },
   {
    "duration": 102,
    "start_time": "2022-01-20T14:12:07.612Z"
   },
   {
    "duration": 29,
    "start_time": "2022-01-20T14:12:07.716Z"
   },
   {
    "duration": 20,
    "start_time": "2022-01-20T14:12:07.747Z"
   },
   {
    "duration": 39,
    "start_time": "2022-01-20T14:12:07.768Z"
   },
   {
    "duration": 12,
    "start_time": "2022-01-20T14:12:07.808Z"
   },
   {
    "duration": 15,
    "start_time": "2022-01-20T14:12:07.822Z"
   },
   {
    "duration": 15,
    "start_time": "2022-01-20T14:12:07.839Z"
   },
   {
    "duration": 776,
    "start_time": "2022-01-20T14:12:07.856Z"
   },
   {
    "duration": 17,
    "start_time": "2022-01-20T14:12:08.634Z"
   },
   {
    "duration": 52,
    "start_time": "2022-01-20T14:12:08.652Z"
   },
   {
    "duration": 377,
    "start_time": "2022-01-20T14:12:08.706Z"
   },
   {
    "duration": 19,
    "start_time": "2022-01-20T14:12:09.085Z"
   },
   {
    "duration": 377,
    "start_time": "2022-01-20T14:12:09.106Z"
   },
   {
    "duration": 15,
    "start_time": "2022-01-20T14:12:09.485Z"
   },
   {
    "duration": 26,
    "start_time": "2022-01-20T14:12:09.502Z"
   },
   {
    "duration": 261,
    "start_time": "2022-01-20T14:12:09.530Z"
   },
   {
    "duration": 14,
    "start_time": "2022-01-20T14:12:09.792Z"
   },
   {
    "duration": 9,
    "start_time": "2022-01-20T14:12:09.809Z"
   },
   {
    "duration": 402,
    "start_time": "2022-01-20T14:12:09.820Z"
   },
   {
    "duration": 5,
    "start_time": "2022-01-20T14:12:10.223Z"
   },
   {
    "duration": 7,
    "start_time": "2022-01-20T14:12:10.230Z"
   },
   {
    "duration": 292,
    "start_time": "2022-01-20T14:12:10.239Z"
   },
   {
    "duration": 5,
    "start_time": "2022-01-20T14:12:10.533Z"
   },
   {
    "duration": 9,
    "start_time": "2022-01-20T14:12:10.539Z"
   },
   {
    "duration": 454,
    "start_time": "2022-01-20T14:12:10.549Z"
   },
   {
    "duration": -7713,
    "start_time": "2022-01-20T14:12:18.718Z"
   },
   {
    "duration": -7724,
    "start_time": "2022-01-20T14:12:18.730Z"
   },
   {
    "duration": -7762,
    "start_time": "2022-01-20T14:12:18.769Z"
   },
   {
    "duration": -7779,
    "start_time": "2022-01-20T14:12:18.787Z"
   },
   {
    "duration": -7790,
    "start_time": "2022-01-20T14:12:18.799Z"
   },
   {
    "duration": -7802,
    "start_time": "2022-01-20T14:12:18.812Z"
   },
   {
    "duration": -7813,
    "start_time": "2022-01-20T14:12:18.823Z"
   },
   {
    "duration": 5,
    "start_time": "2022-01-20T14:13:42.075Z"
   },
   {
    "duration": 9,
    "start_time": "2022-01-20T14:14:02.145Z"
   },
   {
    "duration": 14,
    "start_time": "2022-01-20T14:14:11.164Z"
   },
   {
    "duration": 12,
    "start_time": "2022-01-20T14:14:20.884Z"
   },
   {
    "duration": 20,
    "start_time": "2022-01-20T14:14:25.094Z"
   },
   {
    "duration": 12,
    "start_time": "2022-01-20T14:14:31.568Z"
   },
   {
    "duration": 5,
    "start_time": "2022-01-20T14:17:02.844Z"
   },
   {
    "duration": 4,
    "start_time": "2022-01-20T14:17:48.865Z"
   },
   {
    "duration": 278,
    "start_time": "2022-01-20T14:18:39.736Z"
   },
   {
    "duration": 5,
    "start_time": "2022-01-20T14:19:01.856Z"
   },
   {
    "duration": 5,
    "start_time": "2022-01-20T14:19:14.906Z"
   },
   {
    "duration": 5,
    "start_time": "2022-01-20T14:19:21.896Z"
   },
   {
    "duration": 14,
    "start_time": "2022-01-20T14:19:59.172Z"
   },
   {
    "duration": 8,
    "start_time": "2022-01-20T14:20:50.596Z"
   },
   {
    "duration": 7,
    "start_time": "2022-01-20T14:20:53.845Z"
   },
   {
    "duration": 8,
    "start_time": "2022-01-20T14:22:30.095Z"
   },
   {
    "duration": 967,
    "start_time": "2022-01-20T14:22:42.478Z"
   },
   {
    "duration": 461,
    "start_time": "2022-01-20T14:22:43.447Z"
   },
   {
    "duration": 24,
    "start_time": "2022-01-20T14:22:43.910Z"
   },
   {
    "duration": 5,
    "start_time": "2022-01-20T14:22:43.936Z"
   },
   {
    "duration": 10,
    "start_time": "2022-01-20T14:22:43.943Z"
   },
   {
    "duration": 5,
    "start_time": "2022-01-20T14:22:43.954Z"
   },
   {
    "duration": 12,
    "start_time": "2022-01-20T14:22:43.960Z"
   },
   {
    "duration": 31,
    "start_time": "2022-01-20T14:22:43.974Z"
   },
   {
    "duration": 23,
    "start_time": "2022-01-20T14:22:44.007Z"
   },
   {
    "duration": 74,
    "start_time": "2022-01-20T14:22:44.031Z"
   },
   {
    "duration": 25,
    "start_time": "2022-01-20T14:22:44.107Z"
   },
   {
    "duration": 5,
    "start_time": "2022-01-20T14:22:44.133Z"
   },
   {
    "duration": 7,
    "start_time": "2022-01-20T14:22:44.140Z"
   },
   {
    "duration": 19,
    "start_time": "2022-01-20T14:22:44.148Z"
   },
   {
    "duration": 37,
    "start_time": "2022-01-20T14:22:44.169Z"
   },
   {
    "duration": 7,
    "start_time": "2022-01-20T14:22:44.208Z"
   },
   {
    "duration": 15,
    "start_time": "2022-01-20T14:22:44.216Z"
   },
   {
    "duration": 13,
    "start_time": "2022-01-20T14:22:44.232Z"
   },
   {
    "duration": 743,
    "start_time": "2022-01-20T14:22:44.246Z"
   },
   {
    "duration": 18,
    "start_time": "2022-01-20T14:22:44.990Z"
   },
   {
    "duration": 23,
    "start_time": "2022-01-20T14:22:45.011Z"
   },
   {
    "duration": 67,
    "start_time": "2022-01-20T14:22:45.036Z"
   },
   {
    "duration": 326,
    "start_time": "2022-01-20T14:22:45.106Z"
   },
   {
    "duration": 10,
    "start_time": "2022-01-20T14:22:45.434Z"
   },
   {
    "duration": 370,
    "start_time": "2022-01-20T14:22:45.445Z"
   },
   {
    "duration": 10,
    "start_time": "2022-01-20T14:22:45.816Z"
   },
   {
    "duration": 19,
    "start_time": "2022-01-20T14:22:45.827Z"
   },
   {
    "duration": 246,
    "start_time": "2022-01-20T14:22:45.848Z"
   },
   {
    "duration": 10,
    "start_time": "2022-01-20T14:22:46.095Z"
   },
   {
    "duration": 17,
    "start_time": "2022-01-20T14:22:46.106Z"
   },
   {
    "duration": 372,
    "start_time": "2022-01-20T14:22:46.125Z"
   },
   {
    "duration": 5,
    "start_time": "2022-01-20T14:22:46.499Z"
   },
   {
    "duration": 25,
    "start_time": "2022-01-20T14:22:46.505Z"
   },
   {
    "duration": 294,
    "start_time": "2022-01-20T14:22:46.532Z"
   },
   {
    "duration": 5,
    "start_time": "2022-01-20T14:22:46.828Z"
   },
   {
    "duration": 10,
    "start_time": "2022-01-20T14:22:46.835Z"
   },
   {
    "duration": 463,
    "start_time": "2022-01-20T14:22:46.846Z"
   },
   {
    "duration": -7539,
    "start_time": "2022-01-20T14:22:54.850Z"
   },
   {
    "duration": -7548,
    "start_time": "2022-01-20T14:22:54.860Z"
   },
   {
    "duration": -7557,
    "start_time": "2022-01-20T14:22:54.870Z"
   },
   {
    "duration": -7567,
    "start_time": "2022-01-20T14:22:54.881Z"
   },
   {
    "duration": -7575,
    "start_time": "2022-01-20T14:22:54.890Z"
   },
   {
    "duration": -7585,
    "start_time": "2022-01-20T14:22:54.901Z"
   },
   {
    "duration": -7594,
    "start_time": "2022-01-20T14:22:54.910Z"
   },
   {
    "duration": 4,
    "start_time": "2022-01-20T14:24:07.893Z"
   },
   {
    "duration": 11,
    "start_time": "2022-01-20T14:45:36.454Z"
   },
   {
    "duration": 12,
    "start_time": "2022-01-20T14:49:34.723Z"
   },
   {
    "duration": 13,
    "start_time": "2022-01-20T14:49:47.264Z"
   },
   {
    "duration": 273,
    "start_time": "2022-01-20T14:50:22.583Z"
   },
   {
    "duration": 10,
    "start_time": "2022-01-20T14:50:31.755Z"
   },
   {
    "duration": 5,
    "start_time": "2022-01-20T15:12:41.264Z"
   },
   {
    "duration": 5,
    "start_time": "2022-01-20T15:12:44.613Z"
   },
   {
    "duration": 272,
    "start_time": "2022-01-20T15:12:47.514Z"
   },
   {
    "duration": 319,
    "start_time": "2022-01-20T15:12:50.592Z"
   },
   {
    "duration": 5,
    "start_time": "2022-01-20T15:12:58.752Z"
   },
   {
    "duration": 6,
    "start_time": "2022-01-20T15:13:05.534Z"
   },
   {
    "duration": 293,
    "start_time": "2022-01-20T15:13:16.111Z"
   },
   {
    "duration": 608,
    "start_time": "2022-01-20T15:13:18.053Z"
   },
   {
    "duration": 6,
    "start_time": "2022-01-20T15:13:22.683Z"
   },
   {
    "duration": 83,
    "start_time": "2022-01-20T15:13:26.284Z"
   },
   {
    "duration": 6,
    "start_time": "2022-01-20T15:13:28.665Z"
   },
   {
    "duration": 7,
    "start_time": "2022-01-20T15:13:34.104Z"
   },
   {
    "duration": 7,
    "start_time": "2022-01-20T15:13:40.882Z"
   },
   {
    "duration": 6,
    "start_time": "2022-01-20T15:19:02.830Z"
   },
   {
    "duration": 5,
    "start_time": "2022-01-20T15:20:02.933Z"
   },
   {
    "duration": 5,
    "start_time": "2022-01-20T15:25:21.642Z"
   },
   {
    "duration": 128,
    "start_time": "2022-01-20T15:29:43.952Z"
   },
   {
    "duration": 4,
    "start_time": "2022-01-20T15:29:58.523Z"
   },
   {
    "duration": 5,
    "start_time": "2022-01-20T15:30:02.255Z"
   },
   {
    "duration": 8,
    "start_time": "2022-01-20T15:30:05.993Z"
   },
   {
    "duration": 9,
    "start_time": "2022-01-20T15:30:09.564Z"
   },
   {
    "duration": 10,
    "start_time": "2022-01-20T15:30:13.114Z"
   },
   {
    "duration": 8,
    "start_time": "2022-01-20T15:35:23.154Z"
   },
   {
    "duration": 5,
    "start_time": "2022-01-20T15:35:58.673Z"
   },
   {
    "duration": 5,
    "start_time": "2022-01-20T15:36:28.429Z"
   },
   {
    "duration": 16,
    "start_time": "2022-01-20T15:48:31.983Z"
   },
   {
    "duration": 3,
    "start_time": "2022-01-20T15:48:52.224Z"
   },
   {
    "duration": 3,
    "start_time": "2022-01-20T15:49:23.805Z"
   },
   {
    "duration": 5,
    "start_time": "2022-01-20T15:49:56.444Z"
   },
   {
    "duration": 4,
    "start_time": "2022-01-20T15:50:17.495Z"
   },
   {
    "duration": 6,
    "start_time": "2022-01-20T15:52:49.305Z"
   },
   {
    "duration": 5,
    "start_time": "2022-01-20T15:53:17.323Z"
   },
   {
    "duration": 527,
    "start_time": "2022-01-20T15:54:04.594Z"
   },
   {
    "duration": 3,
    "start_time": "2022-01-20T15:55:19.835Z"
   },
   {
    "duration": 4,
    "start_time": "2022-01-20T15:55:22.894Z"
   },
   {
    "duration": 4,
    "start_time": "2022-01-20T15:55:50.775Z"
   },
   {
    "duration": 4,
    "start_time": "2022-01-20T15:55:52.912Z"
   },
   {
    "duration": 4,
    "start_time": "2022-01-20T16:04:06.871Z"
   },
   {
    "duration": 4,
    "start_time": "2022-01-20T16:04:12.035Z"
   },
   {
    "duration": 5,
    "start_time": "2022-01-20T16:09:28.533Z"
   },
   {
    "duration": 145,
    "start_time": "2022-01-20T16:10:11.873Z"
   },
   {
    "duration": 5,
    "start_time": "2022-01-20T16:10:14.684Z"
   },
   {
    "duration": 5,
    "start_time": "2022-01-20T16:10:51.974Z"
   },
   {
    "duration": 5,
    "start_time": "2022-01-20T16:10:56.373Z"
   },
   {
    "duration": 4,
    "start_time": "2022-01-20T16:11:14.364Z"
   },
   {
    "duration": 5,
    "start_time": "2022-01-20T16:17:24.114Z"
   },
   {
    "duration": 16,
    "start_time": "2022-01-20T16:34:59.075Z"
   },
   {
    "duration": 5,
    "start_time": "2022-01-20T16:39:07.403Z"
   },
   {
    "duration": 15,
    "start_time": "2022-01-20T16:40:09.004Z"
   },
   {
    "duration": 5,
    "start_time": "2022-01-20T16:41:01.634Z"
   },
   {
    "duration": 6,
    "start_time": "2022-01-20T16:42:15.873Z"
   },
   {
    "duration": 5,
    "start_time": "2022-01-20T16:44:32.553Z"
   },
   {
    "duration": 5,
    "start_time": "2022-01-20T16:45:06.674Z"
   },
   {
    "duration": 284,
    "start_time": "2022-01-20T17:09:33.503Z"
   },
   {
    "duration": 262,
    "start_time": "2022-01-20T17:09:41.333Z"
   },
   {
    "duration": 5,
    "start_time": "2022-01-20T17:09:47.565Z"
   },
   {
    "duration": 5,
    "start_time": "2022-01-20T17:11:06.143Z"
   },
   {
    "duration": 5,
    "start_time": "2022-01-20T17:11:27.474Z"
   },
   {
    "duration": 8,
    "start_time": "2022-01-20T17:11:39.373Z"
   },
   {
    "duration": 6,
    "start_time": "2022-01-20T17:12:24.043Z"
   },
   {
    "duration": 97,
    "start_time": "2022-01-20T17:16:09.179Z"
   },
   {
    "duration": 4,
    "start_time": "2022-01-20T17:16:12.185Z"
   },
   {
    "duration": 5,
    "start_time": "2022-01-20T17:16:27.345Z"
   },
   {
    "duration": 6,
    "start_time": "2022-01-20T17:16:46.115Z"
   },
   {
    "duration": 6,
    "start_time": "2022-01-20T17:17:00.715Z"
   },
   {
    "duration": 5,
    "start_time": "2022-01-20T17:17:07.434Z"
   },
   {
    "duration": 5,
    "start_time": "2022-01-20T17:17:15.734Z"
   },
   {
    "duration": 614,
    "start_time": "2022-01-20T17:17:34.382Z"
   },
   {
    "duration": 5,
    "start_time": "2022-01-20T17:17:56.234Z"
   },
   {
    "duration": 4,
    "start_time": "2022-01-20T17:18:11.484Z"
   },
   {
    "duration": 17,
    "start_time": "2022-01-20T17:19:15.384Z"
   },
   {
    "duration": 92,
    "start_time": "2022-01-20T17:23:23.804Z"
   },
   {
    "duration": 5,
    "start_time": "2022-01-20T17:23:39.796Z"
   },
   {
    "duration": 5,
    "start_time": "2022-01-20T17:23:57.814Z"
   },
   {
    "duration": 1126,
    "start_time": "2022-01-21T10:19:55.657Z"
   },
   {
    "duration": 608,
    "start_time": "2022-01-21T10:19:56.785Z"
   },
   {
    "duration": 31,
    "start_time": "2022-01-21T10:19:57.395Z"
   },
   {
    "duration": 6,
    "start_time": "2022-01-21T10:19:57.428Z"
   },
   {
    "duration": 9,
    "start_time": "2022-01-21T10:19:57.436Z"
   },
   {
    "duration": 6,
    "start_time": "2022-01-21T10:19:57.447Z"
   },
   {
    "duration": 13,
    "start_time": "2022-01-21T10:19:57.455Z"
   },
   {
    "duration": 40,
    "start_time": "2022-01-21T10:19:57.471Z"
   },
   {
    "duration": 31,
    "start_time": "2022-01-21T10:19:57.514Z"
   },
   {
    "duration": 58,
    "start_time": "2022-01-21T10:19:57.547Z"
   },
   {
    "duration": 40,
    "start_time": "2022-01-21T10:19:57.607Z"
   },
   {
    "duration": 7,
    "start_time": "2022-01-21T10:19:57.649Z"
   },
   {
    "duration": 6,
    "start_time": "2022-01-21T10:19:57.658Z"
   },
   {
    "duration": 49,
    "start_time": "2022-01-21T10:19:57.666Z"
   },
   {
    "duration": 13,
    "start_time": "2022-01-21T10:19:57.718Z"
   },
   {
    "duration": 12,
    "start_time": "2022-01-21T10:19:57.734Z"
   },
   {
    "duration": 21,
    "start_time": "2022-01-21T10:19:57.749Z"
   },
   {
    "duration": 14,
    "start_time": "2022-01-21T10:19:57.798Z"
   },
   {
    "duration": 1021,
    "start_time": "2022-01-21T10:30:48.424Z"
   },
   {
    "duration": 529,
    "start_time": "2022-01-21T10:30:49.447Z"
   },
   {
    "duration": 28,
    "start_time": "2022-01-21T10:30:49.978Z"
   },
   {
    "duration": 6,
    "start_time": "2022-01-21T10:30:50.009Z"
   },
   {
    "duration": 24,
    "start_time": "2022-01-21T10:30:50.017Z"
   },
   {
    "duration": 357,
    "start_time": "2022-01-21T10:30:50.043Z"
   },
   {
    "duration": 17,
    "start_time": "2022-01-21T10:30:50.403Z"
   },
   {
    "duration": 33,
    "start_time": "2022-01-21T10:30:50.422Z"
   },
   {
    "duration": 27,
    "start_time": "2022-01-21T10:30:50.459Z"
   },
   {
    "duration": 82,
    "start_time": "2022-01-21T10:30:50.500Z"
   },
   {
    "duration": 26,
    "start_time": "2022-01-21T10:30:50.584Z"
   },
   {
    "duration": 5,
    "start_time": "2022-01-21T10:30:50.612Z"
   },
   {
    "duration": 7,
    "start_time": "2022-01-21T10:30:50.619Z"
   },
   {
    "duration": 35,
    "start_time": "2022-01-21T10:30:50.628Z"
   },
   {
    "duration": 343,
    "start_time": "2022-01-21T10:30:50.665Z"
   },
   {
    "duration": 9,
    "start_time": "2022-01-21T10:30:51.010Z"
   },
   {
    "duration": 19,
    "start_time": "2022-01-21T10:30:51.021Z"
   },
   {
    "duration": 17,
    "start_time": "2022-01-21T10:30:51.042Z"
   },
   {
    "duration": 972,
    "start_time": "2022-01-21T12:19:58.769Z"
   },
   {
    "duration": 489,
    "start_time": "2022-01-21T12:19:59.743Z"
   },
   {
    "duration": 27,
    "start_time": "2022-01-21T12:20:00.234Z"
   },
   {
    "duration": 6,
    "start_time": "2022-01-21T12:20:00.263Z"
   },
   {
    "duration": 12,
    "start_time": "2022-01-21T12:20:00.271Z"
   },
   {
    "duration": 5,
    "start_time": "2022-01-21T12:20:00.285Z"
   },
   {
    "duration": 13,
    "start_time": "2022-01-21T12:20:00.292Z"
   },
   {
    "duration": 26,
    "start_time": "2022-01-21T12:20:00.308Z"
   },
   {
    "duration": 22,
    "start_time": "2022-01-21T12:20:00.337Z"
   },
   {
    "duration": 72,
    "start_time": "2022-01-21T12:20:00.361Z"
   },
   {
    "duration": 25,
    "start_time": "2022-01-21T12:20:00.435Z"
   },
   {
    "duration": 20,
    "start_time": "2022-01-21T12:20:00.462Z"
   },
   {
    "duration": 6,
    "start_time": "2022-01-21T12:20:00.483Z"
   },
   {
    "duration": 24,
    "start_time": "2022-01-21T12:20:00.491Z"
   },
   {
    "duration": 13,
    "start_time": "2022-01-21T12:20:00.516Z"
   },
   {
    "duration": 16,
    "start_time": "2022-01-21T12:20:00.531Z"
   },
   {
    "duration": 19,
    "start_time": "2022-01-21T12:20:00.549Z"
   },
   {
    "duration": 14,
    "start_time": "2022-01-21T12:20:00.570Z"
   },
   {
    "duration": 782,
    "start_time": "2022-01-21T12:20:00.585Z"
   },
   {
    "duration": 37,
    "start_time": "2022-01-21T12:20:01.369Z"
   },
   {
    "duration": 15,
    "start_time": "2022-01-21T12:20:01.408Z"
   },
   {
    "duration": 371,
    "start_time": "2022-01-21T12:20:01.424Z"
   },
   {
    "duration": 10,
    "start_time": "2022-01-21T12:20:01.801Z"
   },
   {
    "duration": 400,
    "start_time": "2022-01-21T12:20:01.813Z"
   },
   {
    "duration": 12,
    "start_time": "2022-01-21T12:20:02.215Z"
   },
   {
    "duration": 266,
    "start_time": "2022-01-21T12:20:02.229Z"
   },
   {
    "duration": 10,
    "start_time": "2022-01-21T12:20:02.497Z"
   },
   {
    "duration": 24,
    "start_time": "2022-01-21T12:20:02.509Z"
   },
   {
    "duration": 413,
    "start_time": "2022-01-21T12:20:02.534Z"
   },
   {
    "duration": 10,
    "start_time": "2022-01-21T12:20:02.949Z"
   },
   {
    "duration": 22,
    "start_time": "2022-01-21T12:20:02.960Z"
   },
   {
    "duration": 291,
    "start_time": "2022-01-21T12:20:02.984Z"
   },
   {
    "duration": 5,
    "start_time": "2022-01-21T12:20:03.277Z"
   },
   {
    "duration": 21,
    "start_time": "2022-01-21T12:20:03.284Z"
   },
   {
    "duration": 28,
    "start_time": "2022-01-21T12:20:03.307Z"
   },
   {
    "duration": 19,
    "start_time": "2022-01-21T12:20:03.337Z"
   },
   {
    "duration": 24,
    "start_time": "2022-01-21T12:20:03.357Z"
   },
   {
    "duration": 23,
    "start_time": "2022-01-21T12:20:03.383Z"
   },
   {
    "duration": 22,
    "start_time": "2022-01-21T12:20:03.408Z"
   },
   {
    "duration": 26,
    "start_time": "2022-01-21T12:20:03.432Z"
   },
   {
    "duration": 481,
    "start_time": "2022-01-21T12:24:53.270Z"
   },
   {
    "duration": 269,
    "start_time": "2022-01-21T12:24:57.247Z"
   },
   {
    "duration": 13,
    "start_time": "2022-01-21T12:25:03.488Z"
   },
   {
    "duration": 23,
    "start_time": "2022-01-21T12:26:25.213Z"
   },
   {
    "duration": 22,
    "start_time": "2022-01-21T12:27:26.039Z"
   },
   {
    "duration": 26,
    "start_time": "2022-01-21T12:28:04.756Z"
   },
   {
    "duration": 277,
    "start_time": "2022-01-21T12:28:55.429Z"
   },
   {
    "duration": 350,
    "start_time": "2022-01-21T12:29:23.352Z"
   },
   {
    "duration": 334,
    "start_time": "2022-01-21T12:29:43.678Z"
   },
   {
    "duration": 337,
    "start_time": "2022-01-21T12:31:07.988Z"
   },
   {
    "duration": 350,
    "start_time": "2022-01-21T12:31:28.450Z"
   },
   {
    "duration": 338,
    "start_time": "2022-01-21T12:31:51.190Z"
   },
   {
    "duration": 475,
    "start_time": "2022-01-21T12:31:54.799Z"
   },
   {
    "duration": 335,
    "start_time": "2022-01-21T12:32:33.499Z"
   },
   {
    "duration": 303,
    "start_time": "2022-01-21T12:32:58.526Z"
   },
   {
    "duration": 352,
    "start_time": "2022-01-21T12:33:06.178Z"
   },
   {
    "duration": 318,
    "start_time": "2022-01-21T12:33:18.828Z"
   },
   {
    "duration": 323,
    "start_time": "2022-01-21T12:33:25.829Z"
   },
   {
    "duration": 331,
    "start_time": "2022-01-21T12:37:31.798Z"
   },
   {
    "duration": 366,
    "start_time": "2022-01-21T12:37:38.969Z"
   },
   {
    "duration": 354,
    "start_time": "2022-01-21T12:37:45.970Z"
   },
   {
    "duration": 344,
    "start_time": "2022-01-21T12:38:57.067Z"
   },
   {
    "duration": 357,
    "start_time": "2022-01-21T12:39:06.870Z"
   },
   {
    "duration": 346,
    "start_time": "2022-01-21T12:39:15.149Z"
   },
   {
    "duration": 346,
    "start_time": "2022-01-21T12:39:22.750Z"
   },
   {
    "duration": 486,
    "start_time": "2022-01-21T12:39:41.229Z"
   },
   {
    "duration": 300,
    "start_time": "2022-01-21T12:39:55.320Z"
   },
   {
    "duration": 12,
    "start_time": "2022-01-21T12:50:04.710Z"
   },
   {
    "duration": 6,
    "start_time": "2022-01-21T12:53:44.507Z"
   },
   {
    "duration": 269,
    "start_time": "2022-01-21T12:54:07.059Z"
   },
   {
    "duration": 298,
    "start_time": "2022-01-21T12:54:14.093Z"
   },
   {
    "duration": 7,
    "start_time": "2022-01-21T12:55:06.900Z"
   },
   {
    "duration": 8,
    "start_time": "2022-01-21T12:55:59.038Z"
   },
   {
    "duration": 86,
    "start_time": "2022-01-21T12:56:06.340Z"
   },
   {
    "duration": 271,
    "start_time": "2022-01-21T12:56:14.158Z"
   },
   {
    "duration": 6,
    "start_time": "2022-01-21T12:56:21.780Z"
   },
   {
    "duration": 6,
    "start_time": "2022-01-21T12:56:28.188Z"
   },
   {
    "duration": 83,
    "start_time": "2022-01-21T12:56:40.049Z"
   },
   {
    "duration": 7,
    "start_time": "2022-01-21T12:56:42.937Z"
   },
   {
    "duration": 7,
    "start_time": "2022-01-21T12:56:46.899Z"
   },
   {
    "duration": 105,
    "start_time": "2022-01-21T12:58:40.510Z"
   },
   {
    "duration": 116,
    "start_time": "2022-01-21T12:58:50.809Z"
   },
   {
    "duration": 5,
    "start_time": "2022-01-21T12:58:58.691Z"
   },
   {
    "duration": 6473,
    "start_time": "2022-01-21T12:59:15.859Z"
   },
   {
    "duration": 6,
    "start_time": "2022-01-21T12:59:42.950Z"
   },
   {
    "duration": 7,
    "start_time": "2022-01-21T12:59:55.800Z"
   },
   {
    "duration": 7,
    "start_time": "2022-01-21T13:00:15.089Z"
   },
   {
    "duration": 8,
    "start_time": "2022-01-21T13:00:25.039Z"
   },
   {
    "duration": 12,
    "start_time": "2022-01-21T13:00:28.359Z"
   },
   {
    "duration": 18,
    "start_time": "2022-01-21T13:00:50.939Z"
   },
   {
    "duration": 14,
    "start_time": "2022-01-21T13:01:03.698Z"
   },
   {
    "duration": 6,
    "start_time": "2022-01-21T13:01:53.629Z"
   },
   {
    "duration": 6,
    "start_time": "2022-01-21T13:02:06.239Z"
   },
   {
    "duration": 7,
    "start_time": "2022-01-21T13:02:51.123Z"
   },
   {
    "duration": 278,
    "start_time": "2022-01-21T13:09:10.890Z"
   },
   {
    "duration": 1916,
    "start_time": "2022-01-21T13:09:24.507Z"
   },
   {
    "duration": 9,
    "start_time": "2022-01-21T13:09:33.421Z"
   },
   {
    "duration": 6,
    "start_time": "2022-01-21T13:09:56.588Z"
   },
   {
    "duration": 12,
    "start_time": "2022-01-21T13:10:00.007Z"
   },
   {
    "duration": 13,
    "start_time": "2022-01-21T13:13:57.319Z"
   },
   {
    "duration": 6,
    "start_time": "2022-01-21T13:14:16.211Z"
   },
   {
    "duration": 8,
    "start_time": "2022-01-21T13:15:57.766Z"
   },
   {
    "duration": 7,
    "start_time": "2022-01-21T13:16:07.940Z"
   },
   {
    "duration": 7,
    "start_time": "2022-01-21T13:16:31.109Z"
   },
   {
    "duration": 10,
    "start_time": "2022-01-21T13:16:35.016Z"
   },
   {
    "duration": 9,
    "start_time": "2022-01-21T13:16:49.948Z"
   },
   {
    "duration": 12,
    "start_time": "2022-01-21T13:17:11.720Z"
   },
   {
    "duration": 10,
    "start_time": "2022-01-21T13:17:22.841Z"
   },
   {
    "duration": 12,
    "start_time": "2022-01-21T13:17:39.539Z"
   },
   {
    "duration": 4,
    "start_time": "2022-01-21T13:18:39.778Z"
   },
   {
    "duration": 7,
    "start_time": "2022-01-21T13:18:45.530Z"
   },
   {
    "duration": 8,
    "start_time": "2022-01-21T13:19:20.958Z"
   },
   {
    "duration": 8,
    "start_time": "2022-01-21T13:19:51.540Z"
   },
   {
    "duration": 9,
    "start_time": "2022-01-21T13:19:57.800Z"
   },
   {
    "duration": 8,
    "start_time": "2022-01-21T13:21:03.961Z"
   },
   {
    "duration": 7,
    "start_time": "2022-01-21T13:21:13.350Z"
   },
   {
    "duration": 15,
    "start_time": "2022-01-21T13:21:35.959Z"
   },
   {
    "duration": 9,
    "start_time": "2022-01-21T13:21:48.073Z"
   },
   {
    "duration": 6,
    "start_time": "2022-01-21T13:21:55.720Z"
   },
   {
    "duration": 17,
    "start_time": "2022-01-21T13:22:07.798Z"
   },
   {
    "duration": 8,
    "start_time": "2022-01-21T13:22:24.791Z"
   },
   {
    "duration": 16,
    "start_time": "2022-01-21T13:23:52.284Z"
   },
   {
    "duration": 8,
    "start_time": "2022-01-21T13:24:03.160Z"
   },
   {
    "duration": 7,
    "start_time": "2022-01-21T13:24:18.969Z"
   },
   {
    "duration": 4,
    "start_time": "2022-01-21T13:25:23.859Z"
   },
   {
    "duration": 6,
    "start_time": "2022-01-21T13:25:36.629Z"
   },
   {
    "duration": 5,
    "start_time": "2022-01-21T13:26:36.270Z"
   },
   {
    "duration": 7,
    "start_time": "2022-01-21T13:26:40.958Z"
   },
   {
    "duration": 4,
    "start_time": "2022-01-21T13:27:45.699Z"
   },
   {
    "duration": 136,
    "start_time": "2022-01-21T13:27:56.706Z"
   },
   {
    "duration": 135,
    "start_time": "2022-01-21T13:28:19.769Z"
   },
   {
    "duration": 127,
    "start_time": "2022-01-21T13:28:29.709Z"
   },
   {
    "duration": 3,
    "start_time": "2022-01-21T13:28:55.860Z"
   },
   {
    "duration": 106,
    "start_time": "2022-01-21T13:29:05.055Z"
   },
   {
    "duration": 1822,
    "start_time": "2022-01-21T13:29:19.270Z"
   },
   {
    "duration": 1925,
    "start_time": "2022-01-21T13:29:23.151Z"
   },
   {
    "duration": 1903,
    "start_time": "2022-01-21T13:29:26.720Z"
   },
   {
    "duration": 4,
    "start_time": "2022-01-21T13:29:31.750Z"
   },
   {
    "duration": 7822,
    "start_time": "2022-01-21T13:29:57.310Z"
   },
   {
    "duration": 268,
    "start_time": "2022-01-21T13:34:30.089Z"
   },
   {
    "duration": 97,
    "start_time": "2022-01-21T13:34:35.639Z"
   },
   {
    "duration": 57806,
    "start_time": "2022-01-21T13:34:58.541Z"
   },
   {
    "duration": -3961,
    "start_time": "2022-01-21T13:36:00.313Z"
   },
   {
    "duration": 5160,
    "start_time": "2022-01-21T13:36:06.929Z"
   },
   {
    "duration": 91,
    "start_time": "2022-01-21T13:37:03.889Z"
   },
   {
    "duration": 3022,
    "start_time": "2022-01-21T13:37:11.102Z"
   },
   {
    "duration": 1310,
    "start_time": "2022-01-21T13:37:35.500Z"
   },
   {
    "duration": 4343,
    "start_time": "2022-01-21T13:37:46.121Z"
   },
   {
    "duration": 4582,
    "start_time": "2022-01-21T13:37:52.162Z"
   },
   {
    "duration": 1310,
    "start_time": "2022-01-21T13:38:01.118Z"
   },
   {
    "duration": 333,
    "start_time": "2022-01-21T13:39:41.940Z"
   },
   {
    "duration": 302,
    "start_time": "2022-01-21T13:39:55.121Z"
   },
   {
    "duration": 273,
    "start_time": "2022-01-21T13:40:17.273Z"
   },
   {
    "duration": 270,
    "start_time": "2022-01-21T13:47:29.148Z"
   },
   {
    "duration": 97,
    "start_time": "2022-01-21T13:47:34.321Z"
   },
   {
    "duration": 3630,
    "start_time": "2022-01-21T13:48:10.980Z"
   },
   {
    "duration": 116,
    "start_time": "2022-01-21T13:48:18.711Z"
   },
   {
    "duration": 9,
    "start_time": "2022-01-21T13:49:33.580Z"
   },
   {
    "duration": 86,
    "start_time": "2022-01-21T13:49:38.520Z"
   },
   {
    "duration": 9,
    "start_time": "2022-01-21T13:49:43.180Z"
   },
   {
    "duration": 3613,
    "start_time": "2022-01-21T13:51:34.649Z"
   },
   {
    "duration": 234,
    "start_time": "2022-01-21T13:51:46.690Z"
   },
   {
    "duration": 217,
    "start_time": "2022-01-21T13:51:53.528Z"
   },
   {
    "duration": 11,
    "start_time": "2022-01-21T13:52:27.048Z"
   },
   {
    "duration": 228,
    "start_time": "2022-01-21T13:52:41.214Z"
   },
   {
    "duration": 20,
    "start_time": "2022-01-21T13:52:47.401Z"
   },
   {
    "duration": 229,
    "start_time": "2022-01-21T13:52:53.298Z"
   },
   {
    "duration": 7234,
    "start_time": "2022-01-21T13:53:28.360Z"
   },
   {
    "duration": 9,
    "start_time": "2022-01-21T13:53:38.380Z"
   },
   {
    "duration": 181,
    "start_time": "2022-01-21T13:53:43.138Z"
   },
   {
    "duration": 13,
    "start_time": "2022-01-21T13:53:59.722Z"
   },
   {
    "duration": 15,
    "start_time": "2022-01-21T13:54:03.711Z"
   },
   {
    "duration": 16,
    "start_time": "2022-01-21T13:54:16.389Z"
   },
   {
    "duration": 45,
    "start_time": "2022-01-21T13:55:59.720Z"
   },
   {
    "duration": 201,
    "start_time": "2022-01-21T13:56:06.436Z"
   },
   {
    "duration": 707,
    "start_time": "2022-01-21T13:57:52.145Z"
   },
   {
    "duration": 88,
    "start_time": "2022-01-21T13:58:26.050Z"
   },
   {
    "duration": 5,
    "start_time": "2022-01-21T13:58:30.720Z"
   },
   {
    "duration": 6,
    "start_time": "2022-01-21T13:59:11.250Z"
   },
   {
    "duration": 6,
    "start_time": "2022-01-21T13:59:15.548Z"
   },
   {
    "duration": 229,
    "start_time": "2022-01-21T14:00:03.780Z"
   },
   {
    "duration": 260,
    "start_time": "2022-01-21T14:03:08.659Z"
   },
   {
    "duration": 181,
    "start_time": "2022-01-21T14:03:15.921Z"
   },
   {
    "duration": 11,
    "start_time": "2022-01-21T14:03:34.179Z"
   },
   {
    "duration": 20,
    "start_time": "2022-01-21T14:04:08.811Z"
   },
   {
    "duration": 284,
    "start_time": "2022-01-21T14:04:59.811Z"
   },
   {
    "duration": 15,
    "start_time": "2022-01-21T14:05:05.511Z"
   },
   {
    "duration": 7,
    "start_time": "2022-01-21T14:05:13.276Z"
   },
   {
    "duration": 17,
    "start_time": "2022-01-21T14:05:15.270Z"
   },
   {
    "duration": 16,
    "start_time": "2022-01-21T14:05:27.348Z"
   },
   {
    "duration": 17,
    "start_time": "2022-01-21T14:06:17.227Z"
   },
   {
    "duration": 16,
    "start_time": "2022-01-21T14:06:26.639Z"
   },
   {
    "duration": 7,
    "start_time": "2022-01-21T14:06:54.929Z"
   },
   {
    "duration": 9,
    "start_time": "2022-01-21T14:07:26.060Z"
   },
   {
    "duration": 1129,
    "start_time": "2022-01-21T14:08:44.765Z"
   },
   {
    "duration": 554,
    "start_time": "2022-01-21T14:08:45.896Z"
   },
   {
    "duration": 26,
    "start_time": "2022-01-21T14:08:46.453Z"
   },
   {
    "duration": 5,
    "start_time": "2022-01-21T14:08:46.481Z"
   },
   {
    "duration": 24,
    "start_time": "2022-01-21T14:08:46.488Z"
   },
   {
    "duration": 20,
    "start_time": "2022-01-21T14:08:46.514Z"
   },
   {
    "duration": 12,
    "start_time": "2022-01-21T14:08:46.536Z"
   },
   {
    "duration": 29,
    "start_time": "2022-01-21T14:08:46.551Z"
   },
   {
    "duration": 36,
    "start_time": "2022-01-21T14:08:46.582Z"
   },
   {
    "duration": 446,
    "start_time": "2022-01-21T14:08:46.620Z"
   },
   {
    "duration": -5181,
    "start_time": "2022-01-21T14:08:52.250Z"
   },
   {
    "duration": -5205,
    "start_time": "2022-01-21T14:08:52.275Z"
   },
   {
    "duration": -5215,
    "start_time": "2022-01-21T14:08:52.286Z"
   },
   {
    "duration": -5225,
    "start_time": "2022-01-21T14:08:52.297Z"
   },
   {
    "duration": -5366,
    "start_time": "2022-01-21T14:08:52.439Z"
   },
   {
    "duration": -5742,
    "start_time": "2022-01-21T14:08:52.817Z"
   },
   {
    "duration": -5795,
    "start_time": "2022-01-21T14:08:52.871Z"
   },
   {
    "duration": -5830,
    "start_time": "2022-01-21T14:08:52.907Z"
   },
   {
    "duration": -5843,
    "start_time": "2022-01-21T14:08:52.921Z"
   },
   {
    "duration": -6267,
    "start_time": "2022-01-21T14:08:53.346Z"
   },
   {
    "duration": -6293,
    "start_time": "2022-01-21T14:08:53.373Z"
   },
   {
    "duration": -6303,
    "start_time": "2022-01-21T14:08:53.384Z"
   },
   {
    "duration": -6754,
    "start_time": "2022-01-21T14:08:53.836Z"
   },
   {
    "duration": -6786,
    "start_time": "2022-01-21T14:08:53.869Z"
   },
   {
    "duration": -6800,
    "start_time": "2022-01-21T14:08:53.884Z"
   },
   {
    "duration": -6811,
    "start_time": "2022-01-21T14:08:53.896Z"
   },
   {
    "duration": -6935,
    "start_time": "2022-01-21T14:08:54.021Z"
   },
   {
    "duration": -7133,
    "start_time": "2022-01-21T14:08:54.221Z"
   },
   {
    "duration": -7145,
    "start_time": "2022-01-21T14:08:54.234Z"
   },
   {
    "duration": -7230,
    "start_time": "2022-01-21T14:08:54.319Z"
   },
   {
    "duration": -7255,
    "start_time": "2022-01-21T14:08:54.345Z"
   },
   {
    "duration": -7278,
    "start_time": "2022-01-21T14:08:54.369Z"
   },
   {
    "duration": -7289,
    "start_time": "2022-01-21T14:08:54.381Z"
   },
   {
    "duration": -7311,
    "start_time": "2022-01-21T14:08:54.405Z"
   },
   {
    "duration": -7324,
    "start_time": "2022-01-21T14:08:54.419Z"
   },
   {
    "duration": -7334,
    "start_time": "2022-01-21T14:08:54.430Z"
   },
   {
    "duration": -7466,
    "start_time": "2022-01-21T14:08:54.563Z"
   },
   {
    "duration": -7499,
    "start_time": "2022-01-21T14:08:54.604Z"
   },
   {
    "duration": -7546,
    "start_time": "2022-01-21T14:08:54.653Z"
   },
   {
    "duration": -7601,
    "start_time": "2022-01-21T14:08:54.710Z"
   },
   {
    "duration": -7687,
    "start_time": "2022-01-21T14:08:54.797Z"
   },
   {
    "duration": -7996,
    "start_time": "2022-01-21T14:08:55.111Z"
   },
   {
    "duration": -8068,
    "start_time": "2022-01-21T14:08:55.185Z"
   },
   {
    "duration": -8130,
    "start_time": "2022-01-21T14:08:55.252Z"
   },
   {
    "duration": -8165,
    "start_time": "2022-01-21T14:08:55.289Z"
   },
   {
    "duration": -8342,
    "start_time": "2022-01-21T14:08:55.468Z"
   },
   {
    "duration": -8424,
    "start_time": "2022-01-21T14:08:55.552Z"
   },
   {
    "duration": -8491,
    "start_time": "2022-01-21T14:08:55.621Z"
   },
   {
    "duration": -8503,
    "start_time": "2022-01-21T14:08:55.634Z"
   },
   {
    "duration": -8515,
    "start_time": "2022-01-21T14:08:55.647Z"
   },
   {
    "duration": 131,
    "start_time": "2022-01-21T14:09:07.521Z"
   },
   {
    "duration": 85,
    "start_time": "2022-01-21T14:09:10.416Z"
   },
   {
    "duration": 9,
    "start_time": "2022-01-21T14:09:20.576Z"
   },
   {
    "duration": 7,
    "start_time": "2022-01-21T14:09:23.036Z"
   },
   {
    "duration": 301,
    "start_time": "2022-01-21T14:10:00.657Z"
   },
   {
    "duration": -4438,
    "start_time": "2022-01-21T14:10:05.398Z"
   },
   {
    "duration": -4451,
    "start_time": "2022-01-21T14:10:05.412Z"
   },
   {
    "duration": -4462,
    "start_time": "2022-01-21T14:10:05.424Z"
   },
   {
    "duration": -4474,
    "start_time": "2022-01-21T14:10:05.437Z"
   },
   {
    "duration": -4486,
    "start_time": "2022-01-21T14:10:05.450Z"
   },
   {
    "duration": 1033,
    "start_time": "2022-01-21T14:10:50.830Z"
   },
   {
    "duration": 603,
    "start_time": "2022-01-21T14:10:51.865Z"
   },
   {
    "duration": 25,
    "start_time": "2022-01-21T14:10:52.470Z"
   },
   {
    "duration": 12,
    "start_time": "2022-01-21T14:10:52.497Z"
   },
   {
    "duration": 26,
    "start_time": "2022-01-21T14:10:52.511Z"
   },
   {
    "duration": 7,
    "start_time": "2022-01-21T14:10:52.539Z"
   },
   {
    "duration": 14,
    "start_time": "2022-01-21T14:10:52.548Z"
   },
   {
    "duration": 28,
    "start_time": "2022-01-21T14:10:52.563Z"
   },
   {
    "duration": 39,
    "start_time": "2022-01-21T14:10:52.595Z"
   },
   {
    "duration": 88,
    "start_time": "2022-01-21T14:10:52.637Z"
   },
   {
    "duration": 12,
    "start_time": "2022-01-21T14:10:52.727Z"
   },
   {
    "duration": 7,
    "start_time": "2022-01-21T14:10:52.741Z"
   },
   {
    "duration": 12,
    "start_time": "2022-01-21T14:10:52.749Z"
   },
   {
    "duration": 250,
    "start_time": "2022-01-21T14:10:52.762Z"
   },
   {
    "duration": 504,
    "start_time": "2022-01-21T14:10:53.016Z"
   },
   {
    "duration": -4692,
    "start_time": "2022-01-21T14:10:58.217Z"
   },
   {
    "duration": -4701,
    "start_time": "2022-01-21T14:10:58.228Z"
   },
   {
    "duration": -4710,
    "start_time": "2022-01-21T14:10:58.239Z"
   },
   {
    "duration": -4721,
    "start_time": "2022-01-21T14:10:58.251Z"
   },
   {
    "duration": -4729,
    "start_time": "2022-01-21T14:10:58.261Z"
   },
   {
    "duration": -4740,
    "start_time": "2022-01-21T14:10:58.273Z"
   },
   {
    "duration": -4750,
    "start_time": "2022-01-21T14:10:58.285Z"
   },
   {
    "duration": -4800,
    "start_time": "2022-01-21T14:10:58.336Z"
   },
   {
    "duration": -4816,
    "start_time": "2022-01-21T14:10:58.354Z"
   },
   {
    "duration": -4830,
    "start_time": "2022-01-21T14:10:58.369Z"
   },
   {
    "duration": -4842,
    "start_time": "2022-01-21T14:10:58.383Z"
   },
   {
    "duration": -4861,
    "start_time": "2022-01-21T14:10:58.403Z"
   },
   {
    "duration": -4872,
    "start_time": "2022-01-21T14:10:58.416Z"
   },
   {
    "duration": -4905,
    "start_time": "2022-01-21T14:10:58.450Z"
   },
   {
    "duration": -4914,
    "start_time": "2022-01-21T14:10:58.461Z"
   },
   {
    "duration": -4928,
    "start_time": "2022-01-21T14:10:58.476Z"
   },
   {
    "duration": -4941,
    "start_time": "2022-01-21T14:10:58.491Z"
   },
   {
    "duration": -4954,
    "start_time": "2022-01-21T14:10:58.505Z"
   },
   {
    "duration": -4964,
    "start_time": "2022-01-21T14:10:58.517Z"
   },
   {
    "duration": -4974,
    "start_time": "2022-01-21T14:10:58.528Z"
   },
   {
    "duration": -4985,
    "start_time": "2022-01-21T14:10:58.541Z"
   },
   {
    "duration": -5018,
    "start_time": "2022-01-21T14:10:58.575Z"
   },
   {
    "duration": -5030,
    "start_time": "2022-01-21T14:10:58.589Z"
   },
   {
    "duration": -5060,
    "start_time": "2022-01-21T14:10:58.620Z"
   },
   {
    "duration": -5071,
    "start_time": "2022-01-21T14:10:58.632Z"
   },
   {
    "duration": -5081,
    "start_time": "2022-01-21T14:10:58.644Z"
   },
   {
    "duration": -5093,
    "start_time": "2022-01-21T14:10:58.657Z"
   },
   {
    "duration": -5070,
    "start_time": "2022-01-21T14:10:58.671Z"
   },
   {
    "duration": -5104,
    "start_time": "2022-01-21T14:10:58.708Z"
   },
   {
    "duration": -5117,
    "start_time": "2022-01-21T14:10:58.723Z"
   },
   {
    "duration": -5130,
    "start_time": "2022-01-21T14:10:58.737Z"
   },
   {
    "duration": -5143,
    "start_time": "2022-01-21T14:10:58.751Z"
   },
   {
    "duration": -5155,
    "start_time": "2022-01-21T14:10:58.764Z"
   },
   {
    "duration": -5167,
    "start_time": "2022-01-21T14:10:58.777Z"
   },
   {
    "duration": -5180,
    "start_time": "2022-01-21T14:10:58.791Z"
   },
   {
    "duration": 28,
    "start_time": "2022-01-21T14:11:14.770Z"
   },
   {
    "duration": 1029,
    "start_time": "2022-01-21T14:11:40.226Z"
   },
   {
    "duration": 547,
    "start_time": "2022-01-21T14:11:41.257Z"
   },
   {
    "duration": 26,
    "start_time": "2022-01-21T14:11:41.806Z"
   },
   {
    "duration": 6,
    "start_time": "2022-01-21T14:11:41.834Z"
   },
   {
    "duration": 13,
    "start_time": "2022-01-21T14:11:41.841Z"
   },
   {
    "duration": 5,
    "start_time": "2022-01-21T14:11:41.856Z"
   },
   {
    "duration": 12,
    "start_time": "2022-01-21T14:11:41.862Z"
   },
   {
    "duration": 46,
    "start_time": "2022-01-21T14:11:41.876Z"
   },
   {
    "duration": 22,
    "start_time": "2022-01-21T14:11:41.925Z"
   },
   {
    "duration": 54,
    "start_time": "2022-01-21T14:11:41.949Z"
   },
   {
    "duration": 10,
    "start_time": "2022-01-21T14:11:42.005Z"
   },
   {
    "duration": 8,
    "start_time": "2022-01-21T14:11:42.017Z"
   },
   {
    "duration": 9,
    "start_time": "2022-01-21T14:11:42.027Z"
   },
   {
    "duration": 26,
    "start_time": "2022-01-21T14:11:42.038Z"
   },
   {
    "duration": 9,
    "start_time": "2022-01-21T14:11:42.099Z"
   },
   {
    "duration": 10,
    "start_time": "2022-01-21T14:11:42.110Z"
   },
   {
    "duration": 8,
    "start_time": "2022-01-21T14:11:42.122Z"
   },
   {
    "duration": 7186,
    "start_time": "2022-01-21T14:11:42.133Z"
   },
   {
    "duration": -4291,
    "start_time": "2022-01-21T14:11:53.616Z"
   },
   {
    "duration": -4302,
    "start_time": "2022-01-21T14:11:53.628Z"
   },
   {
    "duration": -4312,
    "start_time": "2022-01-21T14:11:53.639Z"
   },
   {
    "duration": -4322,
    "start_time": "2022-01-21T14:11:53.650Z"
   },
   {
    "duration": -4332,
    "start_time": "2022-01-21T14:11:53.661Z"
   },
   {
    "duration": -4342,
    "start_time": "2022-01-21T14:11:53.672Z"
   },
   {
    "duration": -4352,
    "start_time": "2022-01-21T14:11:53.683Z"
   },
   {
    "duration": -4378,
    "start_time": "2022-01-21T14:11:53.710Z"
   },
   {
    "duration": -4388,
    "start_time": "2022-01-21T14:11:53.721Z"
   },
   {
    "duration": -4399,
    "start_time": "2022-01-21T14:11:53.734Z"
   },
   {
    "duration": -4409,
    "start_time": "2022-01-21T14:11:53.745Z"
   },
   {
    "duration": -4423,
    "start_time": "2022-01-21T14:11:53.760Z"
   },
   {
    "duration": -4435,
    "start_time": "2022-01-21T14:11:53.773Z"
   },
   {
    "duration": -4447,
    "start_time": "2022-01-21T14:11:53.786Z"
   },
   {
    "duration": -4456,
    "start_time": "2022-01-21T14:11:53.796Z"
   },
   {
    "duration": -4483,
    "start_time": "2022-01-21T14:11:53.824Z"
   },
   {
    "duration": -4528,
    "start_time": "2022-01-21T14:11:53.870Z"
   },
   {
    "duration": -4572,
    "start_time": "2022-01-21T14:11:53.915Z"
   },
   {
    "duration": -4595,
    "start_time": "2022-01-21T14:11:53.939Z"
   },
   {
    "duration": -4608,
    "start_time": "2022-01-21T14:11:53.953Z"
   },
   {
    "duration": -4617,
    "start_time": "2022-01-21T14:11:53.963Z"
   },
   {
    "duration": -4628,
    "start_time": "2022-01-21T14:11:53.975Z"
   },
   {
    "duration": -4673,
    "start_time": "2022-01-21T14:11:54.021Z"
   },
   {
    "duration": -4686,
    "start_time": "2022-01-21T14:11:54.035Z"
   },
   {
    "duration": -4714,
    "start_time": "2022-01-21T14:11:54.064Z"
   },
   {
    "duration": -4726,
    "start_time": "2022-01-21T14:11:54.077Z"
   },
   {
    "duration": -4736,
    "start_time": "2022-01-21T14:11:54.088Z"
   },
   {
    "duration": -4746,
    "start_time": "2022-01-21T14:11:54.099Z"
   },
   {
    "duration": -4770,
    "start_time": "2022-01-21T14:11:54.124Z"
   },
   {
    "duration": -4781,
    "start_time": "2022-01-21T14:11:54.136Z"
   },
   {
    "duration": 1108,
    "start_time": "2022-01-21T14:13:34.246Z"
   },
   {
    "duration": 878,
    "start_time": "2022-01-21T14:13:35.356Z"
   },
   {
    "duration": 1545,
    "start_time": "2022-01-21T14:13:36.236Z"
   },
   {
    "duration": 8,
    "start_time": "2022-01-21T14:13:37.783Z"
   },
   {
    "duration": 20,
    "start_time": "2022-01-21T14:13:37.793Z"
   },
   {
    "duration": 30,
    "start_time": "2022-01-21T14:13:37.815Z"
   },
   {
    "duration": 17,
    "start_time": "2022-01-21T14:13:37.847Z"
   },
   {
    "duration": 40,
    "start_time": "2022-01-21T14:13:37.867Z"
   },
   {
    "duration": 46,
    "start_time": "2022-01-21T14:13:37.913Z"
   },
   {
    "duration": 85,
    "start_time": "2022-01-21T14:13:37.962Z"
   },
   {
    "duration": 9,
    "start_time": "2022-01-21T14:13:38.049Z"
   },
   {
    "duration": 7,
    "start_time": "2022-01-21T14:13:38.060Z"
   },
   {
    "duration": 10,
    "start_time": "2022-01-21T14:13:38.069Z"
   },
   {
    "duration": 50,
    "start_time": "2022-01-21T14:13:38.081Z"
   },
   {
    "duration": 6,
    "start_time": "2022-01-21T14:13:38.133Z"
   },
   {
    "duration": 37,
    "start_time": "2022-01-21T14:13:38.140Z"
   },
   {
    "duration": 33,
    "start_time": "2022-01-21T14:13:38.178Z"
   },
   {
    "duration": 25,
    "start_time": "2022-01-21T14:13:38.214Z"
   },
   {
    "duration": 9,
    "start_time": "2022-01-21T14:13:38.241Z"
   },
   {
    "duration": 14,
    "start_time": "2022-01-21T14:13:38.252Z"
   },
   {
    "duration": 13,
    "start_time": "2022-01-21T14:13:38.267Z"
   },
   {
    "duration": 914,
    "start_time": "2022-01-21T14:13:38.282Z"
   },
   {
    "duration": 29,
    "start_time": "2022-01-21T14:13:39.197Z"
   },
   {
    "duration": 16,
    "start_time": "2022-01-21T14:13:39.229Z"
   },
   {
    "duration": 436,
    "start_time": "2022-01-21T14:13:39.302Z"
   },
   {
    "duration": 10,
    "start_time": "2022-01-21T14:13:39.739Z"
   },
   {
    "duration": 423,
    "start_time": "2022-01-21T14:13:39.752Z"
   },
   {
    "duration": 12,
    "start_time": "2022-01-21T14:13:40.177Z"
   },
   {
    "duration": 304,
    "start_time": "2022-01-21T14:13:40.191Z"
   },
   {
    "duration": 398,
    "start_time": "2022-01-21T14:13:40.497Z"
   },
   {
    "duration": 25,
    "start_time": "2022-01-21T14:13:40.897Z"
   },
   {
    "duration": 19,
    "start_time": "2022-01-21T14:13:40.925Z"
   },
   {
    "duration": 482,
    "start_time": "2022-01-21T14:13:40.946Z"
   },
   {
    "duration": 11,
    "start_time": "2022-01-21T14:13:41.431Z"
   },
   {
    "duration": 5,
    "start_time": "2022-01-21T14:13:41.443Z"
   },
   {
    "duration": 8444,
    "start_time": "2022-01-21T14:13:41.449Z"
   },
   {
    "duration": -28036,
    "start_time": "2022-01-21T14:14:17.931Z"
   },
   {
    "duration": -28049,
    "start_time": "2022-01-21T14:14:17.945Z"
   },
   {
    "duration": -28058,
    "start_time": "2022-01-21T14:14:17.955Z"
   },
   {
    "duration": -28069,
    "start_time": "2022-01-21T14:14:17.967Z"
   },
   {
    "duration": -28095,
    "start_time": "2022-01-21T14:14:17.994Z"
   },
   {
    "duration": -28106,
    "start_time": "2022-01-21T14:14:18.006Z"
   },
   {
    "duration": -28116,
    "start_time": "2022-01-21T14:14:18.017Z"
   },
   {
    "duration": -28128,
    "start_time": "2022-01-21T14:14:18.030Z"
   },
   {
    "duration": -28137,
    "start_time": "2022-01-21T14:14:18.040Z"
   },
   {
    "duration": -28149,
    "start_time": "2022-01-21T14:14:18.053Z"
   },
   {
    "duration": 59,
    "start_time": "2022-01-21T14:19:58.733Z"
   },
   {
    "duration": 14,
    "start_time": "2022-01-21T14:20:01.796Z"
   },
   {
    "duration": 1438,
    "start_time": "2022-01-21T14:20:05.381Z"
   },
   {
    "duration": 877,
    "start_time": "2022-01-21T14:20:23.602Z"
   },
   {
    "duration": 315,
    "start_time": "2022-01-21T14:20:29.623Z"
   },
   {
    "duration": 295,
    "start_time": "2022-01-21T14:20:34.689Z"
   },
   {
    "duration": 206,
    "start_time": "2022-01-21T14:20:47.034Z"
   },
   {
    "duration": 8,
    "start_time": "2022-01-21T14:20:49.885Z"
   },
   {
    "duration": 27,
    "start_time": "2022-01-21T14:20:56.031Z"
   },
   {
    "duration": 31,
    "start_time": "2022-01-21T14:21:08.545Z"
   },
   {
    "duration": 26,
    "start_time": "2022-01-21T14:21:23.223Z"
   },
   {
    "duration": 60,
    "start_time": "2022-01-21T14:21:31.483Z"
   },
   {
    "duration": 39,
    "start_time": "2022-01-21T14:21:34.692Z"
   },
   {
    "duration": 8,
    "start_time": "2022-01-21T14:21:37.833Z"
   },
   {
    "duration": 212,
    "start_time": "2022-01-21T14:21:39.713Z"
   },
   {
    "duration": 8,
    "start_time": "2022-01-21T14:21:42.483Z"
   },
   {
    "duration": 24,
    "start_time": "2022-01-21T14:21:44.544Z"
   },
   {
    "duration": 60,
    "start_time": "2022-01-21T14:22:00.005Z"
   },
   {
    "duration": 28,
    "start_time": "2022-01-21T14:22:02.441Z"
   },
   {
    "duration": 8,
    "start_time": "2022-01-21T14:22:05.062Z"
   },
   {
    "duration": 7,
    "start_time": "2022-01-21T14:22:07.075Z"
   },
   {
    "duration": 11,
    "start_time": "2022-01-21T14:22:09.895Z"
   },
   {
    "duration": 27,
    "start_time": "2022-01-21T14:22:11.843Z"
   },
   {
    "duration": 7,
    "start_time": "2022-01-21T14:22:49.564Z"
   },
   {
    "duration": 11,
    "start_time": "2022-01-21T14:22:58.713Z"
   },
   {
    "duration": 7,
    "start_time": "2022-01-21T14:23:08.238Z"
   },
   {
    "duration": 7,
    "start_time": "2022-01-21T14:23:13.633Z"
   },
   {
    "duration": 10,
    "start_time": "2022-01-21T14:23:28.654Z"
   },
   {
    "duration": 28,
    "start_time": "2022-01-21T14:23:54.064Z"
   },
   {
    "duration": 22,
    "start_time": "2022-01-21T14:25:27.183Z"
   },
   {
    "duration": 904,
    "start_time": "2022-01-22T10:19:15.448Z"
   },
   {
    "duration": 461,
    "start_time": "2022-01-22T10:19:16.354Z"
   },
   {
    "duration": 24,
    "start_time": "2022-01-22T10:19:16.817Z"
   },
   {
    "duration": 6,
    "start_time": "2022-01-22T10:19:16.843Z"
   },
   {
    "duration": 10,
    "start_time": "2022-01-22T10:19:16.851Z"
   },
   {
    "duration": 5,
    "start_time": "2022-01-22T10:19:16.863Z"
   },
   {
    "duration": 13,
    "start_time": "2022-01-22T10:19:16.869Z"
   },
   {
    "duration": 40,
    "start_time": "2022-01-22T10:19:16.884Z"
   },
   {
    "duration": 22,
    "start_time": "2022-01-22T10:19:16.926Z"
   },
   {
    "duration": 52,
    "start_time": "2022-01-22T10:19:16.949Z"
   },
   {
    "duration": 29,
    "start_time": "2022-01-22T10:19:17.003Z"
   },
   {
    "duration": 8,
    "start_time": "2022-01-22T10:19:17.034Z"
   },
   {
    "duration": 7,
    "start_time": "2022-01-22T10:19:17.043Z"
   },
   {
    "duration": 8,
    "start_time": "2022-01-22T10:19:17.051Z"
   },
   {
    "duration": 5,
    "start_time": "2022-01-22T10:19:17.061Z"
   },
   {
    "duration": 4,
    "start_time": "2022-01-22T10:19:17.068Z"
   },
   {
    "duration": 55,
    "start_time": "2022-01-22T10:19:17.073Z"
   },
   {
    "duration": 12,
    "start_time": "2022-01-22T10:19:17.129Z"
   },
   {
    "duration": 21,
    "start_time": "2022-01-22T10:19:17.143Z"
   },
   {
    "duration": 18,
    "start_time": "2022-01-22T10:19:17.165Z"
   },
   {
    "duration": 12,
    "start_time": "2022-01-22T10:19:17.185Z"
   },
   {
    "duration": 736,
    "start_time": "2022-01-22T10:19:17.212Z"
   },
   {
    "duration": 14,
    "start_time": "2022-01-22T10:19:17.952Z"
   },
   {
    "duration": 54,
    "start_time": "2022-01-22T10:19:17.968Z"
   },
   {
    "duration": 377,
    "start_time": "2022-01-22T10:19:18.023Z"
   },
   {
    "duration": 17,
    "start_time": "2022-01-22T10:19:18.401Z"
   },
   {
    "duration": 357,
    "start_time": "2022-01-22T10:19:18.419Z"
   },
   {
    "duration": 12,
    "start_time": "2022-01-22T10:19:18.777Z"
   },
   {
    "duration": 260,
    "start_time": "2022-01-22T10:19:18.790Z"
   },
   {
    "duration": 359,
    "start_time": "2022-01-22T10:19:19.051Z"
   },
   {
    "duration": 10,
    "start_time": "2022-01-22T10:19:19.412Z"
   },
   {
    "duration": 15,
    "start_time": "2022-01-22T10:19:19.423Z"
   },
   {
    "duration": 377,
    "start_time": "2022-01-22T10:19:19.439Z"
   },
   {
    "duration": 11,
    "start_time": "2022-01-22T10:19:19.818Z"
   },
   {
    "duration": 6,
    "start_time": "2022-01-22T10:19:19.830Z"
   },
   {
    "duration": 5051,
    "start_time": "2022-01-22T10:19:19.838Z"
   },
   {
    "duration": -8728,
    "start_time": "2022-01-22T10:19:33.619Z"
   },
   {
    "duration": -8739,
    "start_time": "2022-01-22T10:19:33.631Z"
   },
   {
    "duration": -8750,
    "start_time": "2022-01-22T10:19:33.642Z"
   },
   {
    "duration": -8761,
    "start_time": "2022-01-22T10:19:33.654Z"
   },
   {
    "duration": -8771,
    "start_time": "2022-01-22T10:19:33.666Z"
   },
   {
    "duration": -8821,
    "start_time": "2022-01-22T10:19:33.716Z"
   },
   {
    "duration": -8834,
    "start_time": "2022-01-22T10:19:33.730Z"
   },
   {
    "duration": -8844,
    "start_time": "2022-01-22T10:19:33.741Z"
   },
   {
    "duration": -8855,
    "start_time": "2022-01-22T10:19:33.753Z"
   },
   {
    "duration": -8866,
    "start_time": "2022-01-22T10:19:33.765Z"
   },
   {
    "duration": 7,
    "start_time": "2022-01-22T11:15:14.472Z"
   },
   {
    "duration": 66,
    "start_time": "2022-01-22T11:22:39.476Z"
   },
   {
    "duration": 26,
    "start_time": "2022-01-22T11:22:41.821Z"
   },
   {
    "duration": 8,
    "start_time": "2022-01-22T11:22:43.913Z"
   },
   {
    "duration": 201,
    "start_time": "2022-01-22T11:22:46.353Z"
   },
   {
    "duration": 57,
    "start_time": "2022-01-22T11:24:57.701Z"
   },
   {
    "duration": 1739,
    "start_time": "2022-01-22T11:25:01.905Z"
   },
   {
    "duration": 61,
    "start_time": "2022-01-22T11:25:21.900Z"
   },
   {
    "duration": 28,
    "start_time": "2022-01-22T11:25:23.561Z"
   },
   {
    "duration": 8,
    "start_time": "2022-01-22T11:25:25.440Z"
   },
   {
    "duration": 1703,
    "start_time": "2022-01-22T11:25:27.169Z"
   },
   {
    "duration": 15,
    "start_time": "2022-01-22T11:25:51.393Z"
   },
   {
    "duration": 8,
    "start_time": "2022-01-22T11:26:27.230Z"
   },
   {
    "duration": 5022,
    "start_time": "2022-01-22T11:26:37.722Z"
   },
   {
    "duration": 8,
    "start_time": "2022-01-22T11:27:03.460Z"
   },
   {
    "duration": 8,
    "start_time": "2022-01-22T11:27:18.320Z"
   },
   {
    "duration": 9,
    "start_time": "2022-01-22T11:28:29.900Z"
   },
   {
    "duration": 10,
    "start_time": "2022-01-22T11:28:38.008Z"
   },
   {
    "duration": 10,
    "start_time": "2022-01-22T11:29:02.030Z"
   },
   {
    "duration": 10,
    "start_time": "2022-01-22T11:29:57.052Z"
   },
   {
    "duration": 10,
    "start_time": "2022-01-22T11:30:03.071Z"
   },
   {
    "duration": 10,
    "start_time": "2022-01-22T11:30:08.551Z"
   },
   {
    "duration": 1565,
    "start_time": "2022-01-22T11:30:29.582Z"
   },
   {
    "duration": 50,
    "start_time": "2022-01-22T11:30:34.441Z"
   },
   {
    "duration": 24,
    "start_time": "2022-01-22T11:30:36.652Z"
   },
   {
    "duration": 7,
    "start_time": "2022-01-22T11:30:38.773Z"
   },
   {
    "duration": 1663,
    "start_time": "2022-01-22T11:30:40.142Z"
   },
   {
    "duration": 8,
    "start_time": "2022-01-22T11:30:42.733Z"
   },
   {
    "duration": 919,
    "start_time": "2022-01-22T11:30:52.726Z"
   },
   {
    "duration": 469,
    "start_time": "2022-01-22T11:30:53.646Z"
   },
   {
    "duration": 24,
    "start_time": "2022-01-22T11:30:54.117Z"
   },
   {
    "duration": 5,
    "start_time": "2022-01-22T11:30:54.144Z"
   },
   {
    "duration": 10,
    "start_time": "2022-01-22T11:30:54.151Z"
   },
   {
    "duration": 5,
    "start_time": "2022-01-22T11:30:54.163Z"
   },
   {
    "duration": 11,
    "start_time": "2022-01-22T11:30:54.169Z"
   },
   {
    "duration": 43,
    "start_time": "2022-01-22T11:30:54.182Z"
   },
   {
    "duration": 22,
    "start_time": "2022-01-22T11:30:54.228Z"
   },
   {
    "duration": 51,
    "start_time": "2022-01-22T11:30:54.253Z"
   },
   {
    "duration": 26,
    "start_time": "2022-01-22T11:30:54.306Z"
   },
   {
    "duration": 8,
    "start_time": "2022-01-22T11:30:54.335Z"
   },
   {
    "duration": 1630,
    "start_time": "2022-01-22T11:30:54.345Z"
   },
   {
    "duration": 7,
    "start_time": "2022-01-22T11:30:55.977Z"
   },
   {
    "duration": 6,
    "start_time": "2022-01-22T11:30:55.986Z"
   },
   {
    "duration": 18,
    "start_time": "2022-01-22T11:30:55.994Z"
   },
   {
    "duration": 21,
    "start_time": "2022-01-22T11:30:56.014Z"
   },
   {
    "duration": 11,
    "start_time": "2022-01-22T11:30:56.036Z"
   },
   {
    "duration": 7,
    "start_time": "2022-01-22T11:30:56.049Z"
   },
   {
    "duration": 15,
    "start_time": "2022-01-22T11:30:56.057Z"
   },
   {
    "duration": 11,
    "start_time": "2022-01-22T11:30:56.073Z"
   },
   {
    "duration": 727,
    "start_time": "2022-01-22T11:30:56.086Z"
   },
   {
    "duration": 14,
    "start_time": "2022-01-22T11:30:56.815Z"
   },
   {
    "duration": 18,
    "start_time": "2022-01-22T11:30:56.831Z"
   },
   {
    "duration": 364,
    "start_time": "2022-01-22T11:30:56.850Z"
   },
   {
    "duration": 8,
    "start_time": "2022-01-22T11:30:57.216Z"
   },
   {
    "duration": 339,
    "start_time": "2022-01-22T11:30:57.227Z"
   },
   {
    "duration": 10,
    "start_time": "2022-01-22T11:30:57.568Z"
   },
   {
    "duration": 248,
    "start_time": "2022-01-22T11:30:57.579Z"
   },
   {
    "duration": 319,
    "start_time": "2022-01-22T11:30:57.829Z"
   },
   {
    "duration": 10,
    "start_time": "2022-01-22T11:30:58.149Z"
   },
   {
    "duration": 17,
    "start_time": "2022-01-22T11:30:58.160Z"
   },
   {
    "duration": 362,
    "start_time": "2022-01-22T11:30:58.179Z"
   },
   {
    "duration": 10,
    "start_time": "2022-01-22T11:30:58.543Z"
   },
   {
    "duration": 6,
    "start_time": "2022-01-22T11:30:58.555Z"
   },
   {
    "duration": 11,
    "start_time": "2022-01-22T11:30:58.562Z"
   },
   {
    "duration": 279,
    "start_time": "2022-01-22T11:30:58.574Z"
   },
   {
    "duration": 5,
    "start_time": "2022-01-22T11:30:58.854Z"
   },
   {
    "duration": 8,
    "start_time": "2022-01-22T11:30:58.860Z"
   },
   {
    "duration": 7,
    "start_time": "2022-01-22T11:30:58.869Z"
   },
   {
    "duration": 6,
    "start_time": "2022-01-22T11:30:58.878Z"
   },
   {
    "duration": 4,
    "start_time": "2022-01-22T11:30:58.886Z"
   },
   {
    "duration": 4,
    "start_time": "2022-01-22T11:30:58.912Z"
   },
   {
    "duration": 10,
    "start_time": "2022-01-22T11:30:58.918Z"
   },
   {
    "duration": 3,
    "start_time": "2022-01-22T11:30:58.930Z"
   },
   {
    "duration": 25,
    "start_time": "2022-01-22T11:32:54.315Z"
   },
   {
    "duration": 1327,
    "start_time": "2022-01-22T11:38:13.322Z"
   },
   {
    "duration": 481,
    "start_time": "2022-01-22T11:38:14.650Z"
   },
   {
    "duration": 24,
    "start_time": "2022-01-22T11:38:15.133Z"
   },
   {
    "duration": 5,
    "start_time": "2022-01-22T11:38:15.159Z"
   },
   {
    "duration": 9,
    "start_time": "2022-01-22T11:38:15.165Z"
   },
   {
    "duration": 6,
    "start_time": "2022-01-22T11:38:15.176Z"
   },
   {
    "duration": 12,
    "start_time": "2022-01-22T11:38:15.183Z"
   },
   {
    "duration": 24,
    "start_time": "2022-01-22T11:38:15.196Z"
   },
   {
    "duration": 20,
    "start_time": "2022-01-22T11:38:15.223Z"
   },
   {
    "duration": 49,
    "start_time": "2022-01-22T11:38:15.245Z"
   },
   {
    "duration": 9,
    "start_time": "2022-01-22T11:38:15.296Z"
   },
   {
    "duration": 1623,
    "start_time": "2022-01-22T11:38:15.306Z"
   },
   {
    "duration": 9,
    "start_time": "2022-01-22T11:38:16.931Z"
   },
   {
    "duration": 26,
    "start_time": "2022-01-22T11:38:16.941Z"
   },
   {
    "duration": 7,
    "start_time": "2022-01-22T11:38:16.969Z"
   },
   {
    "duration": 35,
    "start_time": "2022-01-22T11:38:16.978Z"
   },
   {
    "duration": 22,
    "start_time": "2022-01-22T11:38:17.015Z"
   },
   {
    "duration": 13,
    "start_time": "2022-01-22T11:38:17.039Z"
   },
   {
    "duration": 10,
    "start_time": "2022-01-22T11:38:17.054Z"
   },
   {
    "duration": 16,
    "start_time": "2022-01-22T11:38:17.066Z"
   },
   {
    "duration": 14,
    "start_time": "2022-01-22T11:38:17.111Z"
   },
   {
    "duration": 352,
    "start_time": "2022-01-22T11:46:50.251Z"
   },
   {
    "duration": 14,
    "start_time": "2022-01-22T11:47:07.367Z"
   },
   {
    "duration": 14,
    "start_time": "2022-01-22T11:47:10.798Z"
   },
   {
    "duration": 244,
    "start_time": "2022-01-22T11:47:14.780Z"
   },
   {
    "duration": 10,
    "start_time": "2022-01-22T11:47:41.969Z"
   },
   {
    "duration": 339,
    "start_time": "2022-01-22T11:47:44.975Z"
   },
   {
    "duration": 951,
    "start_time": "2022-01-22T11:48:02.291Z"
   },
   {
    "duration": 496,
    "start_time": "2022-01-22T11:48:03.244Z"
   },
   {
    "duration": 25,
    "start_time": "2022-01-22T11:48:03.741Z"
   },
   {
    "duration": 6,
    "start_time": "2022-01-22T11:48:03.769Z"
   },
   {
    "duration": 13,
    "start_time": "2022-01-22T11:48:03.777Z"
   },
   {
    "duration": 5,
    "start_time": "2022-01-22T11:48:03.792Z"
   },
   {
    "duration": 12,
    "start_time": "2022-01-22T11:48:03.799Z"
   },
   {
    "duration": 25,
    "start_time": "2022-01-22T11:48:03.813Z"
   },
   {
    "duration": 22,
    "start_time": "2022-01-22T11:48:03.842Z"
   },
   {
    "duration": 51,
    "start_time": "2022-01-22T11:48:03.866Z"
   },
   {
    "duration": 9,
    "start_time": "2022-01-22T11:48:03.919Z"
   },
   {
    "duration": 1592,
    "start_time": "2022-01-22T11:48:03.929Z"
   },
   {
    "duration": 9,
    "start_time": "2022-01-22T11:48:05.522Z"
   },
   {
    "duration": 24,
    "start_time": "2022-01-22T11:48:05.533Z"
   },
   {
    "duration": 5,
    "start_time": "2022-01-22T11:48:05.559Z"
   },
   {
    "duration": 4,
    "start_time": "2022-01-22T11:48:05.566Z"
   },
   {
    "duration": 49,
    "start_time": "2022-01-22T11:48:05.572Z"
   },
   {
    "duration": 10,
    "start_time": "2022-01-22T11:48:05.623Z"
   },
   {
    "duration": 8,
    "start_time": "2022-01-22T11:48:05.635Z"
   },
   {
    "duration": 13,
    "start_time": "2022-01-22T11:48:05.644Z"
   },
   {
    "duration": 10,
    "start_time": "2022-01-22T11:48:05.659Z"
   },
   {
    "duration": 723,
    "start_time": "2022-01-22T11:48:05.671Z"
   },
   {
    "duration": 32,
    "start_time": "2022-01-22T11:48:06.396Z"
   },
   {
    "duration": 17,
    "start_time": "2022-01-22T11:48:06.429Z"
   },
   {
    "duration": 372,
    "start_time": "2022-01-22T11:48:06.448Z"
   },
   {
    "duration": 9,
    "start_time": "2022-01-22T11:48:06.822Z"
   },
   {
    "duration": 355,
    "start_time": "2022-01-22T11:48:06.834Z"
   },
   {
    "duration": 11,
    "start_time": "2022-01-22T11:48:07.191Z"
   },
   {
    "duration": 233,
    "start_time": "2022-01-22T11:48:07.204Z"
   },
   {
    "duration": 316,
    "start_time": "2022-01-22T11:48:07.439Z"
   },
   {
    "duration": 10,
    "start_time": "2022-01-22T11:48:07.756Z"
   },
   {
    "duration": 12,
    "start_time": "2022-01-22T11:48:07.767Z"
   },
   {
    "duration": 378,
    "start_time": "2022-01-22T11:48:07.780Z"
   },
   {
    "duration": 9,
    "start_time": "2022-01-22T11:48:08.159Z"
   },
   {
    "duration": 5,
    "start_time": "2022-01-22T11:48:08.170Z"
   },
   {
    "duration": 11,
    "start_time": "2022-01-22T11:48:08.176Z"
   },
   {
    "duration": 275,
    "start_time": "2022-01-22T11:48:08.188Z"
   },
   {
    "duration": 5,
    "start_time": "2022-01-22T11:48:08.465Z"
   },
   {
    "duration": 6,
    "start_time": "2022-01-22T11:48:08.471Z"
   },
   {
    "duration": 8,
    "start_time": "2022-01-22T11:48:08.479Z"
   },
   {
    "duration": 27,
    "start_time": "2022-01-22T11:48:08.488Z"
   },
   {
    "duration": 5,
    "start_time": "2022-01-22T11:48:08.517Z"
   },
   {
    "duration": 10,
    "start_time": "2022-01-22T11:48:08.523Z"
   },
   {
    "duration": 9,
    "start_time": "2022-01-22T11:48:08.535Z"
   },
   {
    "duration": 4,
    "start_time": "2022-01-22T11:48:08.545Z"
   },
   {
    "duration": 61,
    "start_time": "2022-01-22T11:49:40.621Z"
   },
   {
    "duration": 646,
    "start_time": "2022-01-22T11:49:44.762Z"
   },
   {
    "duration": 216,
    "start_time": "2022-01-22T11:49:50.751Z"
   },
   {
    "duration": 11,
    "start_time": "2022-01-22T11:51:06.410Z"
   },
   {
    "duration": 7,
    "start_time": "2022-01-22T11:51:21.140Z"
   },
   {
    "duration": 24,
    "start_time": "2022-01-22T11:51:40.981Z"
   },
   {
    "duration": 21,
    "start_time": "2022-01-22T11:51:43.271Z"
   },
   {
    "duration": 56,
    "start_time": "2022-01-22T11:51:44.831Z"
   },
   {
    "duration": 8,
    "start_time": "2022-01-22T11:51:46.921Z"
   },
   {
    "duration": 6,
    "start_time": "2022-01-22T11:51:49.920Z"
   },
   {
    "duration": 1706,
    "start_time": "2022-01-22T11:51:54.751Z"
   },
   {
    "duration": 6,
    "start_time": "2022-01-22T11:51:57.771Z"
   },
   {
    "duration": 7,
    "start_time": "2022-01-22T11:52:00.830Z"
   },
   {
    "duration": 242,
    "start_time": "2022-01-22T11:53:16.540Z"
   },
   {
    "duration": 355,
    "start_time": "2022-01-22T11:53:31.351Z"
   },
   {
    "duration": 891,
    "start_time": "2022-01-22T11:55:13.152Z"
   },
   {
    "duration": 469,
    "start_time": "2022-01-22T11:55:14.045Z"
   },
   {
    "duration": 24,
    "start_time": "2022-01-22T11:55:14.516Z"
   },
   {
    "duration": 4,
    "start_time": "2022-01-22T11:55:14.542Z"
   },
   {
    "duration": 8,
    "start_time": "2022-01-22T11:55:14.548Z"
   },
   {
    "duration": 5,
    "start_time": "2022-01-22T11:55:14.558Z"
   },
   {
    "duration": 15,
    "start_time": "2022-01-22T11:55:14.565Z"
   },
   {
    "duration": 36,
    "start_time": "2022-01-22T11:55:14.583Z"
   },
   {
    "duration": 21,
    "start_time": "2022-01-22T11:55:14.621Z"
   },
   {
    "duration": 51,
    "start_time": "2022-01-22T11:55:14.644Z"
   },
   {
    "duration": 7,
    "start_time": "2022-01-22T11:55:14.697Z"
   },
   {
    "duration": 1578,
    "start_time": "2022-01-22T11:55:14.705Z"
   },
   {
    "duration": 9,
    "start_time": "2022-01-22T11:55:16.285Z"
   },
   {
    "duration": 38,
    "start_time": "2022-01-22T11:55:16.295Z"
   },
   {
    "duration": 6,
    "start_time": "2022-01-22T11:55:16.335Z"
   },
   {
    "duration": 5,
    "start_time": "2022-01-22T11:55:16.343Z"
   },
   {
    "duration": 20,
    "start_time": "2022-01-22T11:55:16.349Z"
   },
   {
    "duration": 11,
    "start_time": "2022-01-22T11:55:16.370Z"
   },
   {
    "duration": 5,
    "start_time": "2022-01-22T11:55:16.412Z"
   },
   {
    "duration": 13,
    "start_time": "2022-01-22T11:55:16.419Z"
   },
   {
    "duration": 12,
    "start_time": "2022-01-22T11:55:16.434Z"
   },
   {
    "duration": 736,
    "start_time": "2022-01-22T11:55:16.448Z"
   },
   {
    "duration": 35,
    "start_time": "2022-01-22T11:55:17.187Z"
   },
   {
    "duration": 18,
    "start_time": "2022-01-22T11:55:17.224Z"
   },
   {
    "duration": 378,
    "start_time": "2022-01-22T11:55:17.243Z"
   },
   {
    "duration": 9,
    "start_time": "2022-01-22T11:55:17.622Z"
   },
   {
    "duration": 345,
    "start_time": "2022-01-22T11:55:17.632Z"
   },
   {
    "duration": 11,
    "start_time": "2022-01-22T11:55:17.978Z"
   },
   {
    "duration": 248,
    "start_time": "2022-01-22T11:55:17.991Z"
   },
   {
    "duration": 318,
    "start_time": "2022-01-22T11:55:18.241Z"
   },
   {
    "duration": 9,
    "start_time": "2022-01-22T11:55:18.561Z"
   },
   {
    "duration": 13,
    "start_time": "2022-01-22T11:55:18.571Z"
   },
   {
    "duration": 380,
    "start_time": "2022-01-22T11:55:18.585Z"
   },
   {
    "duration": 10,
    "start_time": "2022-01-22T11:55:18.967Z"
   },
   {
    "duration": 8,
    "start_time": "2022-01-22T11:55:18.978Z"
   },
   {
    "duration": 32,
    "start_time": "2022-01-22T11:55:18.988Z"
   },
   {
    "duration": 264,
    "start_time": "2022-01-22T11:55:19.022Z"
   },
   {
    "duration": 5,
    "start_time": "2022-01-22T11:55:19.287Z"
   },
   {
    "duration": 3,
    "start_time": "2022-01-22T11:55:19.294Z"
   },
   {
    "duration": 8,
    "start_time": "2022-01-22T11:55:19.312Z"
   },
   {
    "duration": 5,
    "start_time": "2022-01-22T11:55:19.322Z"
   },
   {
    "duration": 5,
    "start_time": "2022-01-22T11:55:19.328Z"
   },
   {
    "duration": 6,
    "start_time": "2022-01-22T11:55:19.334Z"
   },
   {
    "duration": 9,
    "start_time": "2022-01-22T11:55:19.341Z"
   },
   {
    "duration": 4,
    "start_time": "2022-01-22T11:55:19.352Z"
   },
   {
    "duration": 902,
    "start_time": "2022-01-22T12:27:56.143Z"
   },
   {
    "duration": 436,
    "start_time": "2022-01-22T12:27:57.047Z"
   },
   {
    "duration": 24,
    "start_time": "2022-01-22T12:27:57.485Z"
   },
   {
    "duration": 4,
    "start_time": "2022-01-22T12:27:57.511Z"
   },
   {
    "duration": 8,
    "start_time": "2022-01-22T12:27:57.517Z"
   },
   {
    "duration": 4,
    "start_time": "2022-01-22T12:27:57.526Z"
   },
   {
    "duration": 10,
    "start_time": "2022-01-22T12:27:57.531Z"
   },
   {
    "duration": 23,
    "start_time": "2022-01-22T12:27:57.544Z"
   },
   {
    "duration": 45,
    "start_time": "2022-01-22T12:27:57.568Z"
   },
   {
    "duration": 62,
    "start_time": "2022-01-22T12:27:57.614Z"
   },
   {
    "duration": 7,
    "start_time": "2022-01-22T12:27:57.677Z"
   },
   {
    "duration": 1568,
    "start_time": "2022-01-22T12:27:57.685Z"
   },
   {
    "duration": 7,
    "start_time": "2022-01-22T12:27:59.255Z"
   },
   {
    "duration": 29,
    "start_time": "2022-01-22T12:27:59.264Z"
   },
   {
    "duration": 20,
    "start_time": "2022-01-22T12:27:59.294Z"
   },
   {
    "duration": 4,
    "start_time": "2022-01-22T12:27:59.316Z"
   },
   {
    "duration": 19,
    "start_time": "2022-01-22T12:27:59.321Z"
   },
   {
    "duration": 11,
    "start_time": "2022-01-22T12:27:59.341Z"
   },
   {
    "duration": 6,
    "start_time": "2022-01-22T12:27:59.353Z"
   },
   {
    "duration": 12,
    "start_time": "2022-01-22T12:27:59.361Z"
   },
   {
    "duration": 40,
    "start_time": "2022-01-22T12:27:59.374Z"
   },
   {
    "duration": 696,
    "start_time": "2022-01-22T12:27:59.416Z"
   },
   {
    "duration": 15,
    "start_time": "2022-01-22T12:28:00.115Z"
   },
   {
    "duration": 13,
    "start_time": "2022-01-22T12:28:00.131Z"
   },
   {
    "duration": 370,
    "start_time": "2022-01-22T12:28:00.146Z"
   },
   {
    "duration": 9,
    "start_time": "2022-01-22T12:28:00.518Z"
   },
   {
    "duration": 355,
    "start_time": "2022-01-22T12:28:00.529Z"
   },
   {
    "duration": 10,
    "start_time": "2022-01-22T12:28:00.885Z"
   },
   {
    "duration": 246,
    "start_time": "2022-01-22T12:28:00.897Z"
   },
   {
    "duration": 315,
    "start_time": "2022-01-22T12:28:01.145Z"
   },
   {
    "duration": 9,
    "start_time": "2022-01-22T12:28:01.461Z"
   },
   {
    "duration": 21,
    "start_time": "2022-01-22T12:28:01.472Z"
   },
   {
    "duration": 388,
    "start_time": "2022-01-22T12:28:01.495Z"
   },
   {
    "duration": 9,
    "start_time": "2022-01-22T12:28:01.885Z"
   },
   {
    "duration": 17,
    "start_time": "2022-01-22T12:28:01.896Z"
   },
   {
    "duration": 13,
    "start_time": "2022-01-22T12:28:01.914Z"
   },
   {
    "duration": 267,
    "start_time": "2022-01-22T12:28:01.928Z"
   },
   {
    "duration": 4,
    "start_time": "2022-01-22T12:28:02.197Z"
   },
   {
    "duration": 5,
    "start_time": "2022-01-22T12:28:02.202Z"
   },
   {
    "duration": 4,
    "start_time": "2022-01-22T12:28:02.212Z"
   },
   {
    "duration": 8,
    "start_time": "2022-01-22T12:28:02.218Z"
   },
   {
    "duration": 5,
    "start_time": "2022-01-22T12:28:02.227Z"
   },
   {
    "duration": 9,
    "start_time": "2022-01-22T12:28:02.233Z"
   },
   {
    "duration": 12,
    "start_time": "2022-01-22T12:28:02.243Z"
   },
   {
    "duration": 5,
    "start_time": "2022-01-22T12:28:02.257Z"
   },
   {
    "duration": 14,
    "start_time": "2022-01-22T12:52:37.688Z"
   },
   {
    "duration": 10,
    "start_time": "2022-01-22T12:53:03.311Z"
   },
   {
    "duration": 26,
    "start_time": "2022-01-22T12:53:34.420Z"
   },
   {
    "duration": 7,
    "start_time": "2022-01-22T12:53:51.449Z"
   },
   {
    "duration": 6,
    "start_time": "2022-01-22T12:54:03.912Z"
   },
   {
    "duration": 357,
    "start_time": "2022-01-22T12:54:50.099Z"
   },
   {
    "duration": 6,
    "start_time": "2022-01-22T12:54:59.960Z"
   },
   {
    "duration": 5,
    "start_time": "2022-01-22T12:55:16.360Z"
   },
   {
    "duration": 60,
    "start_time": "2022-01-22T12:55:19.449Z"
   },
   {
    "duration": 27,
    "start_time": "2022-01-22T12:55:24.672Z"
   },
   {
    "duration": 8,
    "start_time": "2022-01-22T12:55:27.721Z"
   },
   {
    "duration": 6,
    "start_time": "2022-01-22T12:55:29.381Z"
   },
   {
    "duration": 1726,
    "start_time": "2022-01-22T12:55:38.889Z"
   },
   {
    "duration": 8,
    "start_time": "2022-01-22T12:55:42.106Z"
   },
   {
    "duration": 6,
    "start_time": "2022-01-22T12:55:44.090Z"
   },
   {
    "duration": 52,
    "start_time": "2022-01-22T12:56:03.342Z"
   },
   {
    "duration": 27,
    "start_time": "2022-01-22T12:56:05.522Z"
   },
   {
    "duration": 7,
    "start_time": "2022-01-22T12:56:08.432Z"
   },
   {
    "duration": 6,
    "start_time": "2022-01-22T12:56:10.420Z"
   },
   {
    "duration": 8,
    "start_time": "2022-01-22T12:56:13.467Z"
   },
   {
    "duration": 9,
    "start_time": "2022-01-22T12:56:15.022Z"
   },
   {
    "duration": 7,
    "start_time": "2022-01-22T12:56:16.821Z"
   },
   {
    "duration": 233,
    "start_time": "2022-01-22T12:56:47.548Z"
   },
   {
    "duration": 6,
    "start_time": "2022-01-22T12:56:56.111Z"
   },
   {
    "duration": 7,
    "start_time": "2022-01-22T12:57:14.001Z"
   },
   {
    "duration": 936,
    "start_time": "2022-01-22T12:57:30.116Z"
   },
   {
    "duration": 462,
    "start_time": "2022-01-22T12:57:31.054Z"
   },
   {
    "duration": 27,
    "start_time": "2022-01-22T12:57:31.518Z"
   },
   {
    "duration": 6,
    "start_time": "2022-01-22T12:57:31.547Z"
   },
   {
    "duration": 12,
    "start_time": "2022-01-22T12:57:31.555Z"
   },
   {
    "duration": 4,
    "start_time": "2022-01-22T12:57:31.569Z"
   },
   {
    "duration": 10,
    "start_time": "2022-01-22T12:57:31.575Z"
   },
   {
    "duration": 39,
    "start_time": "2022-01-22T12:57:31.587Z"
   },
   {
    "duration": 23,
    "start_time": "2022-01-22T12:57:31.628Z"
   },
   {
    "duration": 49,
    "start_time": "2022-01-22T12:57:31.653Z"
   },
   {
    "duration": 25,
    "start_time": "2022-01-22T12:57:31.704Z"
   },
   {
    "duration": 8,
    "start_time": "2022-01-22T12:57:31.730Z"
   },
   {
    "duration": 6,
    "start_time": "2022-01-22T12:57:31.739Z"
   },
   {
    "duration": 1641,
    "start_time": "2022-01-22T12:57:31.747Z"
   },
   {
    "duration": 7,
    "start_time": "2022-01-22T12:57:33.389Z"
   },
   {
    "duration": 17,
    "start_time": "2022-01-22T12:57:33.398Z"
   },
   {
    "duration": 6,
    "start_time": "2022-01-22T12:57:33.416Z"
   },
   {
    "duration": 4,
    "start_time": "2022-01-22T12:57:33.423Z"
   },
   {
    "duration": 19,
    "start_time": "2022-01-22T12:57:33.428Z"
   },
   {
    "duration": 10,
    "start_time": "2022-01-22T12:57:33.449Z"
   },
   {
    "duration": 6,
    "start_time": "2022-01-22T12:57:33.461Z"
   },
   {
    "duration": 49,
    "start_time": "2022-01-22T12:57:33.468Z"
   },
   {
    "duration": 11,
    "start_time": "2022-01-22T12:57:33.519Z"
   },
   {
    "duration": 696,
    "start_time": "2022-01-22T12:57:33.531Z"
   },
   {
    "duration": 13,
    "start_time": "2022-01-22T12:57:34.228Z"
   },
   {
    "duration": 12,
    "start_time": "2022-01-22T12:57:34.242Z"
   },
   {
    "duration": 362,
    "start_time": "2022-01-22T12:57:34.257Z"
   },
   {
    "duration": 9,
    "start_time": "2022-01-22T12:57:34.620Z"
   },
   {
    "duration": 354,
    "start_time": "2022-01-22T12:57:34.631Z"
   },
   {
    "duration": 10,
    "start_time": "2022-01-22T12:57:34.987Z"
   },
   {
    "duration": 249,
    "start_time": "2022-01-22T12:57:34.998Z"
   },
   {
    "duration": 324,
    "start_time": "2022-01-22T12:57:35.249Z"
   },
   {
    "duration": 10,
    "start_time": "2022-01-22T12:57:35.575Z"
   },
   {
    "duration": 27,
    "start_time": "2022-01-22T12:57:35.586Z"
   },
   {
    "duration": 360,
    "start_time": "2022-01-22T12:57:35.614Z"
   },
   {
    "duration": 9,
    "start_time": "2022-01-22T12:57:35.976Z"
   },
   {
    "duration": 5,
    "start_time": "2022-01-22T12:57:35.987Z"
   },
   {
    "duration": 11,
    "start_time": "2022-01-22T12:57:36.012Z"
   },
   {
    "duration": 262,
    "start_time": "2022-01-22T12:57:36.024Z"
   },
   {
    "duration": 4,
    "start_time": "2022-01-22T12:57:36.287Z"
   },
   {
    "duration": 3,
    "start_time": "2022-01-22T12:57:36.293Z"
   },
   {
    "duration": 4,
    "start_time": "2022-01-22T12:57:36.312Z"
   },
   {
    "duration": 5,
    "start_time": "2022-01-22T12:57:36.318Z"
   },
   {
    "duration": 5,
    "start_time": "2022-01-22T12:57:36.324Z"
   },
   {
    "duration": 8,
    "start_time": "2022-01-22T12:57:36.331Z"
   },
   {
    "duration": 8,
    "start_time": "2022-01-22T12:57:36.341Z"
   },
   {
    "duration": 5,
    "start_time": "2022-01-22T12:57:36.351Z"
   },
   {
    "duration": 52,
    "start_time": "2022-01-22T12:58:25.636Z"
   },
   {
    "duration": 38,
    "start_time": "2022-01-22T12:58:27.714Z"
   },
   {
    "duration": 8,
    "start_time": "2022-01-22T12:58:29.675Z"
   },
   {
    "duration": 6,
    "start_time": "2022-01-22T12:58:31.157Z"
   },
   {
    "duration": 1736,
    "start_time": "2022-01-22T12:58:37.986Z"
   },
   {
    "duration": 8,
    "start_time": "2022-01-22T12:58:41.094Z"
   },
   {
    "duration": 6,
    "start_time": "2022-01-22T12:58:42.825Z"
   },
   {
    "duration": 49,
    "start_time": "2022-01-22T12:58:59.265Z"
   },
   {
    "duration": 24,
    "start_time": "2022-01-22T12:59:01.407Z"
   },
   {
    "duration": 8,
    "start_time": "2022-01-22T12:59:03.165Z"
   },
   {
    "duration": 7,
    "start_time": "2022-01-22T12:59:06.427Z"
   },
   {
    "duration": 8,
    "start_time": "2022-01-22T12:59:08.566Z"
   },
   {
    "duration": 8,
    "start_time": "2022-01-22T12:59:10.807Z"
   },
   {
    "duration": 6,
    "start_time": "2022-01-22T12:59:12.456Z"
   },
   {
    "duration": 6,
    "start_time": "2022-01-22T12:59:17.156Z"
   },
   {
    "duration": 5,
    "start_time": "2022-01-22T12:59:19.436Z"
   },
   {
    "duration": 20,
    "start_time": "2022-01-22T12:59:20.916Z"
   },
   {
    "duration": 12,
    "start_time": "2022-01-22T12:59:23.165Z"
   },
   {
    "duration": 5,
    "start_time": "2022-01-22T12:59:26.026Z"
   },
   {
    "duration": 13,
    "start_time": "2022-01-22T12:59:26.957Z"
   },
   {
    "duration": 12,
    "start_time": "2022-01-22T12:59:29.156Z"
   },
   {
    "duration": 230,
    "start_time": "2022-01-22T12:59:33.036Z"
   },
   {
    "duration": 14,
    "start_time": "2022-01-22T12:59:48.575Z"
   },
   {
    "duration": 15,
    "start_time": "2022-01-22T12:59:50.726Z"
   },
   {
    "duration": 355,
    "start_time": "2022-01-22T12:59:54.796Z"
   },
   {
    "duration": 50,
    "start_time": "2022-01-22T13:02:37.466Z"
   },
   {
    "duration": 34,
    "start_time": "2022-01-22T13:02:39.028Z"
   },
   {
    "duration": 7,
    "start_time": "2022-01-22T13:02:40.827Z"
   },
   {
    "duration": 6,
    "start_time": "2022-01-22T13:02:42.284Z"
   },
   {
    "duration": 1569,
    "start_time": "2022-01-22T13:02:45.146Z"
   },
   {
    "duration": 7,
    "start_time": "2022-01-22T13:02:49.026Z"
   },
   {
    "duration": 6,
    "start_time": "2022-01-22T13:02:50.857Z"
   },
   {
    "duration": 15,
    "start_time": "2022-01-22T13:27:01.005Z"
   },
   {
    "duration": 61,
    "start_time": "2022-01-22T13:27:35.273Z"
   },
   {
    "duration": 26,
    "start_time": "2022-01-22T13:28:27.507Z"
   },
   {
    "duration": 8,
    "start_time": "2022-01-22T13:29:31.479Z"
   },
   {
    "duration": 5,
    "start_time": "2022-01-22T13:29:40.195Z"
   },
   {
    "duration": 9,
    "start_time": "2022-01-22T13:30:05.485Z"
   },
   {
    "duration": 6,
    "start_time": "2022-01-22T13:30:58.986Z"
   },
   {
    "duration": 917,
    "start_time": "2022-01-22T13:36:36.435Z"
   },
   {
    "duration": 468,
    "start_time": "2022-01-22T13:36:37.354Z"
   },
   {
    "duration": 25,
    "start_time": "2022-01-22T13:36:37.824Z"
   },
   {
    "duration": 5,
    "start_time": "2022-01-22T13:36:37.850Z"
   },
   {
    "duration": 8,
    "start_time": "2022-01-22T13:36:37.857Z"
   },
   {
    "duration": 4,
    "start_time": "2022-01-22T13:36:37.867Z"
   },
   {
    "duration": 11,
    "start_time": "2022-01-22T13:36:37.872Z"
   },
   {
    "duration": 27,
    "start_time": "2022-01-22T13:36:37.886Z"
   },
   {
    "duration": 20,
    "start_time": "2022-01-22T13:36:37.915Z"
   },
   {
    "duration": 50,
    "start_time": "2022-01-22T13:36:37.936Z"
   },
   {
    "duration": 26,
    "start_time": "2022-01-22T13:36:37.987Z"
   },
   {
    "duration": 7,
    "start_time": "2022-01-22T13:36:38.014Z"
   },
   {
    "duration": 8,
    "start_time": "2022-01-22T13:36:38.022Z"
   },
   {
    "duration": 7,
    "start_time": "2022-01-22T13:36:38.031Z"
   },
   {
    "duration": 4,
    "start_time": "2022-01-22T13:36:38.040Z"
   },
   {
    "duration": 5,
    "start_time": "2022-01-22T13:36:38.046Z"
   },
   {
    "duration": 5,
    "start_time": "2022-01-22T13:36:38.052Z"
   },
   {
    "duration": 57,
    "start_time": "2022-01-22T13:36:38.058Z"
   },
   {
    "duration": 12,
    "start_time": "2022-01-22T13:36:38.116Z"
   },
   {
    "duration": 8,
    "start_time": "2022-01-22T13:36:38.130Z"
   },
   {
    "duration": 19,
    "start_time": "2022-01-22T13:36:38.140Z"
   },
   {
    "duration": 11,
    "start_time": "2022-01-22T13:36:38.161Z"
   },
   {
    "duration": 378,
    "start_time": "2022-01-22T13:41:54.718Z"
   },
   {
    "duration": 15,
    "start_time": "2022-01-22T13:42:21.979Z"
   },
   {
    "duration": 13,
    "start_time": "2022-01-22T13:42:43.880Z"
   },
   {
    "duration": 231,
    "start_time": "2022-01-22T13:42:43.895Z"
   },
   {
    "duration": 885,
    "start_time": "2022-01-22T13:43:25.263Z"
   },
   {
    "duration": 457,
    "start_time": "2022-01-22T13:43:26.150Z"
   },
   {
    "duration": 24,
    "start_time": "2022-01-22T13:43:26.609Z"
   },
   {
    "duration": 5,
    "start_time": "2022-01-22T13:43:26.634Z"
   },
   {
    "duration": 9,
    "start_time": "2022-01-22T13:43:26.641Z"
   },
   {
    "duration": 5,
    "start_time": "2022-01-22T13:43:26.652Z"
   },
   {
    "duration": 11,
    "start_time": "2022-01-22T13:43:26.658Z"
   },
   {
    "duration": 42,
    "start_time": "2022-01-22T13:43:26.671Z"
   },
   {
    "duration": 23,
    "start_time": "2022-01-22T13:43:26.715Z"
   },
   {
    "duration": 51,
    "start_time": "2022-01-22T13:43:26.739Z"
   },
   {
    "duration": 25,
    "start_time": "2022-01-22T13:43:26.792Z"
   },
   {
    "duration": 7,
    "start_time": "2022-01-22T13:43:26.818Z"
   },
   {
    "duration": 5,
    "start_time": "2022-01-22T13:43:26.827Z"
   },
   {
    "duration": 11,
    "start_time": "2022-01-22T13:43:26.833Z"
   },
   {
    "duration": 6,
    "start_time": "2022-01-22T13:43:26.845Z"
   },
   {
    "duration": 5,
    "start_time": "2022-01-22T13:43:26.852Z"
   },
   {
    "duration": 4,
    "start_time": "2022-01-22T13:43:26.859Z"
   },
   {
    "duration": 64,
    "start_time": "2022-01-22T13:43:26.865Z"
   },
   {
    "duration": 12,
    "start_time": "2022-01-22T13:43:26.930Z"
   },
   {
    "duration": 8,
    "start_time": "2022-01-22T13:43:26.944Z"
   },
   {
    "duration": 13,
    "start_time": "2022-01-22T13:43:26.954Z"
   },
   {
    "duration": 10,
    "start_time": "2022-01-22T13:43:26.969Z"
   },
   {
    "duration": 746,
    "start_time": "2022-01-22T13:43:26.982Z"
   },
   {
    "duration": 18,
    "start_time": "2022-01-22T13:43:27.730Z"
   },
   {
    "duration": 14,
    "start_time": "2022-01-22T13:43:29.425Z"
   },
   {
    "duration": 246,
    "start_time": "2022-01-22T13:43:29.441Z"
   },
   {
    "duration": 22,
    "start_time": "2022-01-22T13:43:29.690Z"
   },
   {
    "duration": 355,
    "start_time": "2022-01-22T13:43:29.715Z"
   },
   {
    "duration": 13,
    "start_time": "2022-01-22T13:43:30.072Z"
   },
   {
    "duration": 262,
    "start_time": "2022-01-22T13:43:30.087Z"
   },
   {
    "duration": 334,
    "start_time": "2022-01-22T13:43:30.351Z"
   },
   {
    "duration": 12,
    "start_time": "2022-01-22T13:43:30.687Z"
   },
   {
    "duration": 24,
    "start_time": "2022-01-22T13:43:30.701Z"
   },
   {
    "duration": 381,
    "start_time": "2022-01-22T13:43:30.727Z"
   },
   {
    "duration": 10,
    "start_time": "2022-01-22T13:43:31.112Z"
   },
   {
    "duration": 9,
    "start_time": "2022-01-22T13:43:31.124Z"
   },
   {
    "duration": 12,
    "start_time": "2022-01-22T13:43:31.135Z"
   },
   {
    "duration": 266,
    "start_time": "2022-01-22T13:43:31.148Z"
   },
   {
    "duration": 6,
    "start_time": "2022-01-22T13:43:31.416Z"
   },
   {
    "duration": 9,
    "start_time": "2022-01-22T13:43:31.424Z"
   },
   {
    "duration": 7,
    "start_time": "2022-01-22T13:43:31.435Z"
   },
   {
    "duration": 5,
    "start_time": "2022-01-22T13:43:42.684Z"
   },
   {
    "duration": 4,
    "start_time": "2022-01-22T13:43:42.691Z"
   },
   {
    "duration": 5,
    "start_time": "2022-01-22T13:43:42.697Z"
   },
   {
    "duration": 7,
    "start_time": "2022-01-22T13:43:42.703Z"
   },
   {
    "duration": 7,
    "start_time": "2022-01-22T13:43:42.712Z"
   },
   {
    "duration": 1316,
    "start_time": "2022-01-22T13:59:30.333Z"
   },
   {
    "duration": 452,
    "start_time": "2022-01-22T13:59:31.651Z"
   },
   {
    "duration": 25,
    "start_time": "2022-01-22T13:59:32.105Z"
   },
   {
    "duration": 5,
    "start_time": "2022-01-22T13:59:32.132Z"
   },
   {
    "duration": 15,
    "start_time": "2022-01-22T13:59:32.138Z"
   },
   {
    "duration": 9,
    "start_time": "2022-01-22T13:59:32.155Z"
   },
   {
    "duration": 19,
    "start_time": "2022-01-22T13:59:32.166Z"
   },
   {
    "duration": 27,
    "start_time": "2022-01-22T13:59:32.187Z"
   },
   {
    "duration": 22,
    "start_time": "2022-01-22T13:59:32.216Z"
   },
   {
    "duration": 52,
    "start_time": "2022-01-22T13:59:32.239Z"
   },
   {
    "duration": 24,
    "start_time": "2022-01-22T13:59:32.293Z"
   },
   {
    "duration": 7,
    "start_time": "2022-01-22T13:59:32.318Z"
   },
   {
    "duration": 1666,
    "start_time": "2022-01-22T13:59:32.327Z"
   },
   {
    "duration": 8,
    "start_time": "2022-01-22T13:59:33.995Z"
   },
   {
    "duration": 6,
    "start_time": "2022-01-22T13:59:34.012Z"
   },
   {
    "duration": 6,
    "start_time": "2022-01-22T13:59:34.020Z"
   },
   {
    "duration": 4,
    "start_time": "2022-01-22T13:59:34.028Z"
   },
   {
    "duration": 19,
    "start_time": "2022-01-22T13:59:34.034Z"
   },
   {
    "duration": 10,
    "start_time": "2022-01-22T13:59:34.055Z"
   },
   {
    "duration": 6,
    "start_time": "2022-01-22T13:59:34.067Z"
   },
   {
    "duration": 46,
    "start_time": "2022-01-22T13:59:34.074Z"
   },
   {
    "duration": 23,
    "start_time": "2022-01-22T13:59:34.122Z"
   },
   {
    "duration": 930,
    "start_time": "2022-01-22T14:07:34.882Z"
   },
   {
    "duration": 444,
    "start_time": "2022-01-22T14:07:35.814Z"
   },
   {
    "duration": 23,
    "start_time": "2022-01-22T14:07:36.260Z"
   },
   {
    "duration": 5,
    "start_time": "2022-01-22T14:07:36.285Z"
   },
   {
    "duration": 9,
    "start_time": "2022-01-22T14:07:36.292Z"
   },
   {
    "duration": 4,
    "start_time": "2022-01-22T14:07:36.302Z"
   },
   {
    "duration": 10,
    "start_time": "2022-01-22T14:07:36.308Z"
   },
   {
    "duration": 24,
    "start_time": "2022-01-22T14:07:36.320Z"
   },
   {
    "duration": 22,
    "start_time": "2022-01-22T14:07:36.346Z"
   },
   {
    "duration": 50,
    "start_time": "2022-01-22T14:07:36.370Z"
   },
   {
    "duration": 24,
    "start_time": "2022-01-22T14:07:36.422Z"
   },
   {
    "duration": 8,
    "start_time": "2022-01-22T14:07:36.448Z"
   },
   {
    "duration": 1615,
    "start_time": "2022-01-22T14:07:36.457Z"
   },
   {
    "duration": 9,
    "start_time": "2022-01-22T14:07:38.074Z"
   },
   {
    "duration": 7,
    "start_time": "2022-01-22T14:07:38.085Z"
   },
   {
    "duration": 7,
    "start_time": "2022-01-22T14:07:38.113Z"
   },
   {
    "duration": 5,
    "start_time": "2022-01-22T14:07:38.121Z"
   },
   {
    "duration": 24,
    "start_time": "2022-01-22T14:07:38.128Z"
   },
   {
    "duration": 11,
    "start_time": "2022-01-22T14:07:38.153Z"
   },
   {
    "duration": 4,
    "start_time": "2022-01-22T14:07:38.166Z"
   },
   {
    "duration": 14,
    "start_time": "2022-01-22T14:07:38.172Z"
   },
   {
    "duration": 38,
    "start_time": "2022-01-22T14:07:38.188Z"
   },
   {
    "duration": 703,
    "start_time": "2022-01-22T14:07:38.230Z"
   },
   {
    "duration": 14,
    "start_time": "2022-01-22T14:07:38.935Z"
   },
   {
    "duration": 13,
    "start_time": "2022-01-22T14:07:38.951Z"
   },
   {
    "duration": 354,
    "start_time": "2022-01-22T14:07:39.019Z"
   },
   {
    "duration": 9,
    "start_time": "2022-01-22T14:07:39.374Z"
   },
   {
    "duration": 332,
    "start_time": "2022-01-22T14:07:39.384Z"
   },
   {
    "duration": 10,
    "start_time": "2022-01-22T14:07:39.717Z"
   },
   {
    "duration": 235,
    "start_time": "2022-01-22T14:07:39.728Z"
   },
   {
    "duration": 358,
    "start_time": "2022-01-22T14:07:39.964Z"
   },
   {
    "duration": 10,
    "start_time": "2022-01-22T14:07:40.323Z"
   },
   {
    "duration": 15,
    "start_time": "2022-01-22T14:07:40.334Z"
   },
   {
    "duration": 362,
    "start_time": "2022-01-22T14:07:40.350Z"
   },
   {
    "duration": 10,
    "start_time": "2022-01-22T14:07:40.714Z"
   },
   {
    "duration": 4,
    "start_time": "2022-01-22T14:07:40.725Z"
   },
   {
    "duration": 10,
    "start_time": "2022-01-22T14:07:40.731Z"
   },
   {
    "duration": 271,
    "start_time": "2022-01-22T14:07:40.743Z"
   },
   {
    "duration": 5,
    "start_time": "2022-01-22T14:07:41.016Z"
   },
   {
    "duration": 6,
    "start_time": "2022-01-22T14:07:41.023Z"
   },
   {
    "duration": 7,
    "start_time": "2022-01-22T14:07:41.031Z"
   },
   {
    "duration": 8,
    "start_time": "2022-01-22T14:07:41.040Z"
   },
   {
    "duration": 6,
    "start_time": "2022-01-22T14:07:41.049Z"
   },
   {
    "duration": 9,
    "start_time": "2022-01-22T14:07:41.056Z"
   },
   {
    "duration": 8,
    "start_time": "2022-01-22T14:07:41.067Z"
   },
   {
    "duration": 34,
    "start_time": "2022-01-22T14:07:41.078Z"
   },
   {
    "duration": 71,
    "start_time": "2022-01-22T15:00:06.386Z"
   },
   {
    "duration": 25,
    "start_time": "2022-01-22T15:00:08.616Z"
   },
   {
    "duration": 7,
    "start_time": "2022-01-22T15:00:12.546Z"
   },
   {
    "duration": 6,
    "start_time": "2022-01-22T15:00:37.099Z"
   },
   {
    "duration": 7,
    "start_time": "2022-01-22T15:00:40.284Z"
   },
   {
    "duration": 7,
    "start_time": "2022-01-22T15:00:44.124Z"
   },
   {
    "duration": 7,
    "start_time": "2022-01-22T15:00:53.518Z"
   },
   {
    "duration": 4,
    "start_time": "2022-01-22T15:00:57.216Z"
   },
   {
    "duration": 19,
    "start_time": "2022-01-22T15:00:59.627Z"
   },
   {
    "duration": 12,
    "start_time": "2022-01-22T15:01:03.346Z"
   },
   {
    "duration": 6,
    "start_time": "2022-01-22T15:01:15.215Z"
   },
   {
    "duration": 12,
    "start_time": "2022-01-22T15:01:17.096Z"
   },
   {
    "duration": 11,
    "start_time": "2022-01-22T15:01:21.055Z"
   },
   {
    "duration": 369,
    "start_time": "2022-01-22T15:01:26.507Z"
   },
   {
    "duration": 14,
    "start_time": "2022-01-22T15:01:32.267Z"
   },
   {
    "duration": 16,
    "start_time": "2022-01-22T15:01:35.365Z"
   },
   {
    "duration": 265,
    "start_time": "2022-01-22T15:01:41.217Z"
   },
   {
    "duration": 898,
    "start_time": "2022-01-22T15:02:13.452Z"
   },
   {
    "duration": 469,
    "start_time": "2022-01-22T15:02:14.352Z"
   },
   {
    "duration": 24,
    "start_time": "2022-01-22T15:02:14.822Z"
   },
   {
    "duration": 5,
    "start_time": "2022-01-22T15:02:14.847Z"
   },
   {
    "duration": 9,
    "start_time": "2022-01-22T15:02:14.854Z"
   },
   {
    "duration": 3,
    "start_time": "2022-01-22T15:02:14.865Z"
   },
   {
    "duration": 10,
    "start_time": "2022-01-22T15:02:14.870Z"
   },
   {
    "duration": 37,
    "start_time": "2022-01-22T15:02:14.881Z"
   },
   {
    "duration": 21,
    "start_time": "2022-01-22T15:02:14.921Z"
   },
   {
    "duration": 50,
    "start_time": "2022-01-22T15:02:14.944Z"
   },
   {
    "duration": 33,
    "start_time": "2022-01-22T15:02:14.996Z"
   },
   {
    "duration": 7,
    "start_time": "2022-01-22T15:02:15.031Z"
   },
   {
    "duration": 6,
    "start_time": "2022-01-22T15:02:15.040Z"
   },
   {
    "duration": 7,
    "start_time": "2022-01-22T15:02:15.048Z"
   },
   {
    "duration": 5,
    "start_time": "2022-01-22T15:02:15.057Z"
   },
   {
    "duration": 7,
    "start_time": "2022-01-22T15:02:15.064Z"
   },
   {
    "duration": 39,
    "start_time": "2022-01-22T15:02:15.073Z"
   },
   {
    "duration": 21,
    "start_time": "2022-01-22T15:02:15.115Z"
   },
   {
    "duration": 13,
    "start_time": "2022-01-22T15:02:15.138Z"
   },
   {
    "duration": 7,
    "start_time": "2022-01-22T15:02:15.153Z"
   },
   {
    "duration": 12,
    "start_time": "2022-01-22T15:02:15.161Z"
   },
   {
    "duration": 48,
    "start_time": "2022-01-22T15:02:15.175Z"
   },
   {
    "duration": 749,
    "start_time": "2022-01-22T15:02:15.225Z"
   },
   {
    "duration": 38,
    "start_time": "2022-01-22T15:02:15.976Z"
   },
   {
    "duration": 13,
    "start_time": "2022-01-22T15:02:16.016Z"
   },
   {
    "duration": 341,
    "start_time": "2022-01-22T15:02:16.030Z"
   },
   {
    "duration": 9,
    "start_time": "2022-01-22T15:02:16.375Z"
   },
   {
    "duration": 360,
    "start_time": "2022-01-22T15:02:16.386Z"
   },
   {
    "duration": 11,
    "start_time": "2022-01-22T15:02:16.747Z"
   },
   {
    "duration": 256,
    "start_time": "2022-01-22T15:02:16.760Z"
   },
   {
    "duration": 319,
    "start_time": "2022-01-22T15:02:17.017Z"
   },
   {
    "duration": 10,
    "start_time": "2022-01-22T15:02:17.338Z"
   },
   {
    "duration": 13,
    "start_time": "2022-01-22T15:02:17.349Z"
   },
   {
    "duration": 398,
    "start_time": "2022-01-22T15:02:17.363Z"
   },
   {
    "duration": 10,
    "start_time": "2022-01-22T15:02:17.763Z"
   },
   {
    "duration": 7,
    "start_time": "2022-01-22T15:02:17.774Z"
   },
   {
    "duration": 31,
    "start_time": "2022-01-22T15:02:17.782Z"
   },
   {
    "duration": 268,
    "start_time": "2022-01-22T15:02:17.815Z"
   },
   {
    "duration": 5,
    "start_time": "2022-01-22T15:02:18.084Z"
   },
   {
    "duration": 4,
    "start_time": "2022-01-22T15:02:18.091Z"
   },
   {
    "duration": 9,
    "start_time": "2022-01-22T15:02:18.112Z"
   },
   {
    "duration": 5,
    "start_time": "2022-01-22T15:02:18.122Z"
   },
   {
    "duration": 4,
    "start_time": "2022-01-22T15:02:18.128Z"
   },
   {
    "duration": 13,
    "start_time": "2022-01-22T15:02:18.134Z"
   },
   {
    "duration": 15,
    "start_time": "2022-01-22T15:02:18.149Z"
   },
   {
    "duration": 5,
    "start_time": "2022-01-22T15:02:18.166Z"
   },
   {
    "duration": 915,
    "start_time": "2022-01-22T15:03:19.331Z"
   },
   {
    "duration": 458,
    "start_time": "2022-01-22T15:03:20.248Z"
   },
   {
    "duration": 24,
    "start_time": "2022-01-22T15:03:20.708Z"
   },
   {
    "duration": 4,
    "start_time": "2022-01-22T15:03:20.734Z"
   },
   {
    "duration": 8,
    "start_time": "2022-01-22T15:03:20.740Z"
   },
   {
    "duration": 5,
    "start_time": "2022-01-22T15:03:20.750Z"
   },
   {
    "duration": 14,
    "start_time": "2022-01-22T15:03:20.756Z"
   },
   {
    "duration": 24,
    "start_time": "2022-01-22T15:03:20.772Z"
   },
   {
    "duration": 34,
    "start_time": "2022-01-22T15:03:20.798Z"
   },
   {
    "duration": 50,
    "start_time": "2022-01-22T15:03:20.833Z"
   },
   {
    "duration": 25,
    "start_time": "2022-01-22T15:03:20.885Z"
   },
   {
    "duration": 8,
    "start_time": "2022-01-22T15:03:20.913Z"
   },
   {
    "duration": 1636,
    "start_time": "2022-01-22T15:03:20.923Z"
   },
   {
    "duration": 7,
    "start_time": "2022-01-22T15:03:22.561Z"
   },
   {
    "duration": 9,
    "start_time": "2022-01-22T15:03:22.569Z"
   },
   {
    "duration": 5,
    "start_time": "2022-01-22T15:03:22.580Z"
   },
   {
    "duration": 29,
    "start_time": "2022-01-22T15:03:22.587Z"
   },
   {
    "duration": 20,
    "start_time": "2022-01-22T15:03:22.617Z"
   },
   {
    "duration": 12,
    "start_time": "2022-01-22T15:03:22.639Z"
   },
   {
    "duration": 6,
    "start_time": "2022-01-22T15:03:22.653Z"
   },
   {
    "duration": 12,
    "start_time": "2022-01-22T15:03:22.661Z"
   },
   {
    "duration": 48,
    "start_time": "2022-01-22T15:03:22.675Z"
   },
   {
    "duration": 366,
    "start_time": "2022-01-22T15:06:10.527Z"
   },
   {
    "duration": 15,
    "start_time": "2022-01-22T15:06:20.168Z"
   },
   {
    "duration": 14,
    "start_time": "2022-01-22T15:06:23.528Z"
   },
   {
    "duration": 245,
    "start_time": "2022-01-22T15:06:24.638Z"
   },
   {
    "duration": 894,
    "start_time": "2022-01-22T15:07:17.251Z"
   },
   {
    "duration": 449,
    "start_time": "2022-01-22T15:07:18.147Z"
   },
   {
    "duration": 23,
    "start_time": "2022-01-22T15:07:18.598Z"
   },
   {
    "duration": 5,
    "start_time": "2022-01-22T15:07:18.623Z"
   },
   {
    "duration": 9,
    "start_time": "2022-01-22T15:07:18.629Z"
   },
   {
    "duration": 4,
    "start_time": "2022-01-22T15:07:18.639Z"
   },
   {
    "duration": 10,
    "start_time": "2022-01-22T15:07:18.644Z"
   },
   {
    "duration": 23,
    "start_time": "2022-01-22T15:07:18.655Z"
   },
   {
    "duration": 41,
    "start_time": "2022-01-22T15:07:18.681Z"
   },
   {
    "duration": 75,
    "start_time": "2022-01-22T15:07:18.724Z"
   },
   {
    "duration": 24,
    "start_time": "2022-01-22T15:07:18.800Z"
   },
   {
    "duration": 8,
    "start_time": "2022-01-22T15:07:18.826Z"
   },
   {
    "duration": 1611,
    "start_time": "2022-01-22T15:07:18.836Z"
   },
   {
    "duration": 7,
    "start_time": "2022-01-22T15:07:20.449Z"
   },
   {
    "duration": 6,
    "start_time": "2022-01-22T15:07:20.457Z"
   },
   {
    "duration": 7,
    "start_time": "2022-01-22T15:07:20.464Z"
   },
   {
    "duration": 4,
    "start_time": "2022-01-22T15:07:20.472Z"
   },
   {
    "duration": 47,
    "start_time": "2022-01-22T15:07:20.478Z"
   },
   {
    "duration": 11,
    "start_time": "2022-01-22T15:07:20.527Z"
   },
   {
    "duration": 7,
    "start_time": "2022-01-22T15:07:20.539Z"
   },
   {
    "duration": 14,
    "start_time": "2022-01-22T15:07:20.547Z"
   },
   {
    "duration": 11,
    "start_time": "2022-01-22T15:07:20.563Z"
   },
   {
    "duration": 741,
    "start_time": "2022-01-22T15:07:20.576Z"
   },
   {
    "duration": 14,
    "start_time": "2022-01-22T15:07:21.319Z"
   },
   {
    "duration": 15,
    "start_time": "2022-01-22T15:07:21.335Z"
   },
   {
    "duration": 377,
    "start_time": "2022-01-22T15:07:21.352Z"
   },
   {
    "duration": 9,
    "start_time": "2022-01-22T15:07:21.732Z"
   },
   {
    "duration": 362,
    "start_time": "2022-01-22T15:07:21.743Z"
   },
   {
    "duration": 14,
    "start_time": "2022-01-22T15:07:22.107Z"
   },
   {
    "duration": 248,
    "start_time": "2022-01-22T15:07:22.122Z"
   },
   {
    "duration": 357,
    "start_time": "2022-01-22T15:07:22.371Z"
   },
   {
    "duration": 10,
    "start_time": "2022-01-22T15:07:22.730Z"
   },
   {
    "duration": 17,
    "start_time": "2022-01-22T15:07:22.742Z"
   },
   {
    "duration": 379,
    "start_time": "2022-01-22T15:07:22.761Z"
   },
   {
    "duration": 9,
    "start_time": "2022-01-22T15:07:23.141Z"
   },
   {
    "duration": 6,
    "start_time": "2022-01-22T15:07:23.151Z"
   },
   {
    "duration": 11,
    "start_time": "2022-01-22T15:07:23.159Z"
   },
   {
    "duration": 282,
    "start_time": "2022-01-22T15:07:23.171Z"
   },
   {
    "duration": 5,
    "start_time": "2022-01-22T15:07:23.454Z"
   },
   {
    "duration": 3,
    "start_time": "2022-01-22T15:07:23.461Z"
   },
   {
    "duration": 7,
    "start_time": "2022-01-22T15:07:23.466Z"
   },
   {
    "duration": 5,
    "start_time": "2022-01-22T15:07:23.474Z"
   },
   {
    "duration": 4,
    "start_time": "2022-01-22T15:07:23.512Z"
   },
   {
    "duration": 8,
    "start_time": "2022-01-22T15:07:23.517Z"
   },
   {
    "duration": 9,
    "start_time": "2022-01-22T15:07:23.526Z"
   },
   {
    "duration": 5,
    "start_time": "2022-01-22T15:07:23.536Z"
   },
   {
    "duration": 1251,
    "start_time": "2022-01-23T12:02:04.870Z"
   },
   {
    "duration": 21844,
    "start_time": "2022-01-23T12:02:06.123Z"
   },
   {
    "duration": 33,
    "start_time": "2022-01-23T12:02:27.970Z"
   },
   {
    "duration": 15,
    "start_time": "2022-01-23T12:02:28.006Z"
   },
   {
    "duration": 47,
    "start_time": "2022-01-23T12:02:28.024Z"
   },
   {
    "duration": 17,
    "start_time": "2022-01-23T12:02:28.074Z"
   },
   {
    "duration": 20,
    "start_time": "2022-01-23T12:02:28.093Z"
   },
   {
    "duration": 45,
    "start_time": "2022-01-23T12:02:28.116Z"
   },
   {
    "duration": 36,
    "start_time": "2022-01-23T12:02:28.165Z"
   },
   {
    "duration": 81,
    "start_time": "2022-01-23T12:02:28.206Z"
   },
   {
    "duration": 79,
    "start_time": "2022-01-23T12:02:28.290Z"
   },
   {
    "duration": 13,
    "start_time": "2022-01-23T12:02:28.373Z"
   },
   {
    "duration": 3192,
    "start_time": "2022-01-23T12:02:28.389Z"
   },
   {
    "duration": 11,
    "start_time": "2022-01-23T12:02:31.583Z"
   },
   {
    "duration": 9,
    "start_time": "2022-01-23T12:02:31.596Z"
   },
   {
    "duration": 11,
    "start_time": "2022-01-23T12:02:31.635Z"
   },
   {
    "duration": 20,
    "start_time": "2022-01-23T12:02:31.649Z"
   },
   {
    "duration": 40,
    "start_time": "2022-01-23T12:02:31.671Z"
   },
   {
    "duration": 35,
    "start_time": "2022-01-23T12:02:31.714Z"
   },
   {
    "duration": 17,
    "start_time": "2022-01-23T12:02:31.753Z"
   },
   {
    "duration": 30,
    "start_time": "2022-01-23T12:02:31.772Z"
   },
   {
    "duration": 28,
    "start_time": "2022-01-23T12:02:31.804Z"
   },
   {
    "duration": 1186,
    "start_time": "2022-01-23T12:02:31.836Z"
   },
   {
    "duration": 32,
    "start_time": "2022-01-23T12:02:33.024Z"
   },
   {
    "duration": 28,
    "start_time": "2022-01-23T12:02:33.059Z"
   },
   {
    "duration": 554,
    "start_time": "2022-01-23T12:02:33.133Z"
   },
   {
    "duration": 15,
    "start_time": "2022-01-23T12:02:33.692Z"
   },
   {
    "duration": 602,
    "start_time": "2022-01-23T12:02:33.710Z"
   },
   {
    "duration": 40,
    "start_time": "2022-01-23T12:02:34.314Z"
   },
   {
    "duration": 453,
    "start_time": "2022-01-23T12:02:34.356Z"
   },
   {
    "duration": 471,
    "start_time": "2022-01-23T12:02:34.812Z"
   },
   {
    "duration": 17,
    "start_time": "2022-01-23T12:02:35.286Z"
   },
   {
    "duration": 48,
    "start_time": "2022-01-23T12:02:35.306Z"
   },
   {
    "duration": 799,
    "start_time": "2022-01-23T12:02:35.357Z"
   },
   {
    "duration": 16,
    "start_time": "2022-01-23T12:02:36.159Z"
   },
   {
    "duration": 10,
    "start_time": "2022-01-23T12:02:36.178Z"
   },
   {
    "duration": 506,
    "start_time": "2022-01-23T12:02:36.190Z"
   },
   {
    "duration": 18,
    "start_time": "2022-01-23T12:02:36.698Z"
   },
   {
    "duration": 5,
    "start_time": "2022-01-23T12:02:36.719Z"
   },
   {
    "duration": 7,
    "start_time": "2022-01-23T12:02:36.735Z"
   },
   {
    "duration": 19,
    "start_time": "2022-01-23T12:02:36.744Z"
   },
   {
    "duration": 7,
    "start_time": "2022-01-23T12:02:36.766Z"
   },
   {
    "duration": 11,
    "start_time": "2022-01-23T12:02:36.775Z"
   },
   {
    "duration": 60,
    "start_time": "2022-01-23T12:02:36.789Z"
   },
   {
    "duration": 9,
    "start_time": "2022-01-23T12:02:36.852Z"
   },
   {
    "duration": 132,
    "start_time": "2022-01-23T12:07:56.307Z"
   },
   {
    "duration": 8,
    "start_time": "2022-01-23T12:15:30.051Z"
   },
   {
    "duration": 122,
    "start_time": "2022-01-23T12:19:05.708Z"
   },
   {
    "duration": 107,
    "start_time": "2022-01-23T12:19:07.346Z"
   },
   {
    "duration": 1003,
    "start_time": "2022-01-23T13:48:13.947Z"
   },
   {
    "duration": 644,
    "start_time": "2022-01-23T13:48:14.952Z"
   },
   {
    "duration": 25,
    "start_time": "2022-01-23T13:48:15.598Z"
   },
   {
    "duration": 4,
    "start_time": "2022-01-23T13:48:15.625Z"
   },
   {
    "duration": 9,
    "start_time": "2022-01-23T13:48:15.630Z"
   },
   {
    "duration": 4,
    "start_time": "2022-01-23T13:48:15.641Z"
   },
   {
    "duration": 9,
    "start_time": "2022-01-23T13:48:15.646Z"
   },
   {
    "duration": 23,
    "start_time": "2022-01-23T13:48:15.658Z"
   },
   {
    "duration": 18,
    "start_time": "2022-01-23T13:48:15.683Z"
   },
   {
    "duration": 51,
    "start_time": "2022-01-23T13:48:15.702Z"
   },
   {
    "duration": 22,
    "start_time": "2022-01-23T13:48:15.754Z"
   },
   {
    "duration": 5,
    "start_time": "2022-01-23T13:48:15.778Z"
   },
   {
    "duration": 4,
    "start_time": "2022-01-23T13:48:15.785Z"
   },
   {
    "duration": 7,
    "start_time": "2022-01-23T13:48:15.790Z"
   },
   {
    "duration": 4,
    "start_time": "2022-01-23T13:48:15.798Z"
   },
   {
    "duration": 26,
    "start_time": "2022-01-23T13:48:15.804Z"
   },
   {
    "duration": 4,
    "start_time": "2022-01-23T13:48:15.832Z"
   },
   {
    "duration": 18,
    "start_time": "2022-01-23T13:48:15.837Z"
   },
   {
    "duration": 9,
    "start_time": "2022-01-23T13:48:15.857Z"
   },
   {
    "duration": 5,
    "start_time": "2022-01-23T13:48:15.867Z"
   },
   {
    "duration": 12,
    "start_time": "2022-01-23T13:48:15.874Z"
   },
   {
    "duration": 47,
    "start_time": "2022-01-23T13:48:15.887Z"
   },
   {
    "duration": 670,
    "start_time": "2022-01-23T13:48:15.937Z"
   },
   {
    "duration": 20,
    "start_time": "2022-01-23T13:48:16.609Z"
   },
   {
    "duration": 13,
    "start_time": "2022-01-23T13:48:16.630Z"
   },
   {
    "duration": 330,
    "start_time": "2022-01-23T13:48:16.645Z"
   },
   {
    "duration": 8,
    "start_time": "2022-01-23T13:48:16.976Z"
   },
   {
    "duration": 334,
    "start_time": "2022-01-23T13:48:16.985Z"
   },
   {
    "duration": 13,
    "start_time": "2022-01-23T13:48:17.321Z"
   },
   {
    "duration": 223,
    "start_time": "2022-01-23T13:48:17.336Z"
   },
   {
    "duration": 305,
    "start_time": "2022-01-23T13:48:17.560Z"
   },
   {
    "duration": 9,
    "start_time": "2022-01-23T13:48:17.867Z"
   },
   {
    "duration": 19,
    "start_time": "2022-01-23T13:48:17.877Z"
   },
   {
    "duration": 348,
    "start_time": "2022-01-23T13:48:17.898Z"
   },
   {
    "duration": 9,
    "start_time": "2022-01-23T13:48:18.248Z"
   },
   {
    "duration": 5,
    "start_time": "2022-01-23T13:48:18.258Z"
   },
   {
    "duration": 253,
    "start_time": "2022-01-23T13:48:18.264Z"
   },
   {
    "duration": 11,
    "start_time": "2022-01-23T13:48:18.519Z"
   },
   {
    "duration": 3,
    "start_time": "2022-01-23T13:48:18.531Z"
   },
   {
    "duration": 7,
    "start_time": "2022-01-23T13:48:18.535Z"
   },
   {
    "duration": 6,
    "start_time": "2022-01-23T13:48:18.543Z"
   },
   {
    "duration": 6,
    "start_time": "2022-01-23T13:48:18.551Z"
   },
   {
    "duration": 9,
    "start_time": "2022-01-23T13:48:18.558Z"
   },
   {
    "duration": 9,
    "start_time": "2022-01-23T13:48:18.568Z"
   },
   {
    "duration": 6,
    "start_time": "2022-01-23T13:48:18.578Z"
   },
   {
    "duration": 924,
    "start_time": "2022-01-23T13:49:20.062Z"
   },
   {
    "duration": 478,
    "start_time": "2022-01-23T13:49:20.988Z"
   },
   {
    "duration": 25,
    "start_time": "2022-01-23T13:49:21.468Z"
   },
   {
    "duration": 5,
    "start_time": "2022-01-23T13:49:21.494Z"
   },
   {
    "duration": 8,
    "start_time": "2022-01-23T13:49:21.500Z"
   },
   {
    "duration": 5,
    "start_time": "2022-01-23T13:49:21.509Z"
   },
   {
    "duration": 10,
    "start_time": "2022-01-23T13:49:21.515Z"
   },
   {
    "duration": 24,
    "start_time": "2022-01-23T13:49:21.526Z"
   },
   {
    "duration": 19,
    "start_time": "2022-01-23T13:49:21.554Z"
   },
   {
    "duration": 59,
    "start_time": "2022-01-23T13:49:21.576Z"
   },
   {
    "duration": 31,
    "start_time": "2022-01-23T13:49:21.637Z"
   },
   {
    "duration": 7,
    "start_time": "2022-01-23T13:49:21.670Z"
   },
   {
    "duration": 6,
    "start_time": "2022-01-23T13:49:21.679Z"
   },
   {
    "duration": 8,
    "start_time": "2022-01-23T13:49:21.686Z"
   },
   {
    "duration": 32,
    "start_time": "2022-01-23T13:49:21.696Z"
   },
   {
    "duration": 5,
    "start_time": "2022-01-23T13:49:21.729Z"
   },
   {
    "duration": 440,
    "start_time": "2022-01-23T13:49:21.735Z"
   },
   {
    "duration": -980,
    "start_time": "2022-01-23T13:49:23.157Z"
   },
   {
    "duration": -996,
    "start_time": "2022-01-23T13:49:23.174Z"
   },
   {
    "duration": -1009,
    "start_time": "2022-01-23T13:49:23.188Z"
   },
   {
    "duration": -1022,
    "start_time": "2022-01-23T13:49:23.202Z"
   },
   {
    "duration": -1032,
    "start_time": "2022-01-23T13:49:23.213Z"
   },
   {
    "duration": -1046,
    "start_time": "2022-01-23T13:49:23.228Z"
   },
   {
    "duration": -1080,
    "start_time": "2022-01-23T13:49:23.263Z"
   },
   {
    "duration": -1095,
    "start_time": "2022-01-23T13:49:23.279Z"
   },
   {
    "duration": -1108,
    "start_time": "2022-01-23T13:49:23.293Z"
   },
   {
    "duration": -1204,
    "start_time": "2022-01-23T13:49:23.390Z"
   },
   {
    "duration": -1218,
    "start_time": "2022-01-23T13:49:23.405Z"
   },
   {
    "duration": -1232,
    "start_time": "2022-01-23T13:49:23.420Z"
   },
   {
    "duration": -1243,
    "start_time": "2022-01-23T13:49:23.432Z"
   },
   {
    "duration": -1259,
    "start_time": "2022-01-23T13:49:23.448Z"
   },
   {
    "duration": -1373,
    "start_time": "2022-01-23T13:49:23.563Z"
   },
   {
    "duration": -1384,
    "start_time": "2022-01-23T13:49:23.575Z"
   },
   {
    "duration": -1394,
    "start_time": "2022-01-23T13:49:23.586Z"
   },
   {
    "duration": -1407,
    "start_time": "2022-01-23T13:49:23.600Z"
   },
   {
    "duration": -1418,
    "start_time": "2022-01-23T13:49:23.611Z"
   },
   {
    "duration": -1451,
    "start_time": "2022-01-23T13:49:23.645Z"
   },
   {
    "duration": -1462,
    "start_time": "2022-01-23T13:49:23.657Z"
   },
   {
    "duration": -1476,
    "start_time": "2022-01-23T13:49:23.671Z"
   },
   {
    "duration": -1486,
    "start_time": "2022-01-23T13:49:23.682Z"
   },
   {
    "duration": -1499,
    "start_time": "2022-01-23T13:49:23.696Z"
   },
   {
    "duration": -1512,
    "start_time": "2022-01-23T13:49:23.710Z"
   },
   {
    "duration": -1527,
    "start_time": "2022-01-23T13:49:23.725Z"
   },
   {
    "duration": -1540,
    "start_time": "2022-01-23T13:49:23.739Z"
   },
   {
    "duration": -1575,
    "start_time": "2022-01-23T13:49:23.775Z"
   },
   {
    "duration": -1590,
    "start_time": "2022-01-23T13:49:23.790Z"
   },
   {
    "duration": 5,
    "start_time": "2022-01-23T13:50:21.025Z"
   },
   {
    "duration": 6,
    "start_time": "2022-01-23T13:51:35.894Z"
   },
   {
    "duration": 343,
    "start_time": "2022-01-23T13:52:05.516Z"
   },
   {
    "duration": 6,
    "start_time": "2022-01-23T13:52:12.417Z"
   },
   {
    "duration": 6,
    "start_time": "2022-01-23T13:52:55.057Z"
   },
   {
    "duration": 4,
    "start_time": "2022-01-23T13:52:59.406Z"
   },
   {
    "duration": 4,
    "start_time": "2022-01-23T13:53:05.096Z"
   },
   {
    "duration": 5,
    "start_time": "2022-01-23T13:53:08.595Z"
   },
   {
    "duration": 6,
    "start_time": "2022-01-23T13:53:24.965Z"
   },
   {
    "duration": 8,
    "start_time": "2022-01-23T13:54:38.224Z"
   },
   {
    "duration": 1172,
    "start_time": "2022-01-23T13:56:00.891Z"
   },
   {
    "duration": 679,
    "start_time": "2022-01-23T13:56:02.066Z"
   },
   {
    "duration": 29,
    "start_time": "2022-01-23T13:56:02.747Z"
   },
   {
    "duration": 6,
    "start_time": "2022-01-23T13:56:02.778Z"
   },
   {
    "duration": 11,
    "start_time": "2022-01-23T13:56:02.785Z"
   },
   {
    "duration": 4,
    "start_time": "2022-01-23T13:56:02.797Z"
   },
   {
    "duration": 14,
    "start_time": "2022-01-23T13:56:02.803Z"
   },
   {
    "duration": 30,
    "start_time": "2022-01-23T13:56:02.827Z"
   },
   {
    "duration": 27,
    "start_time": "2022-01-23T13:56:02.860Z"
   },
   {
    "duration": 61,
    "start_time": "2022-01-23T13:56:02.890Z"
   },
   {
    "duration": 32,
    "start_time": "2022-01-23T13:56:02.953Z"
   },
   {
    "duration": 8,
    "start_time": "2022-01-23T13:56:02.987Z"
   },
   {
    "duration": 5,
    "start_time": "2022-01-23T13:56:02.997Z"
   },
   {
    "duration": 30,
    "start_time": "2022-01-23T13:56:03.004Z"
   },
   {
    "duration": 5,
    "start_time": "2022-01-23T13:56:03.036Z"
   },
   {
    "duration": 7,
    "start_time": "2022-01-23T13:56:03.042Z"
   },
   {
    "duration": 454,
    "start_time": "2022-01-23T13:56:03.050Z"
   },
   {
    "duration": -1231,
    "start_time": "2022-01-23T13:56:04.737Z"
   },
   {
    "duration": -1241,
    "start_time": "2022-01-23T13:56:04.748Z"
   },
   {
    "duration": -1250,
    "start_time": "2022-01-23T13:56:04.758Z"
   },
   {
    "duration": -1262,
    "start_time": "2022-01-23T13:56:04.771Z"
   },
   {
    "duration": -1271,
    "start_time": "2022-01-23T13:56:04.781Z"
   },
   {
    "duration": -1320,
    "start_time": "2022-01-23T13:56:04.830Z"
   },
   {
    "duration": -1332,
    "start_time": "2022-01-23T13:56:04.843Z"
   },
   {
    "duration": -1344,
    "start_time": "2022-01-23T13:56:04.856Z"
   },
   {
    "duration": -1354,
    "start_time": "2022-01-23T13:56:04.867Z"
   },
   {
    "duration": -1366,
    "start_time": "2022-01-23T13:56:04.879Z"
   },
   {
    "duration": -1376,
    "start_time": "2022-01-23T13:56:04.890Z"
   },
   {
    "duration": -1388,
    "start_time": "2022-01-23T13:56:04.903Z"
   },
   {
    "duration": -1398,
    "start_time": "2022-01-23T13:56:04.914Z"
   },
   {
    "duration": -1409,
    "start_time": "2022-01-23T13:56:04.926Z"
   },
   {
    "duration": -1436,
    "start_time": "2022-01-23T13:56:04.954Z"
   },
   {
    "duration": -1448,
    "start_time": "2022-01-23T13:56:04.966Z"
   },
   {
    "duration": -1458,
    "start_time": "2022-01-23T13:56:04.977Z"
   },
   {
    "duration": -1470,
    "start_time": "2022-01-23T13:56:04.990Z"
   },
   {
    "duration": -1479,
    "start_time": "2022-01-23T13:56:05.000Z"
   },
   {
    "duration": -1492,
    "start_time": "2022-01-23T13:56:05.013Z"
   },
   {
    "duration": -1503,
    "start_time": "2022-01-23T13:56:05.025Z"
   },
   {
    "duration": -1515,
    "start_time": "2022-01-23T13:56:05.038Z"
   },
   {
    "duration": -1524,
    "start_time": "2022-01-23T13:56:05.048Z"
   },
   {
    "duration": -1552,
    "start_time": "2022-01-23T13:56:05.077Z"
   },
   {
    "duration": -1563,
    "start_time": "2022-01-23T13:56:05.088Z"
   },
   {
    "duration": -1574,
    "start_time": "2022-01-23T13:56:05.100Z"
   },
   {
    "duration": -1584,
    "start_time": "2022-01-23T13:56:05.111Z"
   },
   {
    "duration": -1596,
    "start_time": "2022-01-23T13:56:05.124Z"
   },
   {
    "duration": -1606,
    "start_time": "2022-01-23T13:56:05.134Z"
   },
   {
    "duration": 333,
    "start_time": "2022-01-23T13:58:20.792Z"
   },
   {
    "duration": 5,
    "start_time": "2022-01-23T13:58:26.794Z"
   },
   {
    "duration": -509,
    "start_time": "2022-01-23T13:59:09.890Z"
   },
   {
    "duration": 5303,
    "start_time": "2022-01-23T13:59:12.527Z"
   },
   {
    "duration": 4,
    "start_time": "2022-01-23T13:59:50.846Z"
   },
   {
    "duration": 8,
    "start_time": "2022-01-23T14:00:17.407Z"
   },
   {
    "duration": 20,
    "start_time": "2022-01-23T14:00:33.156Z"
   },
   {
    "duration": 11,
    "start_time": "2022-01-23T14:00:35.717Z"
   },
   {
    "duration": 5,
    "start_time": "2022-01-23T14:00:53.267Z"
   },
   {
    "duration": 12,
    "start_time": "2022-01-23T14:00:55.867Z"
   },
   {
    "duration": 11,
    "start_time": "2022-01-23T14:00:58.908Z"
   },
   {
    "duration": 657,
    "start_time": "2022-01-23T14:01:02.847Z"
   },
   {
    "duration": 1105,
    "start_time": "2022-01-23T14:02:32.434Z"
   },
   {
    "duration": 556,
    "start_time": "2022-01-23T14:02:33.541Z"
   },
   {
    "duration": 29,
    "start_time": "2022-01-23T14:02:34.100Z"
   },
   {
    "duration": 6,
    "start_time": "2022-01-23T14:02:34.132Z"
   },
   {
    "duration": 17,
    "start_time": "2022-01-23T14:02:34.139Z"
   },
   {
    "duration": 4,
    "start_time": "2022-01-23T14:02:34.158Z"
   },
   {
    "duration": 10,
    "start_time": "2022-01-23T14:02:34.164Z"
   },
   {
    "duration": 27,
    "start_time": "2022-01-23T14:02:34.176Z"
   },
   {
    "duration": 35,
    "start_time": "2022-01-23T14:02:34.205Z"
   },
   {
    "duration": 66,
    "start_time": "2022-01-23T14:02:34.242Z"
   },
   {
    "duration": 34,
    "start_time": "2022-01-23T14:02:34.310Z"
   },
   {
    "duration": 8,
    "start_time": "2022-01-23T14:02:34.346Z"
   },
   {
    "duration": 7,
    "start_time": "2022-01-23T14:02:34.355Z"
   },
   {
    "duration": 8,
    "start_time": "2022-01-23T14:02:34.364Z"
   },
   {
    "duration": 6,
    "start_time": "2022-01-23T14:02:34.374Z"
   },
   {
    "duration": 7,
    "start_time": "2022-01-23T14:02:34.381Z"
   },
   {
    "duration": 8,
    "start_time": "2022-01-23T14:02:34.389Z"
   },
   {
    "duration": 19,
    "start_time": "2022-01-23T14:02:34.429Z"
   },
   {
    "duration": 11,
    "start_time": "2022-01-23T14:02:34.449Z"
   },
   {
    "duration": 7,
    "start_time": "2022-01-23T14:02:34.462Z"
   },
   {
    "duration": 21,
    "start_time": "2022-01-23T14:02:34.471Z"
   },
   {
    "duration": 37,
    "start_time": "2022-01-23T14:02:34.494Z"
   },
   {
    "duration": 688,
    "start_time": "2022-01-23T14:02:34.533Z"
   },
   {
    "duration": 13,
    "start_time": "2022-01-23T14:02:35.226Z"
   },
   {
    "duration": 12,
    "start_time": "2022-01-23T14:02:35.241Z"
   },
   {
    "duration": 486,
    "start_time": "2022-01-23T14:02:35.254Z"
   },
   {
    "duration": 13,
    "start_time": "2022-01-23T14:02:35.744Z"
   },
   {
    "duration": 368,
    "start_time": "2022-01-23T14:02:35.759Z"
   },
   {
    "duration": 11,
    "start_time": "2022-01-23T14:02:36.129Z"
   },
   {
    "duration": 244,
    "start_time": "2022-01-23T14:02:36.141Z"
   },
   {
    "duration": 351,
    "start_time": "2022-01-23T14:02:36.386Z"
   },
   {
    "duration": 8,
    "start_time": "2022-01-23T14:02:36.739Z"
   },
   {
    "duration": 11,
    "start_time": "2022-01-23T14:02:36.749Z"
   },
   {
    "duration": 365,
    "start_time": "2022-01-23T14:02:36.762Z"
   },
   {
    "duration": 10,
    "start_time": "2022-01-23T14:02:37.128Z"
   },
   {
    "duration": 5,
    "start_time": "2022-01-23T14:02:37.139Z"
   },
   {
    "duration": 250,
    "start_time": "2022-01-23T14:02:37.146Z"
   },
   {
    "duration": 5,
    "start_time": "2022-01-23T14:02:37.398Z"
   },
   {
    "duration": 22,
    "start_time": "2022-01-23T14:02:37.405Z"
   },
   {
    "duration": 5,
    "start_time": "2022-01-23T14:02:37.429Z"
   },
   {
    "duration": 5,
    "start_time": "2022-01-23T14:02:37.436Z"
   },
   {
    "duration": 5,
    "start_time": "2022-01-23T14:02:37.443Z"
   },
   {
    "duration": 8,
    "start_time": "2022-01-23T14:02:37.449Z"
   },
   {
    "duration": 11,
    "start_time": "2022-01-23T14:02:37.458Z"
   },
   {
    "duration": 11,
    "start_time": "2022-01-23T14:02:37.470Z"
   },
   {
    "duration": 1080,
    "start_time": "2022-01-23T14:10:28.668Z"
   },
   {
    "duration": 687,
    "start_time": "2022-01-23T14:10:29.750Z"
   },
   {
    "duration": 24,
    "start_time": "2022-01-23T14:10:30.439Z"
   },
   {
    "duration": 11,
    "start_time": "2022-01-23T14:10:30.466Z"
   },
   {
    "duration": 10,
    "start_time": "2022-01-23T14:10:30.478Z"
   },
   {
    "duration": 6,
    "start_time": "2022-01-23T14:10:30.489Z"
   },
   {
    "duration": 13,
    "start_time": "2022-01-23T14:10:30.496Z"
   },
   {
    "duration": 28,
    "start_time": "2022-01-23T14:10:30.511Z"
   },
   {
    "duration": 20,
    "start_time": "2022-01-23T14:10:30.543Z"
   },
   {
    "duration": 58,
    "start_time": "2022-01-23T14:10:30.565Z"
   },
   {
    "duration": 22,
    "start_time": "2022-01-23T14:10:30.625Z"
   },
   {
    "duration": 6,
    "start_time": "2022-01-23T14:10:30.649Z"
   },
   {
    "duration": 5,
    "start_time": "2022-01-23T14:10:30.657Z"
   },
   {
    "duration": 11,
    "start_time": "2022-01-23T14:10:30.663Z"
   },
   {
    "duration": 11,
    "start_time": "2022-01-23T14:10:30.675Z"
   },
   {
    "duration": 11,
    "start_time": "2022-01-23T14:10:30.687Z"
   },
   {
    "duration": 28,
    "start_time": "2022-01-23T14:10:30.700Z"
   },
   {
    "duration": 18,
    "start_time": "2022-01-23T14:10:30.729Z"
   },
   {
    "duration": 9,
    "start_time": "2022-01-23T14:10:30.749Z"
   },
   {
    "duration": 7,
    "start_time": "2022-01-23T14:10:30.760Z"
   },
   {
    "duration": 16,
    "start_time": "2022-01-23T14:10:30.769Z"
   },
   {
    "duration": 10,
    "start_time": "2022-01-23T14:10:30.786Z"
   },
   {
    "duration": 730,
    "start_time": "2022-01-23T14:10:30.797Z"
   },
   {
    "duration": 16,
    "start_time": "2022-01-23T14:10:31.529Z"
   },
   {
    "duration": 16,
    "start_time": "2022-01-23T14:10:31.546Z"
   },
   {
    "duration": 366,
    "start_time": "2022-01-23T14:10:31.563Z"
   },
   {
    "duration": 9,
    "start_time": "2022-01-23T14:10:31.933Z"
   },
   {
    "duration": 351,
    "start_time": "2022-01-23T14:10:31.945Z"
   },
   {
    "duration": 1054,
    "start_time": "2022-01-23T14:10:32.298Z"
   },
   {
    "duration": -58841,
    "start_time": "2022-01-23T14:11:32.195Z"
   },
   {
    "duration": -58851,
    "start_time": "2022-01-23T14:11:32.206Z"
   },
   {
    "duration": -58861,
    "start_time": "2022-01-23T14:11:32.217Z"
   },
   {
    "duration": -58871,
    "start_time": "2022-01-23T14:11:32.228Z"
   },
   {
    "duration": -58882,
    "start_time": "2022-01-23T14:11:32.239Z"
   },
   {
    "duration": -58891,
    "start_time": "2022-01-23T14:11:32.249Z"
   },
   {
    "duration": -58901,
    "start_time": "2022-01-23T14:11:32.260Z"
   },
   {
    "duration": -58915,
    "start_time": "2022-01-23T14:11:32.275Z"
   },
   {
    "duration": -58926,
    "start_time": "2022-01-23T14:11:32.287Z"
   },
   {
    "duration": -59149,
    "start_time": "2022-01-23T14:11:32.510Z"
   },
   {
    "duration": -59160,
    "start_time": "2022-01-23T14:11:32.522Z"
   },
   {
    "duration": -59172,
    "start_time": "2022-01-23T14:11:32.535Z"
   },
   {
    "duration": -59183,
    "start_time": "2022-01-23T14:11:32.547Z"
   },
   {
    "duration": -59195,
    "start_time": "2022-01-23T14:11:32.560Z"
   },
   {
    "duration": 12,
    "start_time": "2022-01-23T14:40:24.559Z"
   },
   {
    "duration": 429,
    "start_time": "2022-01-23T14:43:49.070Z"
   },
   {
    "duration": 232,
    "start_time": "2022-01-23T14:44:32.790Z"
   },
   {
    "duration": 377,
    "start_time": "2022-01-23T14:45:38.850Z"
   },
   {
    "duration": 13,
    "start_time": "2022-01-23T14:47:34.590Z"
   },
   {
    "duration": 977,
    "start_time": "2022-01-23T14:48:20.954Z"
   },
   {
    "duration": 551,
    "start_time": "2022-01-23T14:48:21.933Z"
   },
   {
    "duration": 27,
    "start_time": "2022-01-23T14:48:22.486Z"
   },
   {
    "duration": 6,
    "start_time": "2022-01-23T14:48:22.515Z"
   },
   {
    "duration": 11,
    "start_time": "2022-01-23T14:48:22.523Z"
   },
   {
    "duration": 5,
    "start_time": "2022-01-23T14:48:22.536Z"
   },
   {
    "duration": 12,
    "start_time": "2022-01-23T14:48:22.542Z"
   },
   {
    "duration": 25,
    "start_time": "2022-01-23T14:48:22.556Z"
   },
   {
    "duration": 19,
    "start_time": "2022-01-23T14:48:22.584Z"
   },
   {
    "duration": 54,
    "start_time": "2022-01-23T14:48:22.605Z"
   },
   {
    "duration": 23,
    "start_time": "2022-01-23T14:48:22.660Z"
   },
   {
    "duration": 8,
    "start_time": "2022-01-23T14:48:22.684Z"
   },
   {
    "duration": 4,
    "start_time": "2022-01-23T14:48:22.694Z"
   },
   {
    "duration": 12,
    "start_time": "2022-01-23T14:48:22.700Z"
   },
   {
    "duration": 18,
    "start_time": "2022-01-23T14:48:22.713Z"
   },
   {
    "duration": 7,
    "start_time": "2022-01-23T14:48:22.733Z"
   },
   {
    "duration": 8,
    "start_time": "2022-01-23T14:48:22.742Z"
   },
   {
    "duration": 20,
    "start_time": "2022-01-23T14:48:22.752Z"
   },
   {
    "duration": 11,
    "start_time": "2022-01-23T14:48:22.773Z"
   },
   {
    "duration": 7,
    "start_time": "2022-01-23T14:48:22.786Z"
   },
   {
    "duration": 48,
    "start_time": "2022-01-23T14:48:22.794Z"
   },
   {
    "duration": 19,
    "start_time": "2022-01-23T14:48:22.844Z"
   },
   {
    "duration": 1141,
    "start_time": "2022-01-23T14:48:22.865Z"
   },
   {
    "duration": 30,
    "start_time": "2022-01-23T14:48:24.008Z"
   },
   {
    "duration": 25,
    "start_time": "2022-01-23T14:48:24.039Z"
   },
   {
    "duration": 359,
    "start_time": "2022-01-23T14:48:24.066Z"
   },
   {
    "duration": 12,
    "start_time": "2022-01-23T14:48:24.429Z"
   },
   {
    "duration": 370,
    "start_time": "2022-01-23T14:48:24.443Z"
   },
   {
    "duration": 14,
    "start_time": "2022-01-23T14:48:24.815Z"
   },
   {
    "duration": 583,
    "start_time": "2022-01-23T14:48:24.831Z"
   },
   {
    "duration": -22578,
    "start_time": "2022-01-23T14:48:47.994Z"
   },
   {
    "duration": -22592,
    "start_time": "2022-01-23T14:48:48.009Z"
   },
   {
    "duration": -22602,
    "start_time": "2022-01-23T14:48:48.020Z"
   },
   {
    "duration": -22613,
    "start_time": "2022-01-23T14:48:48.033Z"
   },
   {
    "duration": -22623,
    "start_time": "2022-01-23T14:48:48.044Z"
   },
   {
    "duration": -22634,
    "start_time": "2022-01-23T14:48:48.056Z"
   },
   {
    "duration": -22644,
    "start_time": "2022-01-23T14:48:48.067Z"
   },
   {
    "duration": -22654,
    "start_time": "2022-01-23T14:48:48.079Z"
   },
   {
    "duration": -22681,
    "start_time": "2022-01-23T14:48:48.107Z"
   },
   {
    "duration": -22694,
    "start_time": "2022-01-23T14:48:48.121Z"
   },
   {
    "duration": -22706,
    "start_time": "2022-01-23T14:48:48.134Z"
   },
   {
    "duration": -22717,
    "start_time": "2022-01-23T14:48:48.146Z"
   },
   {
    "duration": -22727,
    "start_time": "2022-01-23T14:48:48.157Z"
   },
   {
    "duration": -22738,
    "start_time": "2022-01-23T14:48:48.169Z"
   },
   {
    "duration": 13,
    "start_time": "2022-01-23T14:52:54.970Z"
   },
   {
    "duration": 14,
    "start_time": "2022-01-23T14:53:14.590Z"
   },
   {
    "duration": 217,
    "start_time": "2022-01-23T14:54:08.939Z"
   },
   {
    "duration": 4,
    "start_time": "2022-01-23T14:56:41.726Z"
   },
   {
    "duration": 424,
    "start_time": "2022-01-23T14:56:46.307Z"
   },
   {
    "duration": 6,
    "start_time": "2022-01-23T14:57:45.389Z"
   },
   {
    "duration": 288,
    "start_time": "2022-01-23T14:57:49.044Z"
   },
   {
    "duration": 375,
    "start_time": "2022-01-23T14:58:07.979Z"
   },
   {
    "duration": 117,
    "start_time": "2022-01-23T15:00:55.499Z"
   },
   {
    "duration": 4,
    "start_time": "2022-01-23T15:01:04.418Z"
   },
   {
    "duration": 4,
    "start_time": "2022-01-23T15:01:21.151Z"
   },
   {
    "duration": 11,
    "start_time": "2022-01-23T15:03:41.041Z"
   },
   {
    "duration": 228,
    "start_time": "2022-01-23T15:03:43.862Z"
   },
   {
    "duration": 9,
    "start_time": "2022-01-23T15:03:55.642Z"
   },
   {
    "duration": 5,
    "start_time": "2022-01-23T15:04:29.652Z"
   },
   {
    "duration": 8,
    "start_time": "2022-01-23T15:07:58.315Z"
   },
   {
    "duration": 10,
    "start_time": "2022-01-23T15:08:36.051Z"
   },
   {
    "duration": 363,
    "start_time": "2022-01-23T15:09:17.368Z"
   },
   {
    "duration": 5,
    "start_time": "2022-01-23T15:10:15.478Z"
   },
   {
    "duration": 224,
    "start_time": "2022-01-23T15:12:54.765Z"
   },
   {
    "duration": 897,
    "start_time": "2022-01-23T15:13:39.098Z"
   },
   {
    "duration": 341,
    "start_time": "2022-01-23T15:15:57.091Z"
   },
   {
    "duration": 240,
    "start_time": "2022-01-23T15:16:08.801Z"
   },
   {
    "duration": 541,
    "start_time": "2022-01-23T15:26:52.564Z"
   },
   {
    "duration": 236,
    "start_time": "2022-01-23T15:28:04.796Z"
   },
   {
    "duration": 429,
    "start_time": "2022-01-23T15:28:16.224Z"
   },
   {
    "duration": 395,
    "start_time": "2022-01-23T15:37:30.261Z"
   },
   {
    "duration": 5,
    "start_time": "2022-01-23T15:37:36.159Z"
   },
   {
    "duration": 277,
    "start_time": "2022-01-23T15:39:17.931Z"
   },
   {
    "duration": 274,
    "start_time": "2022-01-23T15:39:36.030Z"
   },
   {
    "duration": 259,
    "start_time": "2022-01-23T15:40:16.541Z"
   },
   {
    "duration": 249,
    "start_time": "2022-01-23T15:40:23.093Z"
   },
   {
    "duration": 378,
    "start_time": "2022-01-23T15:41:28.624Z"
   },
   {
    "duration": 229,
    "start_time": "2022-01-23T15:41:47.931Z"
   },
   {
    "duration": 10,
    "start_time": "2022-01-23T17:11:06.079Z"
   },
   {
    "duration": 5,
    "start_time": "2022-01-23T17:14:43.989Z"
   },
   {
    "duration": 2,
    "start_time": "2022-01-23T17:49:51.676Z"
   },
   {
    "duration": 5,
    "start_time": "2022-01-23T17:49:53.157Z"
   },
   {
    "duration": 5,
    "start_time": "2022-01-23T17:49:55.667Z"
   },
   {
    "duration": 4,
    "start_time": "2022-01-23T17:49:59.118Z"
   },
   {
    "duration": 4,
    "start_time": "2022-01-23T17:50:01.716Z"
   },
   {
    "duration": 5,
    "start_time": "2022-01-23T17:52:05.216Z"
   },
   {
    "duration": 389,
    "start_time": "2022-01-23T17:52:15.207Z"
   },
   {
    "duration": 343,
    "start_time": "2022-01-23T17:52:22.328Z"
   },
   {
    "duration": 335,
    "start_time": "2022-01-23T17:52:35.147Z"
   },
   {
    "duration": 4,
    "start_time": "2022-01-23T17:56:46.578Z"
   },
   {
    "duration": 11,
    "start_time": "2022-01-23T17:56:55.420Z"
   },
   {
    "duration": 322,
    "start_time": "2022-01-23T17:57:38.232Z"
   },
   {
    "duration": 185,
    "start_time": "2022-01-23T17:57:52.096Z"
   },
   {
    "duration": 4,
    "start_time": "2022-01-23T17:58:22.277Z"
   },
   {
    "duration": 4,
    "start_time": "2022-01-23T17:59:19.328Z"
   },
   {
    "duration": 5,
    "start_time": "2022-01-23T17:59:22.478Z"
   },
   {
    "duration": 4,
    "start_time": "2022-01-23T17:59:30.827Z"
   },
   {
    "duration": 4,
    "start_time": "2022-01-23T17:59:33.887Z"
   },
   {
    "duration": 4,
    "start_time": "2022-01-23T17:59:40.347Z"
   },
   {
    "duration": 6,
    "start_time": "2022-01-23T17:59:43.376Z"
   },
   {
    "duration": 4,
    "start_time": "2022-01-23T17:59:58.508Z"
   },
   {
    "duration": 5,
    "start_time": "2022-01-23T18:00:01.239Z"
   },
   {
    "duration": 5,
    "start_time": "2022-01-23T18:00:04.158Z"
   },
   {
    "duration": 185,
    "start_time": "2022-01-23T18:02:29.527Z"
   },
   {
    "duration": 7,
    "start_time": "2022-01-23T18:04:55.932Z"
   },
   {
    "duration": 6,
    "start_time": "2022-01-23T18:05:19.658Z"
   },
   {
    "duration": 177,
    "start_time": "2022-01-23T18:05:46.068Z"
   },
   {
    "duration": 12,
    "start_time": "2022-01-23T18:08:27.047Z"
   },
   {
    "duration": 921,
    "start_time": "2022-01-23T18:09:00.033Z"
   },
   {
    "duration": 507,
    "start_time": "2022-01-23T18:09:00.956Z"
   },
   {
    "duration": 25,
    "start_time": "2022-01-23T18:09:01.465Z"
   },
   {
    "duration": 5,
    "start_time": "2022-01-23T18:09:01.492Z"
   },
   {
    "duration": 10,
    "start_time": "2022-01-23T18:09:01.498Z"
   },
   {
    "duration": 9,
    "start_time": "2022-01-23T18:09:01.510Z"
   },
   {
    "duration": 20,
    "start_time": "2022-01-23T18:09:01.521Z"
   },
   {
    "duration": 40,
    "start_time": "2022-01-23T18:09:01.543Z"
   },
   {
    "duration": 20,
    "start_time": "2022-01-23T18:09:01.585Z"
   },
   {
    "duration": 54,
    "start_time": "2022-01-23T18:09:01.606Z"
   },
   {
    "duration": 26,
    "start_time": "2022-01-23T18:09:01.662Z"
   },
   {
    "duration": 8,
    "start_time": "2022-01-23T18:09:01.689Z"
   },
   {
    "duration": 12,
    "start_time": "2022-01-23T18:09:01.699Z"
   },
   {
    "duration": 20,
    "start_time": "2022-01-23T18:09:01.713Z"
   },
   {
    "duration": 9,
    "start_time": "2022-01-23T18:09:01.735Z"
   },
   {
    "duration": 6,
    "start_time": "2022-01-23T18:09:01.746Z"
   },
   {
    "duration": 10,
    "start_time": "2022-01-23T18:09:01.753Z"
   },
   {
    "duration": 24,
    "start_time": "2022-01-23T18:09:01.765Z"
   },
   {
    "duration": 36,
    "start_time": "2022-01-23T18:09:01.791Z"
   },
   {
    "duration": 5,
    "start_time": "2022-01-23T18:09:01.829Z"
   },
   {
    "duration": 19,
    "start_time": "2022-01-23T18:09:01.836Z"
   },
   {
    "duration": 14,
    "start_time": "2022-01-23T18:09:01.856Z"
   },
   {
    "duration": 698,
    "start_time": "2022-01-23T18:09:01.873Z"
   },
   {
    "duration": 13,
    "start_time": "2022-01-23T18:09:02.573Z"
   },
   {
    "duration": 48,
    "start_time": "2022-01-23T18:09:02.587Z"
   },
   {
    "duration": 314,
    "start_time": "2022-01-23T18:09:02.637Z"
   },
   {
    "duration": 8,
    "start_time": "2022-01-23T18:09:02.953Z"
   },
   {
    "duration": 345,
    "start_time": "2022-01-23T18:09:02.963Z"
   },
   {
    "duration": 6,
    "start_time": "2022-01-23T18:09:03.310Z"
   },
   {
    "duration": 233,
    "start_time": "2022-01-23T18:09:03.328Z"
   },
   {
    "duration": 3,
    "start_time": "2022-01-23T18:09:03.563Z"
   },
   {
    "duration": 6,
    "start_time": "2022-01-23T18:09:03.568Z"
   },
   {
    "duration": 11,
    "start_time": "2022-01-23T18:09:03.575Z"
   },
   {
    "duration": 366,
    "start_time": "2022-01-23T18:09:03.588Z"
   },
   {
    "duration": 9,
    "start_time": "2022-01-23T18:09:03.956Z"
   },
   {
    "duration": 6,
    "start_time": "2022-01-23T18:09:03.966Z"
   },
   {
    "duration": 361,
    "start_time": "2022-01-23T18:09:03.973Z"
   },
   {
    "duration": 5,
    "start_time": "2022-01-23T18:09:04.335Z"
   },
   {
    "duration": 4,
    "start_time": "2022-01-23T18:09:04.341Z"
   },
   {
    "duration": 5,
    "start_time": "2022-01-23T18:09:04.347Z"
   },
   {
    "duration": 5,
    "start_time": "2022-01-23T18:09:04.353Z"
   },
   {
    "duration": 5,
    "start_time": "2022-01-23T18:09:04.360Z"
   },
   {
    "duration": 7,
    "start_time": "2022-01-23T18:09:04.366Z"
   },
   {
    "duration": 6,
    "start_time": "2022-01-23T18:09:04.375Z"
   },
   {
    "duration": 220,
    "start_time": "2022-01-23T18:09:04.382Z"
   },
   {
    "duration": 11,
    "start_time": "2022-01-23T18:09:04.604Z"
   },
   {
    "duration": 16,
    "start_time": "2022-01-23T18:09:04.616Z"
   },
   {
    "duration": 9149,
    "start_time": "2022-01-23T18:09:04.634Z"
   },
   {
    "duration": 103,
    "start_time": "2022-01-23T18:36:29.426Z"
   },
   {
    "duration": 116,
    "start_time": "2022-01-23T18:36:33.441Z"
   },
   {
    "duration": 5,
    "start_time": "2022-01-23T18:36:35.666Z"
   },
   {
    "duration": 888,
    "start_time": "2022-01-23T18:37:02.568Z"
   },
   {
    "duration": 510,
    "start_time": "2022-01-23T18:37:03.458Z"
   },
   {
    "duration": 23,
    "start_time": "2022-01-23T18:37:03.970Z"
   },
   {
    "duration": 4,
    "start_time": "2022-01-23T18:37:03.995Z"
   },
   {
    "duration": 18,
    "start_time": "2022-01-23T18:37:04.001Z"
   },
   {
    "duration": 16,
    "start_time": "2022-01-23T18:37:04.021Z"
   },
   {
    "duration": 28,
    "start_time": "2022-01-23T18:37:04.039Z"
   },
   {
    "duration": 39,
    "start_time": "2022-01-23T18:37:04.069Z"
   },
   {
    "duration": 19,
    "start_time": "2022-01-23T18:37:04.110Z"
   },
   {
    "duration": 54,
    "start_time": "2022-01-23T18:37:04.131Z"
   },
   {
    "duration": 23,
    "start_time": "2022-01-23T18:37:04.187Z"
   },
   {
    "duration": 6,
    "start_time": "2022-01-23T18:37:04.212Z"
   },
   {
    "duration": 6,
    "start_time": "2022-01-23T18:37:04.220Z"
   },
   {
    "duration": 9,
    "start_time": "2022-01-23T18:37:04.227Z"
   },
   {
    "duration": 5,
    "start_time": "2022-01-23T18:37:04.237Z"
   },
   {
    "duration": 7,
    "start_time": "2022-01-23T18:37:04.243Z"
   },
   {
    "duration": 6,
    "start_time": "2022-01-23T18:37:04.251Z"
   },
   {
    "duration": 17,
    "start_time": "2022-01-23T18:37:04.259Z"
   },
   {
    "duration": 11,
    "start_time": "2022-01-23T18:37:04.277Z"
   },
   {
    "duration": 38,
    "start_time": "2022-01-23T18:37:04.289Z"
   },
   {
    "duration": 13,
    "start_time": "2022-01-23T18:37:04.329Z"
   },
   {
    "duration": 10,
    "start_time": "2022-01-23T18:37:04.343Z"
   },
   {
    "duration": 785,
    "start_time": "2022-01-23T18:37:04.356Z"
   },
   {
    "duration": 12,
    "start_time": "2022-01-23T18:37:05.143Z"
   },
   {
    "duration": 10,
    "start_time": "2022-01-23T18:37:05.157Z"
   },
   {
    "duration": 261,
    "start_time": "2022-01-23T18:37:05.169Z"
   },
   {
    "duration": 9,
    "start_time": "2022-01-23T18:37:05.431Z"
   },
   {
    "duration": 361,
    "start_time": "2022-01-23T18:37:05.441Z"
   },
   {
    "duration": 5,
    "start_time": "2022-01-23T18:37:05.804Z"
   },
   {
    "duration": 245,
    "start_time": "2022-01-23T18:37:05.811Z"
   },
   {
    "duration": 4,
    "start_time": "2022-01-23T18:37:06.058Z"
   },
   {
    "duration": 9,
    "start_time": "2022-01-23T18:37:06.063Z"
   },
   {
    "duration": 14,
    "start_time": "2022-01-23T18:37:06.073Z"
   },
   {
    "duration": 359,
    "start_time": "2022-01-23T18:37:06.089Z"
   },
   {
    "duration": 10,
    "start_time": "2022-01-23T18:37:06.449Z"
   },
   {
    "duration": 5,
    "start_time": "2022-01-23T18:37:06.460Z"
   },
   {
    "duration": 340,
    "start_time": "2022-01-23T18:37:06.467Z"
   },
   {
    "duration": 3,
    "start_time": "2022-01-23T18:37:06.809Z"
   },
   {
    "duration": 6,
    "start_time": "2022-01-23T18:37:06.814Z"
   },
   {
    "duration": 6,
    "start_time": "2022-01-23T18:37:06.821Z"
   },
   {
    "duration": 5,
    "start_time": "2022-01-23T18:37:06.828Z"
   },
   {
    "duration": 4,
    "start_time": "2022-01-23T18:37:06.834Z"
   },
   {
    "duration": 8,
    "start_time": "2022-01-23T18:37:06.839Z"
   },
   {
    "duration": 4,
    "start_time": "2022-01-23T18:37:06.848Z"
   },
   {
    "duration": 190,
    "start_time": "2022-01-23T18:37:06.854Z"
   },
   {
    "duration": 11,
    "start_time": "2022-01-23T18:37:07.046Z"
   },
   {
    "duration": 5,
    "start_time": "2022-01-23T18:37:07.058Z"
   },
   {
    "duration": 378,
    "start_time": "2022-01-23T19:04:13.869Z"
   },
   {
    "duration": 99,
    "start_time": "2022-01-23T19:04:33.834Z"
   },
   {
    "duration": 215,
    "start_time": "2022-01-23T19:04:36.657Z"
   },
   {
    "duration": 4,
    "start_time": "2022-01-23T19:07:37.033Z"
   },
   {
    "duration": 4,
    "start_time": "2022-01-23T19:07:55.330Z"
   },
   {
    "duration": 8,
    "start_time": "2022-01-23T19:11:51.492Z"
   },
   {
    "duration": 6,
    "start_time": "2022-01-23T19:13:18.488Z"
   },
   {
    "duration": 7,
    "start_time": "2022-01-23T19:13:36.240Z"
   },
   {
    "duration": 8,
    "start_time": "2022-01-23T19:14:42.202Z"
   },
   {
    "duration": 10,
    "start_time": "2022-01-23T19:15:07.231Z"
   },
   {
    "duration": 356,
    "start_time": "2022-01-23T19:17:21.717Z"
   },
   {
    "duration": 217,
    "start_time": "2022-01-23T19:19:02.246Z"
   },
   {
    "duration": 350,
    "start_time": "2022-01-23T19:20:21.515Z"
   },
   {
    "duration": 214,
    "start_time": "2022-01-23T19:20:29.034Z"
   },
   {
    "duration": 7,
    "start_time": "2022-01-23T19:21:41.413Z"
   },
   {
    "duration": 207,
    "start_time": "2022-01-23T19:21:49.374Z"
   },
   {
    "duration": 6,
    "start_time": "2022-01-23T19:22:07.444Z"
   },
   {
    "duration": 15,
    "start_time": "2022-01-23T19:23:14.262Z"
   },
   {
    "duration": 6,
    "start_time": "2022-01-23T19:24:29.854Z"
   },
   {
    "duration": 6,
    "start_time": "2022-01-23T19:24:49.832Z"
   },
   {
    "duration": 6,
    "start_time": "2022-01-23T19:25:12.332Z"
   },
   {
    "duration": 6,
    "start_time": "2022-01-23T19:25:16.452Z"
   },
   {
    "duration": 7,
    "start_time": "2022-01-23T19:25:51.263Z"
   },
   {
    "duration": 5,
    "start_time": "2022-01-23T19:26:10.633Z"
   },
   {
    "duration": 7,
    "start_time": "2022-01-23T19:26:27.010Z"
   },
   {
    "duration": 4,
    "start_time": "2022-01-23T19:28:06.041Z"
   },
   {
    "duration": 4,
    "start_time": "2022-01-23T19:29:08.994Z"
   },
   {
    "duration": 367,
    "start_time": "2022-01-23T20:00:46.592Z"
   },
   {
    "duration": 1617,
    "start_time": "2022-01-23T20:04:36.282Z"
   },
   {
    "duration": 210,
    "start_time": "2022-01-23T20:05:42.081Z"
   },
   {
    "duration": 342,
    "start_time": "2022-01-23T20:06:04.140Z"
   },
   {
    "duration": 609,
    "start_time": "2022-01-23T20:06:38.332Z"
   },
   {
    "duration": 213,
    "start_time": "2022-01-23T20:08:03.291Z"
   },
   {
    "duration": 366,
    "start_time": "2022-01-23T20:08:15.141Z"
   },
   {
    "duration": 214,
    "start_time": "2022-01-23T20:08:21.858Z"
   },
   {
    "duration": 256,
    "start_time": "2022-01-23T20:08:33.910Z"
   },
   {
    "duration": 367,
    "start_time": "2022-01-23T20:08:46.930Z"
   },
   {
    "duration": 212,
    "start_time": "2022-01-23T20:14:44.830Z"
   },
   {
    "duration": 404,
    "start_time": "2022-01-23T20:15:13.631Z"
   },
   {
    "duration": 352,
    "start_time": "2022-01-23T20:15:17.920Z"
   },
   {
    "duration": 4,
    "start_time": "2022-01-23T22:06:50.113Z"
   },
   {
    "duration": 6,
    "start_time": "2022-01-23T22:09:48.223Z"
   },
   {
    "duration": 9,
    "start_time": "2022-01-23T22:10:20.261Z"
   },
   {
    "duration": 6,
    "start_time": "2022-01-23T22:10:34.129Z"
   },
   {
    "duration": 146,
    "start_time": "2022-01-23T22:10:56.330Z"
   },
   {
    "duration": 9,
    "start_time": "2022-01-23T22:11:13.039Z"
   },
   {
    "duration": 4,
    "start_time": "2022-01-23T22:11:49.982Z"
   },
   {
    "duration": 7,
    "start_time": "2022-01-23T22:12:01.712Z"
   },
   {
    "duration": 4,
    "start_time": "2022-01-23T22:12:35.111Z"
   },
   {
    "duration": 5,
    "start_time": "2022-01-23T22:12:54.369Z"
   },
   {
    "duration": 9277,
    "start_time": "2022-01-23T22:13:05.821Z"
   },
   {
    "duration": 4,
    "start_time": "2022-01-23T22:13:18.923Z"
   },
   {
    "duration": 14,
    "start_time": "2022-01-23T22:14:10.841Z"
   },
   {
    "duration": 7,
    "start_time": "2022-01-23T22:23:40.305Z"
   },
   {
    "duration": 394,
    "start_time": "2022-01-23T22:27:10.995Z"
   },
   {
    "duration": 5,
    "start_time": "2022-01-23T22:27:37.034Z"
   },
   {
    "duration": 7,
    "start_time": "2022-01-23T22:27:39.655Z"
   },
   {
    "duration": 7,
    "start_time": "2022-01-23T22:27:49.316Z"
   },
   {
    "duration": 6,
    "start_time": "2022-01-23T22:30:48.146Z"
   },
   {
    "duration": 102,
    "start_time": "2022-01-23T22:32:15.767Z"
   },
   {
    "duration": 115,
    "start_time": "2022-01-23T22:32:21.057Z"
   },
   {
    "duration": 110,
    "start_time": "2022-01-23T22:32:45.558Z"
   },
   {
    "duration": 359,
    "start_time": "2022-01-23T22:36:21.837Z"
   },
   {
    "duration": 7,
    "start_time": "2022-01-23T22:36:36.406Z"
   },
   {
    "duration": 3,
    "start_time": "2022-01-23T22:37:13.447Z"
   },
   {
    "duration": 18,
    "start_time": "2022-01-23T22:39:25.344Z"
   },
   {
    "duration": 14,
    "start_time": "2022-01-23T22:48:31.448Z"
   },
   {
    "duration": 5,
    "start_time": "2022-01-23T22:50:03.307Z"
   },
   {
    "duration": 9,
    "start_time": "2022-01-23T22:51:41.167Z"
   },
   {
    "duration": 9,
    "start_time": "2022-01-23T22:54:34.355Z"
   },
   {
    "duration": 339,
    "start_time": "2022-01-23T22:55:06.724Z"
   },
   {
    "duration": 5,
    "start_time": "2022-01-23T22:55:20.907Z"
   },
   {
    "duration": 10,
    "start_time": "2022-01-23T22:56:11.837Z"
   },
   {
    "duration": 11,
    "start_time": "2022-01-23T22:56:38.127Z"
   },
   {
    "duration": 11,
    "start_time": "2022-01-23T22:57:15.686Z"
   },
   {
    "duration": 5,
    "start_time": "2022-01-23T22:57:28.176Z"
   },
   {
    "duration": 8,
    "start_time": "2022-01-23T22:57:33.228Z"
   },
   {
    "duration": 5,
    "start_time": "2022-01-23T22:58:15.536Z"
   },
   {
    "duration": 7,
    "start_time": "2022-01-23T22:58:46.786Z"
   },
   {
    "duration": 9,
    "start_time": "2022-01-23T23:02:04.487Z"
   },
   {
    "duration": 368,
    "start_time": "2022-01-23T23:03:29.655Z"
   },
   {
    "duration": 8,
    "start_time": "2022-01-23T23:03:57.118Z"
   },
   {
    "duration": 349,
    "start_time": "2022-01-23T23:04:31.667Z"
   },
   {
    "duration": 399,
    "start_time": "2022-01-23T23:04:41.076Z"
   },
   {
    "duration": 396,
    "start_time": "2022-01-23T23:04:48.731Z"
   },
   {
    "duration": 12,
    "start_time": "2022-01-23T23:04:54.326Z"
   },
   {
    "duration": 12,
    "start_time": "2022-01-23T23:05:00.167Z"
   },
   {
    "duration": 11,
    "start_time": "2022-01-23T23:05:08.597Z"
   },
   {
    "duration": 12,
    "start_time": "2022-01-23T23:05:14.166Z"
   },
   {
    "duration": 2294,
    "start_time": "2022-01-23T23:05:27.754Z"
   },
   {
    "duration": 2272,
    "start_time": "2022-01-23T23:05:39.926Z"
   },
   {
    "duration": 12,
    "start_time": "2022-01-23T23:05:43.307Z"
   },
   {
    "duration": 342,
    "start_time": "2022-01-23T23:06:50.837Z"
   },
   {
    "duration": 10,
    "start_time": "2022-01-23T23:07:10.676Z"
   },
   {
    "duration": 15,
    "start_time": "2022-01-23T23:07:50.007Z"
   },
   {
    "duration": 7,
    "start_time": "2022-01-23T23:08:17.677Z"
   },
   {
    "duration": 16,
    "start_time": "2022-01-23T23:09:23.277Z"
   },
   {
    "duration": 11,
    "start_time": "2022-01-23T23:09:30.587Z"
   },
   {
    "duration": 8,
    "start_time": "2022-01-23T23:10:03.627Z"
   },
   {
    "duration": 18,
    "start_time": "2022-01-23T23:10:10.867Z"
   },
   {
    "duration": 4,
    "start_time": "2022-01-23T23:11:20.807Z"
   },
   {
    "duration": 9,
    "start_time": "2022-01-23T23:11:24.938Z"
   },
   {
    "duration": 5,
    "start_time": "2022-01-23T23:12:28.988Z"
   },
   {
    "duration": 9,
    "start_time": "2022-01-23T23:12:30.857Z"
   },
   {
    "duration": 696,
    "start_time": "2022-01-23T23:15:00.589Z"
   },
   {
    "duration": 713,
    "start_time": "2022-01-23T23:15:47.786Z"
   },
   {
    "duration": 730,
    "start_time": "2022-01-23T23:17:15.577Z"
   },
   {
    "duration": 896,
    "start_time": "2022-01-24T09:38:56.549Z"
   },
   {
    "duration": 539,
    "start_time": "2022-01-24T09:38:57.447Z"
   },
   {
    "duration": 26,
    "start_time": "2022-01-24T09:38:57.988Z"
   },
   {
    "duration": 6,
    "start_time": "2022-01-24T09:38:58.016Z"
   },
   {
    "duration": 11,
    "start_time": "2022-01-24T09:38:58.024Z"
   },
   {
    "duration": 6,
    "start_time": "2022-01-24T09:38:58.036Z"
   },
   {
    "duration": 13,
    "start_time": "2022-01-24T09:38:58.043Z"
   },
   {
    "duration": 28,
    "start_time": "2022-01-24T09:38:58.058Z"
   },
   {
    "duration": 23,
    "start_time": "2022-01-24T09:38:58.098Z"
   },
   {
    "duration": 57,
    "start_time": "2022-01-24T09:38:58.123Z"
   },
   {
    "duration": 26,
    "start_time": "2022-01-24T09:38:58.181Z"
   },
   {
    "duration": 9,
    "start_time": "2022-01-24T09:38:58.209Z"
   },
   {
    "duration": 6,
    "start_time": "2022-01-24T09:38:58.220Z"
   },
   {
    "duration": 10,
    "start_time": "2022-01-24T09:38:58.228Z"
   },
   {
    "duration": 5,
    "start_time": "2022-01-24T09:38:58.240Z"
   },
   {
    "duration": 8,
    "start_time": "2022-01-24T09:38:58.247Z"
   },
   {
    "duration": 43,
    "start_time": "2022-01-24T09:38:58.257Z"
   },
   {
    "duration": 27,
    "start_time": "2022-01-24T09:38:58.302Z"
   },
   {
    "duration": 12,
    "start_time": "2022-01-24T09:38:58.331Z"
   },
   {
    "duration": 9,
    "start_time": "2022-01-24T09:38:58.345Z"
   },
   {
    "duration": 43,
    "start_time": "2022-01-24T09:38:58.356Z"
   },
   {
    "duration": 20,
    "start_time": "2022-01-24T09:38:58.402Z"
   },
   {
    "duration": 895,
    "start_time": "2022-01-24T09:38:58.428Z"
   },
   {
    "duration": 17,
    "start_time": "2022-01-24T09:38:59.325Z"
   },
   {
    "duration": 61,
    "start_time": "2022-01-24T09:38:59.344Z"
   },
   {
    "duration": 394,
    "start_time": "2022-01-24T09:38:59.407Z"
   },
   {
    "duration": 10,
    "start_time": "2022-01-24T09:38:59.803Z"
   },
   {
    "duration": 471,
    "start_time": "2022-01-24T09:38:59.815Z"
   },
   {
    "duration": 14,
    "start_time": "2022-01-24T09:39:00.288Z"
   },
   {
    "duration": 320,
    "start_time": "2022-01-24T09:39:00.304Z"
   },
   {
    "duration": 4,
    "start_time": "2022-01-24T09:39:00.626Z"
   },
   {
    "duration": 33,
    "start_time": "2022-01-24T09:39:00.632Z"
   },
   {
    "duration": 20,
    "start_time": "2022-01-24T09:39:00.667Z"
   },
   {
    "duration": 507,
    "start_time": "2022-01-24T09:39:00.690Z"
   },
   {
    "duration": 320,
    "start_time": "2022-01-24T09:39:01.200Z"
   },
   {
    "duration": 12,
    "start_time": "2022-01-24T09:39:01.522Z"
   },
   {
    "duration": 29,
    "start_time": "2022-01-24T09:39:01.535Z"
   },
   {
    "duration": 16,
    "start_time": "2022-01-24T09:39:01.565Z"
   },
   {
    "duration": 292,
    "start_time": "2022-01-24T09:39:01.583Z"
   },
   {
    "duration": 536,
    "start_time": "2022-01-24T09:39:01.877Z"
   },
   {
    "duration": 5,
    "start_time": "2022-01-24T09:39:02.422Z"
   },
   {
    "duration": 165,
    "start_time": "2022-01-24T09:39:02.429Z"
   },
   {
    "duration": 32,
    "start_time": "2022-01-24T09:39:02.597Z"
   },
   {
    "duration": 8,
    "start_time": "2022-01-24T09:39:02.631Z"
   },
   {
    "duration": 22,
    "start_time": "2022-01-24T09:39:02.641Z"
   },
   {
    "duration": 9,
    "start_time": "2022-01-24T09:39:02.665Z"
   },
   {
    "duration": 15,
    "start_time": "2022-01-24T09:39:02.675Z"
   },
   {
    "duration": 14,
    "start_time": "2022-01-24T09:39:02.692Z"
   },
   {
    "duration": 22,
    "start_time": "2022-01-24T09:39:02.708Z"
   },
   {
    "duration": 8,
    "start_time": "2022-01-24T09:39:02.732Z"
   },
   {
    "duration": 8,
    "start_time": "2022-01-24T09:39:02.742Z"
   },
   {
    "duration": 12,
    "start_time": "2022-01-24T09:39:02.752Z"
   },
   {
    "duration": 26,
    "start_time": "2022-01-24T09:39:02.766Z"
   },
   {
    "duration": 5,
    "start_time": "2022-01-24T09:39:02.798Z"
   },
   {
    "duration": 11,
    "start_time": "2022-01-24T09:39:02.805Z"
   },
   {
    "duration": 24,
    "start_time": "2022-01-24T09:39:02.817Z"
   },
   {
    "duration": 579,
    "start_time": "2022-01-24T09:39:02.843Z"
   },
   {
    "duration": 199,
    "start_time": "2022-01-24T09:44:22.200Z"
   },
   {
    "duration": 363,
    "start_time": "2022-01-24T09:44:39.290Z"
   },
   {
    "duration": 9,
    "start_time": "2022-01-24T09:44:43.889Z"
   },
   {
    "duration": 5,
    "start_time": "2022-01-24T09:46:21.069Z"
   },
   {
    "duration": 7,
    "start_time": "2022-01-24T09:47:31.869Z"
   },
   {
    "duration": 13,
    "start_time": "2022-01-24T09:47:49.329Z"
   },
   {
    "duration": 6,
    "start_time": "2022-01-24T09:48:07.556Z"
   },
   {
    "duration": 7,
    "start_time": "2022-01-24T09:49:02.488Z"
   },
   {
    "duration": 6,
    "start_time": "2022-01-24T09:49:39.908Z"
   },
   {
    "duration": 7,
    "start_time": "2022-01-24T09:51:12.529Z"
   },
   {
    "duration": 7,
    "start_time": "2022-01-24T09:51:19.488Z"
   },
   {
    "duration": 62,
    "start_time": "2022-01-24T09:51:37.159Z"
   },
   {
    "duration": 6,
    "start_time": "2022-01-24T09:51:44.807Z"
   },
   {
    "duration": 10,
    "start_time": "2022-01-24T09:55:49.379Z"
   },
   {
    "duration": 13,
    "start_time": "2022-01-24T10:01:59.009Z"
   },
   {
    "duration": 11,
    "start_time": "2022-01-24T10:16:15.390Z"
   },
   {
    "duration": 246,
    "start_time": "2022-01-24T10:16:44.340Z"
   },
   {
    "duration": 8,
    "start_time": "2022-01-24T10:17:02.751Z"
   },
   {
    "duration": 194,
    "start_time": "2022-01-24T10:17:12.989Z"
   },
   {
    "duration": 8,
    "start_time": "2022-01-24T10:17:22.950Z"
   },
   {
    "duration": 4,
    "start_time": "2022-01-24T10:26:37.661Z"
   },
   {
    "duration": 5,
    "start_time": "2022-01-24T10:26:46.620Z"
   },
   {
    "duration": 4,
    "start_time": "2022-01-24T10:27:23.210Z"
   },
   {
    "duration": 5,
    "start_time": "2022-01-24T10:27:35.860Z"
   },
   {
    "duration": 7,
    "start_time": "2022-01-24T10:51:48.287Z"
   },
   {
    "duration": 10,
    "start_time": "2022-01-24T10:57:38.348Z"
   },
   {
    "duration": 8,
    "start_time": "2022-01-24T10:57:39.818Z"
   },
   {
    "duration": 8,
    "start_time": "2022-01-24T10:58:42.065Z"
   },
   {
    "duration": 8,
    "start_time": "2022-01-24T10:59:00.037Z"
   },
   {
    "duration": 7,
    "start_time": "2022-01-24T11:00:30.197Z"
   },
   {
    "duration": 288,
    "start_time": "2022-01-24T11:27:43.725Z"
   },
   {
    "duration": 1258,
    "start_time": "2022-01-24T11:28:01.164Z"
   },
   {
    "duration": 802,
    "start_time": "2022-01-24T11:28:02.424Z"
   },
   {
    "duration": 54,
    "start_time": "2022-01-24T11:28:03.229Z"
   },
   {
    "duration": 11,
    "start_time": "2022-01-24T11:28:03.287Z"
   },
   {
    "duration": 17,
    "start_time": "2022-01-24T11:28:03.300Z"
   },
   {
    "duration": 12,
    "start_time": "2022-01-24T11:28:03.320Z"
   },
   {
    "duration": 17,
    "start_time": "2022-01-24T11:28:03.334Z"
   },
   {
    "duration": 51,
    "start_time": "2022-01-24T11:28:03.354Z"
   },
   {
    "duration": 41,
    "start_time": "2022-01-24T11:28:03.409Z"
   },
   {
    "duration": 90,
    "start_time": "2022-01-24T11:28:03.454Z"
   },
   {
    "duration": 39,
    "start_time": "2022-01-24T11:28:03.547Z"
   },
   {
    "duration": 11,
    "start_time": "2022-01-24T11:28:03.588Z"
   },
   {
    "duration": 8,
    "start_time": "2022-01-24T11:28:03.632Z"
   },
   {
    "duration": 12,
    "start_time": "2022-01-24T11:28:03.642Z"
   },
   {
    "duration": 10,
    "start_time": "2022-01-24T11:28:03.657Z"
   },
   {
    "duration": 10,
    "start_time": "2022-01-24T11:28:03.669Z"
   },
   {
    "duration": 14,
    "start_time": "2022-01-24T11:28:03.733Z"
   },
   {
    "duration": 39,
    "start_time": "2022-01-24T11:28:03.751Z"
   },
   {
    "duration": 51,
    "start_time": "2022-01-24T11:28:03.793Z"
   },
   {
    "duration": 11,
    "start_time": "2022-01-24T11:28:03.847Z"
   },
   {
    "duration": 24,
    "start_time": "2022-01-24T11:28:03.861Z"
   },
   {
    "duration": 59,
    "start_time": "2022-01-24T11:28:03.888Z"
   },
   {
    "duration": 1533,
    "start_time": "2022-01-24T11:28:03.950Z"
   },
   {
    "duration": 61,
    "start_time": "2022-01-24T11:28:05.486Z"
   },
   {
    "duration": 84,
    "start_time": "2022-01-24T11:28:05.550Z"
   },
   {
    "duration": 676,
    "start_time": "2022-01-24T11:28:05.637Z"
   },
   {
    "duration": 25,
    "start_time": "2022-01-24T11:28:06.321Z"
   },
   {
    "duration": 521,
    "start_time": "2022-01-24T11:28:06.348Z"
   },
   {
    "duration": 10,
    "start_time": "2022-01-24T11:28:06.872Z"
   },
   {
    "duration": 434,
    "start_time": "2022-01-24T11:28:06.885Z"
   },
   {
    "duration": 12,
    "start_time": "2022-01-24T11:28:07.321Z"
   },
   {
    "duration": 17,
    "start_time": "2022-01-24T11:28:07.335Z"
   },
   {
    "duration": 13,
    "start_time": "2022-01-24T11:28:07.354Z"
   },
   {
    "duration": 523,
    "start_time": "2022-01-24T11:28:07.369Z"
   },
   {
    "duration": 429,
    "start_time": "2022-01-24T11:28:07.894Z"
   },
   {
    "duration": 14,
    "start_time": "2022-01-24T11:28:08.333Z"
   },
   {
    "duration": 12,
    "start_time": "2022-01-24T11:28:08.349Z"
   },
   {
    "duration": 7,
    "start_time": "2022-01-24T11:28:08.364Z"
   },
   {
    "duration": 408,
    "start_time": "2022-01-24T11:28:08.374Z"
   },
   {
    "duration": 546,
    "start_time": "2022-01-24T11:28:08.784Z"
   },
   {
    "duration": 6,
    "start_time": "2022-01-24T11:28:09.332Z"
   },
   {
    "duration": 16,
    "start_time": "2022-01-24T11:28:09.341Z"
   },
   {
    "duration": 11,
    "start_time": "2022-01-24T11:28:09.360Z"
   },
   {
    "duration": 11,
    "start_time": "2022-01-24T11:28:09.374Z"
   },
   {
    "duration": 57,
    "start_time": "2022-01-24T11:28:09.388Z"
   },
   {
    "duration": 18,
    "start_time": "2022-01-24T11:33:04.322Z"
   },
   {
    "duration": 553,
    "start_time": "2022-01-24T11:36:30.934Z"
   },
   {
    "duration": 8,
    "start_time": "2022-01-24T11:36:46.711Z"
   },
   {
    "duration": 259,
    "start_time": "2022-01-24T11:41:21.164Z"
   },
   {
    "duration": 250,
    "start_time": "2022-01-24T11:41:37.535Z"
   },
   {
    "duration": 6719,
    "start_time": "2022-01-24T11:41:44.804Z"
   },
   {
    "duration": 10255,
    "start_time": "2022-01-24T11:42:49.296Z"
   },
   {
    "duration": 7978,
    "start_time": "2022-01-24T11:43:05.994Z"
   },
   {
    "duration": 12,
    "start_time": "2022-01-24T11:43:21.794Z"
   },
   {
    "duration": 336,
    "start_time": "2022-01-24T11:43:26.822Z"
   },
   {
    "duration": 7280,
    "start_time": "2022-01-24T11:43:38.983Z"
   },
   {
    "duration": 12,
    "start_time": "2022-01-24T11:43:51.813Z"
   },
   {
    "duration": 20,
    "start_time": "2022-01-24T11:44:16.015Z"
   },
   {
    "duration": 17,
    "start_time": "2022-01-24T11:45:45.754Z"
   },
   {
    "duration": 6,
    "start_time": "2022-01-24T11:47:36.425Z"
   },
   {
    "duration": 8,
    "start_time": "2022-01-24T11:47:58.364Z"
   },
   {
    "duration": 15,
    "start_time": "2022-01-24T11:50:40.715Z"
   },
   {
    "duration": 13,
    "start_time": "2022-01-24T11:50:45.025Z"
   },
   {
    "duration": 11,
    "start_time": "2022-01-24T11:50:47.505Z"
   },
   {
    "duration": 15,
    "start_time": "2022-01-24T11:50:51.095Z"
   },
   {
    "duration": 15,
    "start_time": "2022-01-24T11:50:53.582Z"
   },
   {
    "duration": 9,
    "start_time": "2022-01-24T11:50:55.684Z"
   },
   {
    "duration": 257,
    "start_time": "2022-01-24T11:51:03.874Z"
   },
   {
    "duration": 6986,
    "start_time": "2022-01-24T11:51:47.915Z"
   },
   {
    "duration": 266,
    "start_time": "2022-01-24T11:53:08.472Z"
   },
   {
    "duration": 15,
    "start_time": "2022-01-24T11:55:23.145Z"
   },
   {
    "duration": 6509,
    "start_time": "2022-01-24T11:55:38.856Z"
   },
   {
    "duration": 13,
    "start_time": "2022-01-24T11:56:47.404Z"
   },
   {
    "duration": 5,
    "start_time": "2022-01-24T11:57:15.863Z"
   },
   {
    "duration": 16,
    "start_time": "2022-01-24T11:57:27.105Z"
   },
   {
    "duration": 6,
    "start_time": "2022-01-24T11:57:28.795Z"
   },
   {
    "duration": 12,
    "start_time": "2022-01-24T11:57:31.345Z"
   },
   {
    "duration": 9,
    "start_time": "2022-01-24T11:57:34.225Z"
   },
   {
    "duration": 14,
    "start_time": "2022-01-24T11:57:37.303Z"
   },
   {
    "duration": 15,
    "start_time": "2022-01-24T11:57:39.764Z"
   },
   {
    "duration": 267,
    "start_time": "2022-01-24T11:57:46.875Z"
   },
   {
    "duration": 252,
    "start_time": "2022-01-24T11:58:02.855Z"
   },
   {
    "duration": 15,
    "start_time": "2022-01-24T11:58:18.172Z"
   },
   {
    "duration": 10,
    "start_time": "2022-01-24T11:58:52.164Z"
   },
   {
    "duration": 9,
    "start_time": "2022-01-24T11:59:34.702Z"
   },
   {
    "duration": 21,
    "start_time": "2022-01-24T12:02:18.061Z"
   },
   {
    "duration": 22,
    "start_time": "2022-01-24T12:02:31.561Z"
   },
   {
    "duration": 20,
    "start_time": "2022-01-24T12:03:41.266Z"
   },
   {
    "duration": 16,
    "start_time": "2022-01-24T12:03:50.017Z"
   },
   {
    "duration": 76,
    "start_time": "2022-01-24T12:40:51.914Z"
   },
   {
    "duration": 4,
    "start_time": "2022-01-24T12:58:39.013Z"
   },
   {
    "duration": 2,
    "start_time": "2022-01-24T12:59:09.278Z"
   },
   {
    "duration": 994,
    "start_time": "2022-01-24T13:00:05.408Z"
   },
   {
    "duration": 32599,
    "start_time": "2022-01-24T13:00:06.404Z"
   },
   {
    "duration": 27,
    "start_time": "2022-01-24T13:00:39.005Z"
   },
   {
    "duration": 7,
    "start_time": "2022-01-24T13:00:39.034Z"
   },
   {
    "duration": 13,
    "start_time": "2022-01-24T13:00:39.042Z"
   },
   {
    "duration": 5,
    "start_time": "2022-01-24T13:00:39.056Z"
   },
   {
    "duration": 13,
    "start_time": "2022-01-24T13:00:39.062Z"
   },
   {
    "duration": 29,
    "start_time": "2022-01-24T13:00:39.077Z"
   },
   {
    "duration": 24,
    "start_time": "2022-01-24T13:00:39.109Z"
   },
   {
    "duration": 61,
    "start_time": "2022-01-24T13:00:39.134Z"
   },
   {
    "duration": 34,
    "start_time": "2022-01-24T13:00:39.197Z"
   },
   {
    "duration": 8,
    "start_time": "2022-01-24T13:00:39.233Z"
   },
   {
    "duration": 12,
    "start_time": "2022-01-24T13:00:39.242Z"
   },
   {
    "duration": 7,
    "start_time": "2022-01-24T13:00:39.260Z"
   },
   {
    "duration": 5,
    "start_time": "2022-01-24T13:00:39.269Z"
   },
   {
    "duration": 14,
    "start_time": "2022-01-24T13:00:39.276Z"
   },
   {
    "duration": 3,
    "start_time": "2022-01-24T13:00:39.292Z"
   },
   {
    "duration": 17,
    "start_time": "2022-01-24T13:00:39.296Z"
   },
   {
    "duration": 21,
    "start_time": "2022-01-24T13:00:39.315Z"
   },
   {
    "duration": 12,
    "start_time": "2022-01-24T13:00:39.338Z"
   },
   {
    "duration": 9,
    "start_time": "2022-01-24T13:00:39.352Z"
   },
   {
    "duration": 26,
    "start_time": "2022-01-24T13:00:39.362Z"
   },
   {
    "duration": 50,
    "start_time": "2022-01-24T13:00:39.392Z"
   },
   {
    "duration": 902,
    "start_time": "2022-01-24T13:00:39.444Z"
   },
   {
    "duration": 25,
    "start_time": "2022-01-24T13:00:40.347Z"
   },
   {
    "duration": 13,
    "start_time": "2022-01-24T13:00:40.374Z"
   },
   {
    "duration": 501,
    "start_time": "2022-01-24T13:00:40.389Z"
   },
   {
    "duration": 10,
    "start_time": "2022-01-24T13:00:40.892Z"
   },
   {
    "duration": 434,
    "start_time": "2022-01-24T13:00:40.903Z"
   },
   {
    "duration": 3,
    "start_time": "2022-01-24T13:00:41.338Z"
   },
   {
    "duration": 16,
    "start_time": "2022-01-24T13:00:41.342Z"
   },
   {
    "duration": 20,
    "start_time": "2022-01-24T13:00:41.360Z"
   },
   {
    "duration": 291,
    "start_time": "2022-01-24T13:00:41.382Z"
   },
   {
    "duration": 3,
    "start_time": "2022-01-24T13:00:41.675Z"
   },
   {
    "duration": 8,
    "start_time": "2022-01-24T13:00:41.680Z"
   },
   {
    "duration": 10,
    "start_time": "2022-01-24T13:00:41.690Z"
   },
   {
    "duration": 441,
    "start_time": "2022-01-24T13:00:41.702Z"
   },
   {
    "duration": 254,
    "start_time": "2022-01-24T13:00:42.145Z"
   },
   {
    "duration": 11,
    "start_time": "2022-01-24T13:00:42.401Z"
   },
   {
    "duration": 45,
    "start_time": "2022-01-24T13:00:42.414Z"
   },
   {
    "duration": 8,
    "start_time": "2022-01-24T13:00:42.461Z"
   },
   {
    "duration": 251,
    "start_time": "2022-01-24T13:00:42.471Z"
   },
   {
    "duration": 415,
    "start_time": "2022-01-24T13:00:42.724Z"
   },
   {
    "duration": 5,
    "start_time": "2022-01-24T13:00:43.141Z"
   },
   {
    "duration": 15,
    "start_time": "2022-01-24T13:00:43.147Z"
   },
   {
    "duration": 5,
    "start_time": "2022-01-24T13:00:43.164Z"
   },
   {
    "duration": 9,
    "start_time": "2022-01-24T13:00:43.171Z"
   },
   {
    "duration": 10,
    "start_time": "2022-01-24T13:00:43.182Z"
   },
   {
    "duration": 11,
    "start_time": "2022-01-24T13:00:43.194Z"
   },
   {
    "duration": 13,
    "start_time": "2022-01-24T13:00:43.206Z"
   },
   {
    "duration": 46,
    "start_time": "2022-01-24T13:00:43.221Z"
   },
   {
    "duration": 8,
    "start_time": "2022-01-24T13:00:43.269Z"
   },
   {
    "duration": 13,
    "start_time": "2022-01-24T13:00:43.279Z"
   },
   {
    "duration": 468,
    "start_time": "2022-01-24T17:30:51.613Z"
   },
   {
    "duration": 1237,
    "start_time": "2022-01-24T17:31:02.055Z"
   },
   {
    "duration": 779,
    "start_time": "2022-01-24T17:31:03.294Z"
   },
   {
    "duration": 33,
    "start_time": "2022-01-24T17:31:04.076Z"
   },
   {
    "duration": 13,
    "start_time": "2022-01-24T17:31:04.112Z"
   },
   {
    "duration": 13,
    "start_time": "2022-01-24T17:31:04.127Z"
   },
   {
    "duration": 17,
    "start_time": "2022-01-24T17:31:04.142Z"
   },
   {
    "duration": 13,
    "start_time": "2022-01-24T17:31:04.162Z"
   },
   {
    "duration": 35,
    "start_time": "2022-01-24T17:31:04.179Z"
   },
   {
    "duration": 58,
    "start_time": "2022-01-24T17:31:04.217Z"
   },
   {
    "duration": 113,
    "start_time": "2022-01-24T17:31:04.277Z"
   },
   {
    "duration": 40,
    "start_time": "2022-01-24T17:31:04.392Z"
   },
   {
    "duration": 26,
    "start_time": "2022-01-24T17:31:04.435Z"
   },
   {
    "duration": 8,
    "start_time": "2022-01-24T17:31:04.463Z"
   },
   {
    "duration": 11,
    "start_time": "2022-01-24T17:31:04.473Z"
   },
   {
    "duration": 7,
    "start_time": "2022-01-24T17:31:04.487Z"
   },
   {
    "duration": 8,
    "start_time": "2022-01-24T17:31:04.497Z"
   },
   {
    "duration": 52,
    "start_time": "2022-01-24T17:31:04.507Z"
   },
   {
    "duration": 12,
    "start_time": "2022-01-24T17:31:04.562Z"
   },
   {
    "duration": 25,
    "start_time": "2022-01-24T17:31:04.577Z"
   },
   {
    "duration": 60,
    "start_time": "2022-01-24T17:31:04.604Z"
   },
   {
    "duration": 20,
    "start_time": "2022-01-24T17:31:04.667Z"
   },
   {
    "duration": 7,
    "start_time": "2022-01-24T17:31:04.690Z"
   },
   {
    "duration": 18,
    "start_time": "2022-01-24T17:31:04.703Z"
   },
   {
    "duration": 20,
    "start_time": "2022-01-24T17:31:04.760Z"
   },
   {
    "duration": 1233,
    "start_time": "2022-01-24T17:31:04.783Z"
   },
   {
    "duration": 47,
    "start_time": "2022-01-24T17:31:06.018Z"
   },
   {
    "duration": 22,
    "start_time": "2022-01-24T17:31:06.067Z"
   },
   {
    "duration": 550,
    "start_time": "2022-01-24T17:31:06.092Z"
   },
   {
    "duration": 23,
    "start_time": "2022-01-24T17:31:06.645Z"
   },
   {
    "duration": 529,
    "start_time": "2022-01-24T17:31:06.670Z"
   },
   {
    "duration": 3,
    "start_time": "2022-01-24T17:31:07.201Z"
   },
   {
    "duration": 7,
    "start_time": "2022-01-24T17:31:07.207Z"
   },
   {
    "duration": 11,
    "start_time": "2022-01-24T17:31:07.216Z"
   },
   {
    "duration": 543,
    "start_time": "2022-01-24T17:31:07.229Z"
   },
   {
    "duration": 6,
    "start_time": "2022-01-24T17:31:07.775Z"
   },
   {
    "duration": 7,
    "start_time": "2022-01-24T17:31:07.785Z"
   },
   {
    "duration": 12,
    "start_time": "2022-01-24T17:31:07.795Z"
   },
   {
    "duration": 585,
    "start_time": "2022-01-24T17:31:07.810Z"
   },
   {
    "duration": 381,
    "start_time": "2022-01-24T17:31:08.398Z"
   },
   {
    "duration": 16,
    "start_time": "2022-01-24T17:31:08.781Z"
   },
   {
    "duration": 10,
    "start_time": "2022-01-24T17:31:08.800Z"
   },
   {
    "duration": 7,
    "start_time": "2022-01-24T17:31:08.812Z"
   },
   {
    "duration": 414,
    "start_time": "2022-01-24T17:31:08.821Z"
   },
   {
    "duration": 535,
    "start_time": "2022-01-24T17:31:09.238Z"
   },
   {
    "duration": 6,
    "start_time": "2022-01-24T17:31:09.776Z"
   },
   {
    "duration": 19,
    "start_time": "2022-01-24T17:31:09.785Z"
   },
   {
    "duration": 6,
    "start_time": "2022-01-24T17:31:09.806Z"
   },
   {
    "duration": 44,
    "start_time": "2022-01-24T17:31:09.815Z"
   },
   {
    "duration": 12,
    "start_time": "2022-01-24T17:31:09.863Z"
   },
   {
    "duration": 17,
    "start_time": "2022-01-24T17:31:09.878Z"
   },
   {
    "duration": 17,
    "start_time": "2022-01-24T17:31:09.898Z"
   },
   {
    "duration": 16,
    "start_time": "2022-01-24T17:31:09.960Z"
   },
   {
    "duration": 11,
    "start_time": "2022-01-24T17:31:09.978Z"
   },
   {
    "duration": 21,
    "start_time": "2022-01-24T17:31:09.991Z"
   },
   {
    "duration": 29,
    "start_time": "2022-01-24T17:37:28.582Z"
   },
   {
    "duration": 123,
    "start_time": "2022-01-24T17:37:39.526Z"
   },
   {
    "duration": 21,
    "start_time": "2022-01-24T17:37:52.859Z"
   },
   {
    "duration": 618,
    "start_time": "2022-01-24T17:38:57.597Z"
   },
   {
    "duration": 22,
    "start_time": "2022-01-24T17:40:00.927Z"
   },
   {
    "duration": 23,
    "start_time": "2022-01-24T17:43:48.364Z"
   },
   {
    "duration": 1392,
    "start_time": "2022-01-24T17:44:14.806Z"
   },
   {
    "duration": 1191,
    "start_time": "2022-01-24T17:44:16.202Z"
   },
   {
    "duration": 33,
    "start_time": "2022-01-24T17:44:17.396Z"
   },
   {
    "duration": 10,
    "start_time": "2022-01-24T17:44:17.432Z"
   },
   {
    "duration": 13,
    "start_time": "2022-01-24T17:44:17.445Z"
   },
   {
    "duration": 8,
    "start_time": "2022-01-24T17:44:17.461Z"
   },
   {
    "duration": 15,
    "start_time": "2022-01-24T17:44:17.472Z"
   },
   {
    "duration": 35,
    "start_time": "2022-01-24T17:44:17.491Z"
   },
   {
    "duration": 37,
    "start_time": "2022-01-24T17:44:17.561Z"
   },
   {
    "duration": 120,
    "start_time": "2022-01-24T17:44:17.601Z"
   },
   {
    "duration": 44,
    "start_time": "2022-01-24T17:44:17.724Z"
   },
   {
    "duration": 11,
    "start_time": "2022-01-24T17:44:17.770Z"
   },
   {
    "duration": 9,
    "start_time": "2022-01-24T17:44:17.783Z"
   },
   {
    "duration": 11,
    "start_time": "2022-01-24T17:44:17.794Z"
   },
   {
    "duration": 51,
    "start_time": "2022-01-24T17:44:17.808Z"
   },
   {
    "duration": 9,
    "start_time": "2022-01-24T17:44:17.862Z"
   },
   {
    "duration": 5,
    "start_time": "2022-01-24T17:44:17.874Z"
   },
   {
    "duration": 13,
    "start_time": "2022-01-24T17:44:17.882Z"
   },
   {
    "duration": 21,
    "start_time": "2022-01-24T17:44:17.897Z"
   },
   {
    "duration": 29,
    "start_time": "2022-01-24T17:44:17.959Z"
   },
   {
    "duration": 19,
    "start_time": "2022-01-24T17:44:17.991Z"
   },
   {
    "duration": 47,
    "start_time": "2022-01-24T17:44:18.013Z"
   },
   {
    "duration": 17,
    "start_time": "2022-01-24T17:44:18.069Z"
   },
   {
    "duration": 17,
    "start_time": "2022-01-24T17:44:18.090Z"
   },
   {
    "duration": 1173,
    "start_time": "2022-01-24T17:44:18.109Z"
   },
   {
    "duration": 21,
    "start_time": "2022-01-24T17:44:19.284Z"
   },
   {
    "duration": 62,
    "start_time": "2022-01-24T17:44:19.308Z"
   },
   {
    "duration": 565,
    "start_time": "2022-01-24T17:44:19.373Z"
   },
   {
    "duration": 28,
    "start_time": "2022-01-24T17:44:19.941Z"
   },
   {
    "duration": 556,
    "start_time": "2022-01-24T17:44:19.972Z"
   },
   {
    "duration": 3,
    "start_time": "2022-01-24T17:44:20.531Z"
   },
   {
    "duration": 22,
    "start_time": "2022-01-24T17:44:20.538Z"
   },
   {
    "duration": 10,
    "start_time": "2022-01-24T17:44:20.563Z"
   },
   {
    "duration": 460,
    "start_time": "2022-01-24T17:44:20.576Z"
   },
   {
    "duration": 6,
    "start_time": "2022-01-24T17:44:21.038Z"
   },
   {
    "duration": 16,
    "start_time": "2022-01-24T17:44:21.047Z"
   },
   {
    "duration": 14,
    "start_time": "2022-01-24T17:44:21.065Z"
   },
   {
    "duration": 713,
    "start_time": "2022-01-24T17:44:21.082Z"
   },
   {
    "duration": 445,
    "start_time": "2022-01-24T17:44:21.798Z"
   },
   {
    "duration": 25,
    "start_time": "2022-01-24T17:44:22.246Z"
   },
   {
    "duration": 15,
    "start_time": "2022-01-24T17:44:22.274Z"
   },
   {
    "duration": 8,
    "start_time": "2022-01-24T17:44:22.291Z"
   },
   {
    "duration": 434,
    "start_time": "2022-01-24T17:44:22.301Z"
   },
   {
    "duration": 575,
    "start_time": "2022-01-24T17:44:22.738Z"
   },
   {
    "duration": 8,
    "start_time": "2022-01-24T17:44:23.316Z"
   },
   {
    "duration": 44,
    "start_time": "2022-01-24T17:44:23.326Z"
   },
   {
    "duration": 6,
    "start_time": "2022-01-24T17:44:23.372Z"
   },
   {
    "duration": 11,
    "start_time": "2022-01-24T17:44:23.380Z"
   },
   {
    "duration": 12,
    "start_time": "2022-01-24T17:44:23.393Z"
   },
   {
    "duration": 56,
    "start_time": "2022-01-24T17:44:23.408Z"
   },
   {
    "duration": 14,
    "start_time": "2022-01-24T17:44:23.467Z"
   },
   {
    "duration": 13,
    "start_time": "2022-01-24T17:44:23.484Z"
   },
   {
    "duration": 10,
    "start_time": "2022-01-24T17:44:23.499Z"
   },
   {
    "duration": 61,
    "start_time": "2022-01-24T17:44:23.511Z"
   }
  ],
  "kernelspec": {
   "display_name": "Python 3 (ipykernel)",
   "language": "python",
   "name": "python3"
  },
  "language_info": {
   "codemirror_mode": {
    "name": "ipython",
    "version": 3
   },
   "file_extension": ".py",
   "mimetype": "text/x-python",
   "name": "python",
   "nbconvert_exporter": "python",
   "pygments_lexer": "ipython3",
   "version": "3.9.7"
  },
  "toc": {
   "base_numbering": 1,
   "nav_menu": {},
   "number_sections": true,
   "sideBar": true,
   "skip_h1_title": true,
   "title_cell": "Table of Contents",
   "title_sidebar": "Contents",
   "toc_cell": false,
   "toc_position": {
    "height": "calc(100% - 180px)",
    "left": "10px",
    "top": "150px",
    "width": "352.594px"
   },
   "toc_section_display": true,
   "toc_window_display": false
  }
 },
 "nbformat": 4,
 "nbformat_minor": 2
}
